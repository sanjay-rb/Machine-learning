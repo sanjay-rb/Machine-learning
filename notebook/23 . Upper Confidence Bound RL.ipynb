{
 "cells": [
  {
   "cell_type": "markdown",
   "id": "baef6ef1",
   "metadata": {},
   "source": [
    "# Reinforcement Learning"
   ]
  },
  {
   "cell_type": "markdown",
   "id": "5932c4fe",
   "metadata": {},
   "source": [
    "- Reinforcement Learning is a powerful branch of Machine Learning. \n",
    "- It is used to solve interacting problems where the data observed up to time t is considered to decide which action to take at time t + 1. \n",
    "- It is also used for Artificial Intelligence when training machines to perform tasks such as walking. Desired outcomes provide the AI with reward, undesired with punishment. Machines learn through trial and error."
   ]
  },
  {
   "cell_type": "markdown",
   "id": "007ab73c",
   "metadata": {},
   "source": [
    "## Why RL ?"
   ]
  },
  {
   "cell_type": "markdown",
   "id": "1e362443",
   "metadata": {},
   "source": [
    "- With the help of Reinforcement learning we can solve multiple problems like,\n",
    "1. Train the bot to react as per the Environment\n",
    "    > **Example 1** : Train a robot dog to walk, RL will give rewards 🍗 when it's reach the designation else punishment or no rewards 😥.\n",
    "    \n",
    "    > **Example 2** : Train an AI opponent on tic-tac-toe game in game environment against the human moves. RL will give rewards ✨ when its move makes human to loss the game else punishment or no rewards 😥.\n",
    "2. To select the best one from the choice given, based on the t (time) experience.\n",
    "    > **Example 1** : To select the best slot machine which gives us a profit on casino. 🎰 \n",
    "\n",
    "    > **Example 2** : To select the most catchy advertisement which gives reach to product. 📈\n",
    "3. Not only these, Reinforcement learning helps the bot to learn and understand itself in many use cases.\n"
   ]
  },
  {
   "cell_type": "markdown",
   "id": "01e719d2",
   "metadata": {},
   "source": [
    "## The Multi-Armed Bandit Problem"
   ]
  },
  {
   "cell_type": "markdown",
   "id": "a02de16f",
   "metadata": {},
   "source": [
    "- Bandit means Robber 😂, then Multi-Armed Bandit means multi handed robber 😂. Pretty funny name right ?\n",
    "- Let me introduce the most dangerous robber, who take 70% (probably) of money from every one who meet him.\n",
    "- One and only **Armed Bandit**\n",
    "\n",
    "<img src=\"../static/slot_machine.jpg\" alt=\"slot_machine.jpg\" width=\"350\">\n",
    "\n",
    "- Yes, slot machine is our **Armed Bandit**.\n",
    "- If you have one \"Armed Bandit\" then you will play with that even it is profit or loss.\n",
    "- But, what if you have multi \"Armed Bandit\" then probably you may get confusion to choose the one which gives us profit. \n",
    " \n",
    "<img src=\"../static/slot_machine.jpg\" alt=\"slot_machine.jpg\" width=\"100\"><img src=\"../static/slot_machine.jpg\" alt=\"slot_machine.jpg\" width=\"100\"><img src=\"../static/slot_machine.jpg\" alt=\"slot_machine.jpg\" width=\"100\"><img src=\"../static/slot_machine.jpg\" alt=\"slot_machine.jpg\" width=\"100\"><img src=\"../static/slot_machine.jpg\" alt=\"slot_machine.jpg\" width=\"100\">\n",
    "\n",
    "- This problem is called as **the multi-armed bandit problem**."
   ]
  },
  {
   "cell_type": "markdown",
   "id": "b620dfab",
   "metadata": {},
   "source": [
    "## Solving Multi-Armed Bandit Problem"
   ]
  },
  {
   "cell_type": "markdown",
   "id": "fe7da04c",
   "metadata": {},
   "source": [
    "- We may have same doubt and confusion on many cases, like.\n",
    "    1. Which is the best advertisement for the product?\n",
    "    1. An AI bot need to charge up, and it has a doubt to choose the best power socket because each one of them return different power supply?\n",
    "- For all those things we don't have input & we don't know the results!\n",
    "- So, in these cases we can get help from reinforcement learning's **Upper Confidence Bound** algorithm to find the best one."
   ]
  }
 ],
 "metadata": {
  "kernelspec": {
   "display_name": "Python 3",
   "language": "python",
   "name": "python3"
  },
  "language_info": {
   "codemirror_mode": {
    "name": "ipython",
    "version": 3
   },
   "file_extension": ".py",
   "mimetype": "text/x-python",
   "name": "python",
   "nbconvert_exporter": "python",
   "pygments_lexer": "ipython3",
   "version": "3.8.8"
  }
 },
 "nbformat": 4,
 "nbformat_minor": 5
}
