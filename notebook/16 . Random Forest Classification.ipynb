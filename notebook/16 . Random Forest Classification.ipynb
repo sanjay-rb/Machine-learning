{
 "cells": [
  {
   "cell_type": "markdown",
   "id": "d00ca570",
   "metadata": {},
   "source": [
    "# Random Forest Classification"
   ]
  },
  {
   "cell_type": "markdown",
   "id": "7a465536",
   "metadata": {},
   "source": [
    "- Random Forest is the collection of **randomly trained decision trees** and finds the best out of that by the average.\n",
    "- Hence, random forest is the version of **ensemble learning**! Yes, ensemble learning is the process of training the same or different algorithm multiple times and selecting the best out of it.\n",
    "- Algorithm type: **Regression**\n",
    "- Number of the independent variable (X) = **N**\n",
    "- Number of dependent variable (Y) = **1**\n",
    "## Steps\n",
    "1. Pick at random K data points from the Training set\n",
    "2. Build the Decision Tree associated with these K data points\n",
    "3. Choose the number Ntree for tree you want to build and repeat STEPS 1 & 2\n",
    "4. For a new data point, make each one of your Ntree trees predicts the value of Y for the data point in question and assign the new data point the average across all of the predicted Y values. "
   ]
  },
  {
   "cell_type": "markdown",
   "id": "658b12dd",
   "metadata": {},
   "source": [
    "## Illustration\n",
    "- Let assume that we have two different decision trees build on different data points.\n",
    "- From the given picture, we can understand that one tree is tall and another has wide branches.\n",
    "\n",
    "<img src=\"../static/random_forest_tree_illution_1.png\" alt=\"random_forest_tree_illution_1.png\" width=\"500\">\n",
    "<img src=\"../static/random_forest_tree_illution_2.png\" alt=\"random_forest_tree_illution_2.png\" width=\"500\">\n",
    "\n",
    "- Similarly, we can generate an N number decision tree from the input dataset.\n",
    "- But, We all know the forest is the combination of multiple trees. 🌳🌲🌴🎋 -> 🏕️\n",
    "\n",
    "<img src=\"../static/random_forest_illution.png\" alt=\"random_forest_illution.png\" width=\"1000\">"
   ]
  },
  {
   "cell_type": "markdown",
   "id": "12937636",
   "metadata": {},
   "source": [
    "## Data preprocessing\n",
    "\n",
    "✔️ Import the necessary libraries.\n",
    "\n",
    "✔️ Load dataset (Social_Network_Ads.csv).\n",
    "\n",
    "❌ Our dataset doesn't have any missing data.\n",
    "\n",
    "❌ Our dataset doesn't have any string data.\n",
    "\n",
    "✔️ We have 400 data. So, we can split and have 75% for the training set and 25% for the testing set.\n",
    "\n",
    "✔️ Applying feature scaling for the dataset will improve the performance of the model."
   ]
  },
  {
   "cell_type": "code",
   "execution_count": 1,
   "id": "6a5534bb",
   "metadata": {},
   "outputs": [],
   "source": [
    "# Import libraries....\n",
    "import numpy as np\n",
    "import matplotlib.pyplot as plt\n",
    "import pandas as pd\n",
    "\n",
    "# setting two digits after decimal point...\n",
    "np.set_printoptions(precision=2)"
   ]
  },
  {
   "cell_type": "code",
   "execution_count": 2,
   "id": "6021e1a0",
   "metadata": {},
   "outputs": [],
   "source": [
    "# Load dataset...\n",
    "dataset = pd.read_csv(r\"../dataset/Social_Network_Ads.csv\")\n",
    "X = dataset.iloc[:, :-1].values # [row, column]\n",
    "y = dataset.iloc[:, -1].values"
   ]
  },
  {
   "cell_type": "code",
   "execution_count": 3,
   "id": "65c276dd",
   "metadata": {},
   "outputs": [],
   "source": [
    "# Split testing and training dataset...\n",
    "from sklearn.model_selection import train_test_split\n",
    "X_train, X_test, y_train, y_test = train_test_split(X, y, test_size=0.25, random_state=0)"
   ]
  },
  {
   "cell_type": "code",
   "execution_count": 4,
   "id": "4868d81b",
   "metadata": {},
   "outputs": [],
   "source": [
    "# Performing feature scaling for the independent variable...\n",
    "# Dependent variable y is already having 0's & 1's...\n",
    "from sklearn.preprocessing import StandardScaler\n",
    "x_sc = StandardScaler()\n",
    "X_train = x_sc.fit_transform(X_train)\n",
    "X_test = x_sc.transform(X_test)"
   ]
  },
  {
   "cell_type": "markdown",
   "id": "03f8fd59",
   "metadata": {},
   "source": [
    "## Train Random Forest Classification Model\n",
    "- We are using scikit-learn's [sklearn.ensemble.RandomForestClassifier](https://scikit-learn.org/stable/modules/generated/sklearn.ensemble.RandomForestClassifier.html#sklearn.ensemble.RandomForestClassifier) module.\n"
   ]
  },
  {
   "cell_type": "code",
   "execution_count": 5,
   "id": "5ee4a41a",
   "metadata": {},
   "outputs": [
    {
     "data": {
      "text/plain": [
       "RandomForestClassifier(criterion='entropy', n_estimators=10, random_state=0)"
      ]
     },
     "execution_count": 5,
     "metadata": {},
     "output_type": "execute_result"
    }
   ],
   "source": [
    "from sklearn.ensemble import RandomForestClassifier\n",
    "random_forest_calssifier = RandomForestClassifier(n_estimators = 10, criterion = 'entropy', random_state=0) # n_estimators -> number of trees to train the forest\n",
    "random_forest_calssifier.fit(X_train, y_train)"
   ]
  },
  {
   "cell_type": "markdown",
   "id": "b7064142",
   "metadata": {},
   "source": [
    "## Predict New Value"
   ]
  },
  {
   "cell_type": "code",
   "execution_count": 6,
   "id": "16117ad8",
   "metadata": {},
   "outputs": [
    {
     "name": "stdout",
     "output_type": "stream",
     "text": [
      "Y Prediction :  [0]\n"
     ]
    }
   ],
   "source": [
    "print(\"Y Prediction : \", random_forest_calssifier.predict(x_sc.transform([[35,20000]])))"
   ]
  },
  {
   "cell_type": "markdown",
   "id": "d6e42491",
   "metadata": {},
   "source": [
    "## Test Naive Bayes Model"
   ]
  },
  {
   "cell_type": "code",
   "execution_count": 7,
   "id": "cfb0873a",
   "metadata": {},
   "outputs": [
    {
     "name": "stdout",
     "output_type": "stream",
     "text": [
      "Comparison of y_pred & y_test\n",
      "[[0 0]\n",
      " [0 0]\n",
      " [0 0]\n",
      " [0 0]\n",
      " [0 0]\n",
      " [0 0]\n",
      " [0 0]\n",
      " [1 1]\n",
      " [0 0]\n",
      " [1 0]\n",
      " [0 0]\n",
      " [0 0]\n",
      " [0 0]\n",
      " [0 0]\n",
      " [0 0]\n",
      " [1 0]\n",
      " [1 0]\n",
      " [0 0]\n",
      " [1 1]\n",
      " [0 0]\n",
      " [0 0]\n",
      " [1 1]\n",
      " [0 0]\n",
      " [1 1]\n",
      " [0 0]\n",
      " [0 1]\n",
      " [0 0]\n",
      " [0 0]\n",
      " [0 0]\n",
      " [0 0]\n",
      " [0 0]\n",
      " [0 1]\n",
      " [1 1]\n",
      " [0 0]\n",
      " [0 0]\n",
      " [0 0]\n",
      " [0 0]\n",
      " [0 0]\n",
      " [0 0]\n",
      " [1 1]\n",
      " [0 0]\n",
      " [0 0]\n",
      " [0 0]\n",
      " [0 0]\n",
      " [1 1]\n",
      " [0 0]\n",
      " [0 0]\n",
      " [1 1]\n",
      " [0 0]\n",
      " [1 1]\n",
      " [1 1]\n",
      " [0 0]\n",
      " [0 0]\n",
      " [1 0]\n",
      " [1 1]\n",
      " [1 1]\n",
      " [0 0]\n",
      " [0 0]\n",
      " [1 1]\n",
      " [0 0]\n",
      " [0 0]\n",
      " [1 1]\n",
      " [0 0]\n",
      " [1 1]\n",
      " [0 0]\n",
      " [1 1]\n",
      " [0 0]\n",
      " [0 0]\n",
      " [0 0]\n",
      " [0 0]\n",
      " [1 1]\n",
      " [0 0]\n",
      " [0 0]\n",
      " [1 1]\n",
      " [0 0]\n",
      " [0 0]\n",
      " [0 0]\n",
      " [0 0]\n",
      " [1 1]\n",
      " [1 1]\n",
      " [1 1]\n",
      " [1 0]\n",
      " [0 0]\n",
      " [0 0]\n",
      " [1 1]\n",
      " [0 1]\n",
      " [0 0]\n",
      " [1 1]\n",
      " [1 1]\n",
      " [0 0]\n",
      " [0 0]\n",
      " [1 1]\n",
      " [0 0]\n",
      " [0 0]\n",
      " [0 0]\n",
      " [0 1]\n",
      " [0 0]\n",
      " [1 1]\n",
      " [1 1]\n",
      " [1 1]]\n"
     ]
    }
   ],
   "source": [
    "y_pred = random_forest_calssifier.predict(X_test)\n",
    "print(\"Comparison of y_pred & y_test\", np.concatenate((y_pred.reshape(len(y_pred), 1), y_test.reshape(len(y_test), 1)), 1), sep='\\n')"
   ]
  },
  {
   "cell_type": "markdown",
   "id": "0ba0c26d",
   "metadata": {},
   "source": [
    "## Create Confusion Matrix"
   ]
  },
  {
   "cell_type": "code",
   "execution_count": 8,
   "id": "b78f1300",
   "metadata": {},
   "outputs": [
    {
     "name": "stdout",
     "output_type": "stream",
     "text": [
      "Confusion Matrix : \n",
      "[[63  5]\n",
      " [ 4 28]]\n",
      "Detail view of matrix : \n",
      "Expect 0 Predict 0 : 63\n",
      "Expect 1 Predict 0 : 5\n",
      "Expect 0 Predict 1 : 4\n",
      "Expect 1 Predict 1 : 28\n"
     ]
    }
   ],
   "source": [
    "from sklearn.metrics import confusion_matrix\n",
    "matrix = confusion_matrix(y_true=y_test, y_pred=y_pred)\n",
    "print(\"Confusion Matrix : \")\n",
    "print(matrix)\n",
    "\n",
    "# Detail view of matrix\n",
    "print(\"Detail view of matrix : \")\n",
    "NO_OF_CATEGORY = len(set(y_test))\n",
    "for i in range(NO_OF_CATEGORY):\n",
    "    for j in range(NO_OF_CATEGORY):\n",
    "        print(f\"Expect {j}\", f\"Predict {i}\", \":\", matrix[i][j])"
   ]
  },
  {
   "cell_type": "markdown",
   "id": "66516df1",
   "metadata": {},
   "source": [
    "## Classification Accuracy Score"
   ]
  },
  {
   "cell_type": "code",
   "execution_count": 9,
   "id": "edf240c0",
   "metadata": {},
   "outputs": [
    {
     "name": "stdout",
     "output_type": "stream",
     "text": [
      "0.91\n"
     ]
    }
   ],
   "source": [
    "from sklearn.metrics import accuracy_score\n",
    "print(accuracy_score(y_true=y_test, y_pred=y_pred))"
   ]
  },
  {
   "cell_type": "markdown",
   "id": "8c908230",
   "metadata": {},
   "source": [
    "## Classification Report"
   ]
  },
  {
   "cell_type": "code",
   "execution_count": 10,
   "id": "dd81c2b4",
   "metadata": {},
   "outputs": [
    {
     "name": "stdout",
     "output_type": "stream",
     "text": [
      "                  precision    recall  f1-score   support\n",
      "\n",
      "             Age       0.94      0.93      0.93        68\n",
      "Estimated Salary       0.85      0.88      0.86        32\n",
      "\n",
      "        accuracy                           0.91       100\n",
      "       macro avg       0.89      0.90      0.90       100\n",
      "    weighted avg       0.91      0.91      0.91       100\n",
      "\n"
     ]
    }
   ],
   "source": [
    "from sklearn.metrics import classification_report\n",
    "print(classification_report(y_true=y_test, y_pred=y_pred, target_names=['Age', 'Estimated Salary']))"
   ]
  },
  {
   "cell_type": "markdown",
   "id": "2870fc37",
   "metadata": {},
   "source": [
    "## Visualising Train Set Result"
   ]
  },
  {
   "cell_type": "code",
   "execution_count": 11,
   "id": "515ec6a1",
   "metadata": {},
   "outputs": [
    {
     "data": {
      "image/png": "[encoded data removed]",
      "text/plain": [
       "<Figure size 432x288 with 1 Axes>"
      ]
     },
     "metadata": {
      "needs_background": "light"
     },
     "output_type": "display_data"
    }
   ],
   "source": [
    "for i in zip(x_sc.inverse_transform(X_train), y_train):\n",
    "    X = i[0]\n",
    "    y = i[1]\n",
    "    y_pred = random_forest_calssifier.predict(x_sc.transform([X]))\n",
    "    if y == y_pred[0]:\n",
    "        plt.scatter(\n",
    "            x=X[0], y=X[1], marker='o',\n",
    "            color=('#8B0000', '#006400')[y_pred[0]], \n",
    "            label=('Not Purchased (Predicted)', 'Purchased (Predicted)')[y_pred[0]]\n",
    "        )\n",
    "    else:\n",
    "        plt.scatter(\n",
    "            x=X[0], y=X[1], marker='P',\n",
    "            color=('#FF0000', '#00FF00')[y_pred[0]], \n",
    "            label=('Not Purchased (Wrong Predicted)', 'Purchased (Wrong Predicted)')[y_pred[0]]\n",
    "        )\n",
    "plt.title(\"Kernel SVC (Training dataset)\")\n",
    "plt.xlabel(\"Age\")\n",
    "plt.ylabel(\"Estimated Salary\")\n",
    "\n",
    "handles, labels = plt.gca().get_legend_handles_labels()\n",
    "label_dict = dict(zip(labels, handles))\n",
    "by_label = {key:label_dict[key] for key in sorted(label_dict)}\n",
    "plt.legend(by_label.values(), by_label.keys(), loc='upper right', edgecolor=\"black\", bbox_to_anchor=(1.65, 1))\n",
    "plt.show()"
   ]
  },
  {
   "cell_type": "markdown",
   "id": "c9aec68b",
   "metadata": {},
   "source": [
    "## Visualising Test Set Result"
   ]
  },
  {
   "cell_type": "code",
   "execution_count": 12,
   "id": "2be242f9",
   "metadata": {},
   "outputs": [
    {
     "data": {
      "image/png": "[encoded data removed]",
      "text/plain": [
       "<Figure size 432x288 with 1 Axes>"
      ]
     },
     "metadata": {
      "needs_background": "light"
     },
     "output_type": "display_data"
    }
   ],
   "source": [
    "for i in zip(x_sc.inverse_transform(X_test), y_test):\n",
    "    X = i[0]\n",
    "    y = i[1]\n",
    "    y_pred = random_forest_calssifier.predict(x_sc.transform([X]))\n",
    "    if y == y_pred[0]:\n",
    "        plt.scatter(\n",
    "            x=X[0], y=X[1], marker='o',\n",
    "            color=('#8B0000', '#006400')[y_pred[0]], \n",
    "            label=('Not Purchased (Predicted)', 'Purchased (Predicted)')[y_pred[0]]\n",
    "        )\n",
    "    else:\n",
    "        plt.scatter(\n",
    "            x=X[0], y=X[1], marker='P',\n",
    "            color=('#FF0000', '#00FF00')[y_pred[0]], \n",
    "            label=('Not Purchased (Wrong Predicted)', 'Purchased (Wrong Predicted)')[y_pred[0]]\n",
    "        )\n",
    "plt.title(\"Kernel SVC (Testing dataset)\")\n",
    "plt.xlabel(\"Age\")\n",
    "plt.ylabel(\"Estimated Salary\")\n",
    "\n",
    "handles, labels = plt.gca().get_legend_handles_labels()\n",
    "label_dict = dict(zip(labels, handles))\n",
    "by_label = {key:label_dict[key] for key in sorted(label_dict)}\n",
    "plt.legend(by_label.values(), by_label.keys(), loc='upper right', edgecolor=\"black\", bbox_to_anchor=(1.65, 1))\n",
    "plt.show()"
   ]
  }
 ],
 "metadata": {
  "kernelspec": {
   "display_name": "Python 3",
   "language": "python",
   "name": "python3"
  },
  "language_info": {
   "codemirror_mode": {
    "name": "ipython",
    "version": 3
   },
   "file_extension": ".py",
   "mimetype": "text/x-python",
   "name": "python",
   "nbconvert_exporter": "python",
   "pygments_lexer": "ipython3",
   "version": "3.9.7"
  }
 },
 "nbformat": 4,
 "nbformat_minor": 5
}
