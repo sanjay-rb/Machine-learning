{
 "cells": [
  {
   "cell_type": "markdown",
   "id": "d00ca570",
   "metadata": {},
   "source": [
    "# Classification Model Selection"
   ]
  },
  {
   "cell_type": "markdown",
   "id": "76dda459",
   "metadata": {},
   "source": [
    "## Data preprocessing\n",
    "\n",
    "✔️ Import the necessary libraries.\n",
    "\n",
    "✔️ Load dataset (Breast_Cancer.csv).\n",
    "\n",
    "❌ Our dataset doesn't have any missing data.\n",
    "\n",
    "❌ Our dataset doesn't have any string data.\n",
    "\n",
    "✔️ We have 684 data. So, we can split and have 75% for the training set and 25% for the testing set. \n",
    "\n",
    "✔️ Applying feature scaling for the dataset will improve the performance of the model."
   ]
  },
  {
   "cell_type": "code",
   "execution_count": 33,
   "id": "4cd8f5f4",
   "metadata": {},
   "outputs": [],
   "source": [
    "# Import libraries....\n",
    "import numpy as np\n",
    "import matplotlib.pyplot as plt\n",
    "import pandas as pd\n",
    "\n",
    "# setting two digits after decimal point...\n",
    "np.set_printoptions(precision=2)"
   ]
  },
  {
   "cell_type": "code",
   "execution_count": 34,
   "id": "024eb714",
   "metadata": {},
   "outputs": [],
   "source": [
    "# Load dataset...\n",
    "dataset = pd.read_csv(r\"../dataset/Breast_Cancer.csv\")\n",
    "X = dataset.iloc[:, :-1].values # [row, column]\n",
    "y = dataset.iloc[:, -1].values"
   ]
  },
  {
   "cell_type": "code",
   "execution_count": 35,
   "id": "138123e9",
   "metadata": {},
   "outputs": [],
   "source": [
    "# Split testing and training dataset...\n",
    "from sklearn.model_selection import train_test_split\n",
    "X_train, X_test, y_train, y_test = train_test_split(X, y, test_size=0.25, random_state=0)"
   ]
  },
  {
   "cell_type": "code",
   "execution_count": 36,
   "id": "1f3926c8",
   "metadata": {},
   "outputs": [],
   "source": [
    "# Performing feature scaling for the independent variable...\n",
    "from sklearn.preprocessing import StandardScaler\n",
    "x_sc = StandardScaler()\n",
    "X_train = x_sc.fit_transform(X_train)\n",
    "X_test = x_sc.transform(X_test)"
   ]
  },
  {
   "cell_type": "markdown",
   "id": "2aef8f27",
   "metadata": {},
   "source": [
    "## Train and evaluate the performance of Logistic Regression Classification\n"
   ]
  },
  {
   "cell_type": "code",
   "execution_count": 37,
   "id": "fe24929b",
   "metadata": {},
   "outputs": [
    {
     "name": "stdout",
     "output_type": "stream",
     "text": [
      "[[103   4]\n",
      " [  5  59]]\n",
      "R^2 score for Logistic Regression Classification : 0.9473684210526315\n"
     ]
    }
   ],
   "source": [
    "# Training....\n",
    "from sklearn.linear_model import  LogisticRegression\n",
    "logistic_regression_calssifier = LogisticRegression()\n",
    "logistic_regression_calssifier.fit(X_train, y_train)\n",
    "\n",
    "# Testing....\n",
    "y_pred = logistic_regression_calssifier.predict(X_test)\n",
    "\n",
    "# Confusion Matrix....\n",
    "from sklearn.metrics import confusion_matrix\n",
    "print(confusion_matrix(y_true=y_test, y_pred=y_pred))\n",
    "\n",
    "# Score....\n",
    "from sklearn.metrics import accuracy_score\n",
    "acc_logistic_regression_classification = accuracy_score(y_true=y_test, y_pred=y_pred)\n",
    "print(\"R^2 score for Logistic Regression Classification :\", acc_logistic_regression_classification)"
   ]
  },
  {
   "cell_type": "markdown",
   "id": "27446f3b",
   "metadata": {},
   "source": [
    "## Train and evaluate the performance of K Nearest Neighbor Classification"
   ]
  },
  {
   "cell_type": "code",
   "execution_count": 38,
   "id": "329c8ff5",
   "metadata": {},
   "outputs": [
    {
     "name": "stdout",
     "output_type": "stream",
     "text": [
      "[[103   4]\n",
      " [  5  59]]\n",
      "R^2 score for Logistic Regression Classification : 0.9473684210526315\n"
     ]
    }
   ],
   "source": [
    "# Training....\n",
    "from sklearn.neighbors import KNeighborsClassifier\n",
    "k_nn_calssifier = KNeighborsClassifier(n_neighbors=5, p=2, metric=\"minkowski\")\n",
    "k_nn_calssifier.fit(X_train, y_train)\n",
    "\n",
    "# Testing....\n",
    "y_pred = k_nn_calssifier.predict(X_test)\n",
    "\n",
    "# Confusion Matrix....\n",
    "from sklearn.metrics import confusion_matrix\n",
    "print(confusion_matrix(y_true=y_test, y_pred=y_pred))\n",
    "\n",
    "# Score....\n",
    "from sklearn.metrics import accuracy_score\n",
    "acc_k_nearest_neighbor_classification = accuracy_score(y_true=y_test, y_pred=y_pred)\n",
    "print(\"R^2 score for Logistic Regression Classification :\", acc_k_nearest_neighbor_classification)"
   ]
  }
 ],
 "metadata": {
  "kernelspec": {
   "display_name": "Python 3",
   "language": "python",
   "name": "python3"
  },
  "language_info": {
   "codemirror_mode": {
    "name": "ipython",
    "version": 3
   },
   "file_extension": ".py",
   "mimetype": "text/x-python",
   "name": "python",
   "nbconvert_exporter": "python",
   "pygments_lexer": "ipython3",
   "version": "3.9.7"
  }
 },
 "nbformat": 4,
 "nbformat_minor": 5
}
