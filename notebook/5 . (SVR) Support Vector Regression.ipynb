{
 "cells": [
  {
   "cell_type": "markdown",
   "metadata": {},
   "source": [
    "# (SVR) Support Vector Regression\n",
    "- SVR is the regression model has an extra tube called **Ɛ-Insensitive Tube** on the length of Ɛ take perpendicular to the regression line. Data within the tube are not considered but all the points outside the tube are **Support Vectors**\n",
    "- Algorithm Type: **Regression**\n",
    "- Number of the independent variable (X) = **linear : 1 | non-linear : n**\n",
    "- Number of dependent variable (Y) = **1**\n",
    "- Book for reference : [link](https://core.ac.uk/download/pdf/81523322.pdf)\n",
    "- Below image will differentiate between simple linear regression and SVR. Where the left graph is generated on simple regression and the right graph is generated on the SVR equation on the same dataset. \n",
    "\n",
    "\n",
    "<img src=\"../static/svr_intuition.png\" alt=\"svr_intuition.png\" width=\"800\" height=\"500\" > "
   ]
  },
  {
   "cell_type": "markdown",
   "metadata": {},
   "source": [
    "## Non - Linear SVR\n",
    "- Above example is only for linear SVR with one feature and one dependent variable.\n",
    "- If we have multiple feature's algorithm will be changed to non-linear SVR, then there will be 3rd dimensions will be stake place.\n",
    "\n",
    "<img src=\"https://miro.medium.com/max/1400/0*KDfShUSJPVgeYOXT.png\" alt=\"non-linear-svr\">"
   ]
  },
  {
   "cell_type": "markdown",
   "metadata": {},
   "source": [
    "## Data preprocessing\n",
    "- Import the necessary libraries.\n",
    "- Load dataset (Position_Salaries.csv).\n",
    "- Our dataset doesn't have any missing so, we can skip that step.\n",
    "- We have categorical string data, but they are already labeled in another column called Level so, we can skip that step as well.\n",
    "- We only have 10 data when we split this dataset into training and test, our algorithm doesn't give proper prediction! So, we can skip this step as well.\n",
    "- SVR regression algorithms are an equation type but, it does not have any constant to make the model standardize, so we need feature scaling for this algorithm for better performance."
   ]
  },
  {
   "cell_type": "code",
   "execution_count": 1,
   "metadata": {},
   "outputs": [],
   "source": [
    "# import lib\n",
    "import numpy as np\n",
    "import matplotlib.pyplot as plt\n",
    "import pandas as pd "
   ]
  },
  {
   "cell_type": "code",
   "execution_count": 2,
   "metadata": {},
   "outputs": [
    {
     "name": "stdout",
     "output_type": "stream",
     "text": [
      "Dataset\n",
      "            Position  Level   Salary\n",
      "0   Business Analyst      1    45000\n",
      "1  Junior Consultant      2    50000\n",
      "2  Senior Consultant      3    60000\n",
      "3            Manager      4    80000\n",
      "4    Country Manager      5   110000\n",
      "5     Region Manager      6   150000\n",
      "6            Partner      7   200000\n",
      "7     Senior Partner      8   300000\n",
      "8            C-level      9   500000\n",
      "9                CEO     10  1000000\n",
      "X\n",
      "[[ 1]\n",
      " [ 2]\n",
      " [ 3]\n",
      " [ 4]\n",
      " [ 5]\n",
      " [ 6]\n",
      " [ 7]\n",
      " [ 8]\n",
      " [ 9]\n",
      " [10]]\n",
      "Y\n",
      "[  45000   50000   60000   80000  110000  150000  200000  300000  500000\n",
      " 1000000]\n"
     ]
    }
   ],
   "source": [
    "# load data set\n",
    "dataset = pd.read_csv(r\"../dataset/Position_Salaries.csv\")\n",
    "X = dataset.iloc[:, 1:-1].values # [row, column]\n",
    "Y = dataset.iloc[:, -1].values\n",
    "print(\"Dataset\", dataset, \"X\", X, \"Y\", Y, sep=\"\\n\")"
   ]
  },
  {
   "cell_type": "markdown",
   "metadata": {},
   "source": [
    "## Feature scaling independent variables"
   ]
  },
  {
   "cell_type": "code",
   "execution_count": 3,
   "metadata": {},
   "outputs": [
    {
     "name": "stdout",
     "output_type": "stream",
     "text": [
      "[[-1.5666989 ]\n",
      " [-1.21854359]\n",
      " [-0.87038828]\n",
      " [-0.52223297]\n",
      " [-0.17407766]\n",
      " [ 0.17407766]\n",
      " [ 0.52223297]\n",
      " [ 0.87038828]\n",
      " [ 1.21854359]\n",
      " [ 1.5666989 ]]\n"
     ]
    }
   ],
   "source": [
    "# Feature scaling independent variables\n",
    "from sklearn.preprocessing import StandardScaler\n",
    "x_sc = StandardScaler()\n",
    "X = x_sc.fit_transform(X)\n",
    "print(X)"
   ]
  },
  {
   "cell_type": "markdown",
   "metadata": {},
   "source": [
    "## Feature scaling dependent variables"
   ]
  },
  {
   "cell_type": "code",
   "execution_count": 4,
   "metadata": {},
   "outputs": [
    {
     "name": "stdout",
     "output_type": "stream",
     "text": [
      "Expected 2D array, got 1D array instead:\n",
      "array=[  45000.   50000.   60000.   80000.  110000.  150000.  200000.  300000.\n",
      "  500000. 1000000.].\n",
      "Reshape your data either using array.reshape(-1, 1) if your data has a single feature or array.reshape(1, -1) if it contains a single sample.\n"
     ]
    }
   ],
   "source": [
    "# oops error ! \n",
    "try:\n",
    "    y_sc = StandardScaler()\n",
    "    Y = y_sc.fit_transform(Y)\n",
    "    print(Y)\n",
    "except ValueError as e:\n",
    "    print(e)\n"
   ]
  },
  {
   "cell_type": "markdown",
   "metadata": {},
   "source": [
    "```StandardScaler.fit_transform()``` expect 2D array! So, we need convert Y to 2D array"
   ]
  },
  {
   "cell_type": "code",
   "execution_count": 5,
   "metadata": {},
   "outputs": [
    {
     "name": "stdout",
     "output_type": "stream",
     "text": [
      "[[  45000]\n",
      " [  50000]\n",
      " [  60000]\n",
      " [  80000]\n",
      " [ 110000]\n",
      " [ 150000]\n",
      " [ 200000]\n",
      " [ 300000]\n",
      " [ 500000]\n",
      " [1000000]]\n"
     ]
    }
   ],
   "source": [
    "# reshape 1d Y to 2d Y\n",
    "Y = Y.reshape(len(Y), 1) # some.reshape(row, column)\n",
    "print(Y)"
   ]
  },
  {
   "cell_type": "code",
   "execution_count": 6,
   "metadata": {},
   "outputs": [
    {
     "name": "stdout",
     "output_type": "stream",
     "text": [
      "[[-0.72004253]\n",
      " [-0.70243757]\n",
      " [-0.66722767]\n",
      " [-0.59680786]\n",
      " [-0.49117815]\n",
      " [-0.35033854]\n",
      " [-0.17428902]\n",
      " [ 0.17781001]\n",
      " [ 0.88200808]\n",
      " [ 2.64250325]]\n"
     ]
    }
   ],
   "source": [
    "# Feature scaling dependent variables\n",
    "y_sc = StandardScaler()\n",
    "Y = y_sc.fit_transform(Y)\n",
    "print(Y)"
   ]
  },
  {
   "cell_type": "code",
   "execution_count": 7,
   "metadata": {},
   "outputs": [
    {
     "name": "stdout",
     "output_type": "stream",
     "text": [
      "[-0.72004253 -0.70243757 -0.66722767 -0.59680786 -0.49117815 -0.35033854\n",
      " -0.17428902  0.17781001  0.88200808  2.64250325]\n"
     ]
    }
   ],
   "source": [
    "# Convert 2D y to 1D y....\n",
    "Y = Y.ravel() \n",
    "print(Y)"
   ]
  },
  {
   "cell_type": "markdown",
   "metadata": {},
   "source": [
    "## Train Linear SVR Regression Model\n",
    "- In SVR we need kernal functions to implement it. Yes, there are lot many type of [kernal functions](https://data-flair.training/blogs/svm-kernel-functions/) are there. One we are going to use now is RBF kernal functions. "
   ]
  },
  {
   "cell_type": "code",
   "execution_count": 8,
   "metadata": {},
   "outputs": [
    {
     "data": {
      "text/plain": [
       "SVR()"
      ]
     },
     "execution_count": 8,
     "metadata": {},
     "output_type": "execute_result"
    }
   ],
   "source": [
    "from sklearn.svm import SVR\n",
    "svr_regressor = SVR(kernel='rbf')\n",
    "svr_regressor.fit(X, Y)"
   ]
  },
  {
   "cell_type": "markdown",
   "metadata": {},
   "source": [
    "## Test Linear SVR Regression Model"
   ]
  },
  {
   "cell_type": "code",
   "execution_count": 9,
   "metadata": {},
   "outputs": [
    {
     "name": "stdout",
     "output_type": "stream",
     "text": [
      "[ 73474.15615697  70786.94584626  88213.00902103 108254.98574956\n",
      " 122574.52250599 145503.10688572 209410.23132923 330606.89204569\n",
      " 471671.95587315 557821.75899897]\n"
     ]
    }
   ],
   "source": [
    "y_pred = svr_regressor.predict(X)\n",
    "y_pred = y_sc.inverse_transform(y_pred) # to revert the feature scaling on Y....\n",
    "print(y_pred)"
   ]
  },
  {
   "cell_type": "markdown",
   "metadata": {},
   "source": [
    "## Check and visualize result"
   ]
  },
  {
   "cell_type": "code",
   "execution_count": 10,
   "metadata": {},
   "outputs": [
    {
     "data": {
      "image/png": "[encoded data removed]",
      "text/plain": [
       "<Figure size 432x288 with 1 Axes>"
      ]
     },
     "metadata": {
      "needs_background": "light"
     },
     "output_type": "display_data"
    }
   ],
   "source": [
    "X_grid = np.arange(min(x_sc.inverse_transform(X)), max(x_sc.inverse_transform(X)), 0.1)\n",
    "X_grid = X_grid.reshape((len(X_grid), 1))\n",
    "\n",
    "plt.scatter( x_sc.inverse_transform(X), y_sc.inverse_transform(Y), color = 'red')\n",
    "plt.plot(X_grid, y_sc.inverse_transform(svr_regressor.predict(x_sc.transform(X_grid))), color = 'purple')\n",
    "plt.title(\"Salary vs Position (Support Vector Regression)\")\n",
    "plt.xlabel(\"Position Level\")\n",
    "plt.ylabel(\"Salary\")\n",
    "plt.show()"
   ]
  },
  {
   "cell_type": "markdown",
   "metadata": {},
   "source": [
    "## Test with new data"
   ]
  },
  {
   "cell_type": "code",
   "execution_count": 11,
   "metadata": {},
   "outputs": [
    {
     "name": "stdout",
     "output_type": "stream",
     "text": [
      "[170370.0204065]\n"
     ]
    }
   ],
   "source": [
    "y_pred = svr_regressor.predict(x_sc.transform([[6.5]]))\n",
    "y_pred = y_sc.inverse_transform(y_pred)\n",
    "print(y_pred)"
   ]
  }
 ],
 "metadata": {
  "interpreter": {
   "hash": "b3ba2566441a7c06988d0923437866b63cedc61552a5af99d1f4fb67d367b25f"
  },
  "kernelspec": {
   "display_name": "Python 3.8.8 64-bit ('base': conda)",
   "name": "python3"
  },
  "language_info": {
   "codemirror_mode": {
    "name": "ipython",
    "version": 3
   },
   "file_extension": ".py",
   "mimetype": "text/x-python",
   "name": "python",
   "nbconvert_exporter": "python",
   "pygments_lexer": "ipython3",
   "version": "3.9.7"
  }
 },
 "nbformat": 4,
 "nbformat_minor": 5
}
