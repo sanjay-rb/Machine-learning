{
 "cells": [
  {
   "cell_type": "markdown",
   "source": [
    "# Regression Model Selection\r\n",
    "- We have 5 different regression model, but which is best and more effective model/algorithm for the dataset (Combined_Cycle_Power_Plant.csv) 😕?\r\n",
    "- No worries, we answer that question in this **Regression Model Selection** notebook."
   ],
   "metadata": {}
  },
  {
   "cell_type": "markdown",
   "source": [
    "## R square (R^2)\r\n",
    "- R square is the factor which evaluate the result of the model and give the score out of 1.\r\n",
    "\r\n",
    "<img src=\"../images/r_squared_eqn.png\" alt=\"r_squared_eqn.png\">"
   ],
   "metadata": {}
  },
  {
   "cell_type": "markdown",
   "source": [
    "## Data preprocessing\r\n",
    "\r\n",
    "✔️ Import the necessary libraries.\r\n",
    "\r\n",
    "✔️ Load dataset (Combined_Cycle_Power_Plant.csv).\r\n",
    "\r\n",
    "❌ Our dataset doesn't have any missing data.\r\n",
    "\r\n",
    "❌ We have categorical string data.\r\n",
    "\r\n",
    "✔️ We have 9569 data. So, we can split this dataset into testing and training datasets to evaluate the result.\r\n",
    "\r\n",
    "⚠️ Please apply feature scaling only if required by the regression model."
   ],
   "metadata": {}
  },
  {
   "cell_type": "code",
   "execution_count": 1,
   "source": [
    "# Import libraries....\r\n",
    "import numpy as np\r\n",
    "import matplotlib.pyplot as plt\r\n",
    "import pandas as pd"
   ],
   "outputs": [],
   "metadata": {}
  },
  {
   "cell_type": "code",
   "execution_count": 2,
   "source": [
    "# Load dataset....\r\n",
    "dataset = pd.read_csv(r\"../dataset/Combined_Cycle_Power_Plant.csv\")\r\n",
    "X = dataset.iloc[:, :-1].values # [row, column]\r\n",
    "Y = dataset.iloc[:, -1].values"
   ],
   "outputs": [],
   "metadata": {}
  },
  {
   "cell_type": "code",
   "execution_count": 3,
   "source": [
    "# Split training and testing dataset....\r\n",
    "from sklearn.model_selection import train_test_split\r\n",
    "x_train, x_test, y_train, y_test = train_test_split(X, Y, test_size=0.2)"
   ],
   "outputs": [],
   "metadata": {}
  },
  {
   "cell_type": "markdown",
   "source": [
    "## Train and evaluate the performance of multiple linear regression"
   ],
   "metadata": {}
  },
  {
   "cell_type": "code",
   "execution_count": 4,
   "source": [
    "# Train multiple linear regression model...\r\n",
    "from sklearn.linear_model import LinearRegression\r\n",
    "multiple_linear_regressor = LinearRegression()\r\n",
    "multiple_linear_regressor.fit(x_train, y_train)\r\n",
    "\r\n",
    "# Test multiple linear regression model...\r\n",
    "y_pred = multiple_linear_regressor.predict(x_test)\r\n",
    "\r\n",
    "# Check the result...\r\n",
    "np.set_printoptions(precision=2)\r\n",
    "print(\"Comparison of y_test & y_pred\", np.concatenate((y_pred.reshape(len(y_pred), 1), y_test.reshape(len(y_test), 1)), 1), sep='\\n')\r\n",
    "\r\n",
    "# Find preformance by R^2 score...\r\n",
    "from sklearn.metrics import r2_score\r\n",
    "multiple_linear_regression_r2_score = r2_score(y_test, y_pred)\r\n",
    "print(\"R^2 score\", multiple_linear_regression_r2_score)"
   ],
   "outputs": [
    {
     "output_type": "stream",
     "name": "stdout",
     "text": [
      "Comparison of y_test & y_pred\n",
      "[[442.69 436.54]\n",
      " [483.76 485.43]\n",
      " [481.63 486.91]\n",
      " ...\n",
      " [450.02 447.46]\n",
      " [445.43 440.42]\n",
      " [444.72 442.02]]\n",
      "R^2 score 0.9289049198241702\n"
     ]
    }
   ],
   "metadata": {}
  },
  {
   "cell_type": "markdown",
   "source": [
    "## Train and evaluate the performance of polynomial linear regression"
   ],
   "metadata": {}
  },
  {
   "cell_type": "code",
   "execution_count": 5,
   "source": [
    "# Converting normal feature x to x^n ...\r\n",
    "from sklearn.preprocessing import PolynomialFeatures\r\n",
    "x_ploy_convertor = PolynomialFeatures(degree=4)\r\n",
    "\r\n",
    "# Train polynomial linear regression model...\r\n",
    "from sklearn.linear_model import LinearRegression\r\n",
    "polynomial_linear_regressor = LinearRegression()\r\n",
    "polynomial_linear_regressor.fit(x_ploy_convertor.fit_transform(x_train), y_train)\r\n",
    "\r\n",
    "# Test polynomial linear regression model...\r\n",
    "y_pred = polynomial_linear_regressor.predict(x_ploy_convertor.fit_transform(x_test))\r\n",
    "\r\n",
    "# Check the result...\r\n",
    "np.set_printoptions(precision=2)\r\n",
    "print(\"Comparison of y_test & y_pred\", np.concatenate((y_pred.reshape(len(y_pred), 1), y_test.reshape(len(y_test), 1)), 1), sep='\\n')\r\n",
    "\r\n",
    "# Find preformance by R^2 score...\r\n",
    "from sklearn.metrics import r2_score\r\n",
    "polynomial_linear_regression_r2_score = r2_score(y_test, y_pred)\r\n",
    "print(\"R^2 score\", polynomial_linear_regression_r2_score)"
   ],
   "outputs": [
    {
     "output_type": "stream",
     "name": "stdout",
     "text": [
      "Comparison of y_test & y_pred\n",
      "[[443.16 436.54]\n",
      " [485.66 485.43]\n",
      " [483.27 486.91]\n",
      " ...\n",
      " [447.07 447.46]\n",
      " [446.17 440.42]\n",
      " [445.37 442.02]]\n",
      "R^2 score 0.9419544431773555\n"
     ]
    }
   ],
   "metadata": {}
  },
  {
   "cell_type": "code",
   "execution_count": null,
   "source": [],
   "outputs": [],
   "metadata": {}
  }
 ],
 "metadata": {
  "kernelspec": {
   "name": "python3",
   "display_name": "Python 3.8.8 64-bit ('base': conda)"
  },
  "language_info": {
   "codemirror_mode": {
    "name": "ipython",
    "version": 3
   },
   "file_extension": ".py",
   "mimetype": "text/x-python",
   "name": "python",
   "nbconvert_exporter": "python",
   "pygments_lexer": "ipython3",
   "version": "3.8.8"
  },
  "interpreter": {
   "hash": "b3ba2566441a7c06988d0923437866b63cedc61552a5af99d1f4fb67d367b25f"
  }
 },
 "nbformat": 4,
 "nbformat_minor": 5
}