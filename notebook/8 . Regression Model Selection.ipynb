{
 "cells": [
  {
   "cell_type": "markdown",
   "source": [
    "# Regression Model Selection\r\n",
    "- We have 5 different regression model, but which is best and more effective model/algorithm for the dataset (Combined_Cycle_Power_Plant.csv) 😕?\r\n",
    "- No worries, we answer that question in this **Regression Model Selection** notebook."
   ],
   "metadata": {}
  },
  {
   "cell_type": "markdown",
   "source": [
    "## R square (R^2)\r\n",
    "- R square is the factor which evaluate the result of the model and give the score out of 1.\r\n",
    "\r\n",
    "<img src=\"../images/r_squared_eqn.png\" alt=\"r_squared_eqn.png\">"
   ],
   "metadata": {}
  },
  {
   "cell_type": "markdown",
   "source": [
    "## Data preprocessing\r\n",
    "\r\n",
    "✔️ Import the necessary libraries.\r\n",
    "\r\n",
    "✔️ Load dataset (Combined_Cycle_Power_Plant.csv).\r\n",
    "\r\n",
    "❌ Our dataset doesn't have any missing data.\r\n",
    "\r\n",
    "❌ We have categorical string data.\r\n",
    "\r\n",
    "✔️ We have 9569 data. So, we can split this dataset into testing and training datasets to evaluate the result.\r\n",
    "\r\n",
    "⚠️ Please apply feature scaling only if required by the regression model."
   ],
   "metadata": {}
  },
  {
   "cell_type": "code",
   "execution_count": 1,
   "source": [
    "# Import libraries....\r\n",
    "import numpy as np\r\n",
    "import matplotlib.pyplot as plt\r\n",
    "import pandas as pd"
   ],
   "outputs": [],
   "metadata": {}
  },
  {
   "cell_type": "code",
   "execution_count": 2,
   "source": [
    "# Load dataset....\r\n",
    "dataset = pd.read_csv(r\"../dataset/Combined_Cycle_Power_Plant.csv\")\r\n",
    "X = dataset.iloc[:, :-1].values # [row, column]\r\n",
    "Y = dataset.iloc[:, -1].values"
   ],
   "outputs": [],
   "metadata": {}
  },
  {
   "cell_type": "code",
   "execution_count": 3,
   "source": [
    "# Split training and testing dataset....\r\n",
    "from sklearn.model_selection import train_test_split\r\n",
    "x_train, x_test, y_train, y_test = train_test_split(X, Y, test_size=0.2)"
   ],
   "outputs": [],
   "metadata": {}
  },
  {
   "cell_type": "markdown",
   "source": [
    "## Train and evaluate the performance of multiple linear regression"
   ],
   "metadata": {}
  },
  {
   "cell_type": "code",
   "execution_count": 4,
   "source": [
    "# Train multiple linear regression model...\r\n",
    "from sklearn.linear_model import LinearRegression\r\n",
    "multiple_linear_regressor = LinearRegression()\r\n",
    "multiple_linear_regressor.fit(x_train, y_train)\r\n",
    "\r\n",
    "# Test multiple linear regression model...\r\n",
    "y_pred = multiple_linear_regressor.predict(x_test)\r\n",
    "\r\n",
    "# Check the result...\r\n",
    "np.set_printoptions(precision=2)\r\n",
    "print(\"Comparison of y_test & y_pred\", np.concatenate((y_pred.reshape(len(y_pred), 1), y_test.reshape(len(y_test), 1)), 1), sep='\\n')\r\n",
    "\r\n",
    "# Find preformance by R^2 score...\r\n",
    "from sklearn.metrics import r2_score\r\n",
    "multiple_linear_regression_r2_score = r2_score(y_test, y_pred)\r\n",
    "print(\"R^2 score for Multiple linear regression : \", multiple_linear_regression_r2_score)"
   ],
   "outputs": [
    {
     "output_type": "stream",
     "name": "stdout",
     "text": [
      "Comparison of y_test & y_pred\n",
      "[[445.27 442.32]\n",
      " [440.64 445.64]\n",
      " [432.32 429.59]\n",
      " ...\n",
      " [481.14 482.21]\n",
      " [443.1  440.68]\n",
      " [463.99 468.4 ]]\n",
      "R^2 score for Multiple linear regression :  0.9301213220397643\n"
     ]
    }
   ],
   "metadata": {}
  },
  {
   "cell_type": "markdown",
   "source": [
    "## Train and evaluate the performance of polynomial linear regression"
   ],
   "metadata": {}
  },
  {
   "cell_type": "code",
   "execution_count": 5,
   "source": [
    "# Converting normal feature x to x^n ...\r\n",
    "from sklearn.preprocessing import PolynomialFeatures\r\n",
    "x_ploy_convertor = PolynomialFeatures(degree=4)\r\n",
    "\r\n",
    "# Train polynomial linear regression model...\r\n",
    "from sklearn.linear_model import LinearRegression\r\n",
    "polynomial_linear_regressor = LinearRegression()\r\n",
    "polynomial_linear_regressor.fit(x_ploy_convertor.fit_transform(x_train), y_train)\r\n",
    "\r\n",
    "# Test polynomial linear regression model...\r\n",
    "y_pred = polynomial_linear_regressor.predict(x_ploy_convertor.fit_transform(x_test))\r\n",
    "\r\n",
    "# Check the result...\r\n",
    "np.set_printoptions(precision=2)\r\n",
    "print(\"Comparison of y_test & y_pred\", np.concatenate((y_pred.reshape(len(y_pred), 1), y_test.reshape(len(y_test), 1)), 1), sep='\\n')\r\n",
    "\r\n",
    "# Find preformance by R^2 score...\r\n",
    "from sklearn.metrics import r2_score\r\n",
    "polynomial_linear_regression_r2_score = r2_score(y_test, y_pred)\r\n",
    "print(\"R^2 score for Ploynomial linear regression : \", polynomial_linear_regression_r2_score)"
   ],
   "outputs": [
    {
     "output_type": "stream",
     "name": "stdout",
     "text": [
      "Comparison of y_test & y_pred\n",
      "[[443.77 442.32]\n",
      " [440.99 445.64]\n",
      " [433.2  429.59]\n",
      " ...\n",
      " [484.41 482.21]\n",
      " [443.49 440.68]\n",
      " [462.3  468.4 ]]\n",
      "R^2 score for Ploynomial linear regression :  0.9407971284242803\n"
     ]
    }
   ],
   "metadata": {}
  },
  {
   "cell_type": "markdown",
   "source": [
    "## Train and evaluate the performance of (SVR) Support Vector regression"
   ],
   "metadata": {}
  },
  {
   "cell_type": "code",
   "execution_count": 6,
   "source": [
    "# Feature scaling independent variables\r\n",
    "from sklearn.preprocessing import StandardScaler\r\n",
    "x_sc = StandardScaler()\r\n",
    "scaled_X = x_sc.fit_transform(x_train)\r\n",
    "\r\n",
    "# Feature scaling dependent variables\r\n",
    "y_sc = StandardScaler()\r\n",
    "scaled_Y = y_sc.fit_transform(y_train.reshape(len(y_train), 1)).ravel()\r\n",
    "\r\n",
    "# Train Linear SVR Regression Model\r\n",
    "from sklearn.svm import SVR\r\n",
    "svr_regressor = SVR(kernel='rbf')\r\n",
    "svr_regressor.fit(scaled_X, scaled_Y)\r\n",
    "\r\n",
    "# Test Linear SVR Regression Model\r\n",
    "y_pred = svr_regressor.predict(x_test)\r\n",
    "y_pred = y_sc.inverse_transform(y_pred)\r\n",
    "\r\n",
    "# Check the result...\r\n",
    "np.set_printoptions(precision=2)\r\n",
    "print(\"Comparison of y_test & y_pred\", np.concatenate((y_pred.reshape(len(y_pred), 1), y_test.reshape(len(y_test), 1)), 1), sep='\\n')\r\n",
    "\r\n",
    "# Find preformance by R^2 score...\r\n",
    "from sklearn.metrics import r2_score\r\n",
    "svr_linear_regression_r2_score = r2_score(y_test, y_pred)\r\n",
    "print(\"R^2 score for SVR linear regression : \", svr_linear_regression_r2_score)\r\n"
   ],
   "outputs": [
    {
     "output_type": "stream",
     "name": "stdout",
     "text": [
      "Comparison of y_test & y_pred\n",
      "[[456.57 442.32]\n",
      " [456.57 445.64]\n",
      " [456.57 429.59]\n",
      " ...\n",
      " [456.57 482.21]\n",
      " [456.57 440.68]\n",
      " [456.57 468.4 ]]\n",
      "R^2 score for SVR linear regression :  -0.01091284839544615\n"
     ]
    }
   ],
   "metadata": {}
  },
  {
   "cell_type": "markdown",
   "source": [
    "## Train and evaluate the performance of Decision Tree Regression"
   ],
   "metadata": {}
  },
  {
   "cell_type": "code",
   "execution_count": 7,
   "source": [
    "# Train Decision Tree Regression Model\r\n",
    "from sklearn.tree import DecisionTreeRegressor\r\n",
    "regressor = DecisionTreeRegressor()\r\n",
    "regressor.fit(x_train, y_train)\r\n",
    "\r\n",
    "# Test Decision Tree Regression Model\r\n",
    "y_pred = regressor.predict(x_test)\r\n",
    "\r\n",
    "# Check the result...\r\n",
    "np.set_printoptions(precision=2)\r\n",
    "print(\"Comparison of y_test & y_pred\", np.concatenate((y_pred.reshape(len(y_pred), 1), y_test.reshape(len(y_test), 1)), 1), sep='\\n')\r\n",
    "\r\n",
    "# Find preformance by R^2 score...\r\n",
    "from sklearn.metrics import r2_score\r\n",
    "decision_tree_regression_r2_score = r2_score(y_test, y_pred)\r\n",
    "print(\"R^2 score for Decision tree regression : \", decision_tree_regression_r2_score)"
   ],
   "outputs": [
    {
     "output_type": "stream",
     "name": "stdout",
     "text": [
      "Comparison of y_test & y_pred\n",
      "[[444.42 442.32]\n",
      " [445.75 445.64]\n",
      " [429.18 429.59]\n",
      " ...\n",
      " [483.12 482.21]\n",
      " [441.21 440.68]\n",
      " [471.24 468.4 ]]\n",
      "R^2 score for Decision tree regression :  0.9289645039577621\n"
     ]
    }
   ],
   "metadata": {}
  },
  {
   "cell_type": "markdown",
   "source": [
    "## Train and evaluate the performance of Random Forest Regression"
   ],
   "metadata": {}
  },
  {
   "cell_type": "code",
   "execution_count": 8,
   "source": [
    "# Train Random Forest Regression Model\r\n",
    "from sklearn.ensemble import RandomForestRegressor\r\n",
    "regressor = RandomForestRegressor(n_estimators = 10) # n_estimators -> number of trees to train the forest\r\n",
    "regressor.fit(x_train, y_train)\r\n",
    "\r\n",
    "# Test Random Forest Regression Model\r\n",
    "y_pred = regressor.predict(x_test)\r\n",
    "\r\n",
    "# Check the result...\r\n",
    "np.set_printoptions(precision=2)\r\n",
    "print(\"Comparison of y_test & y_pred\", np.concatenate((y_pred.reshape(len(y_pred), 1), y_test.reshape(len(y_test), 1)), 1), sep='\\n')\r\n",
    "\r\n",
    "# Find preformance by R^2 score...\r\n",
    "from sklearn.metrics import r2_score\r\n",
    "random_forest_regression_r2_score = r2_score(y_test, y_pred)\r\n",
    "print(\"R^2 score for Random forest regression : \", random_forest_regression_r2_score)"
   ],
   "outputs": [
    {
     "output_type": "stream",
     "name": "stdout",
     "text": [
      "Comparison of y_test & y_pred\n",
      "[[445.2  442.32]\n",
      " [442.96 445.64]\n",
      " [429.61 429.59]\n",
      " ...\n",
      " [483.82 482.21]\n",
      " [443.19 440.68]\n",
      " [467.78 468.4 ]]\n",
      "R^2 score for Random forest regression :  0.9590065187034049\n"
     ]
    }
   ],
   "metadata": {}
  },
  {
   "cell_type": "markdown",
   "source": [
    "## Which is best for given dataset ?"
   ],
   "metadata": {}
  },
  {
   "cell_type": "code",
   "execution_count": 9,
   "source": [
    "r2_scores = {\r\n",
    "    \"Multiple Linear Regression\" : multiple_linear_regression_r2_score, \r\n",
    "    \"Ploynomial Linear Regression\" : polynomial_linear_regression_r2_score, \r\n",
    "    \"SVR\" : svr_linear_regression_r2_score, \r\n",
    "    \"Decision Tree Regression\" : decision_tree_regression_r2_score, \r\n",
    "    \"Random Forest Regression\" : random_forest_regression_r2_score\r\n",
    "}\r\n",
    "# Print final result of all model....\r\n",
    "for model, r2 in r2_scores.items():\r\n",
    "    print(f\"{model} with r^2 score {r2}\")\r\n",
    "\r\n",
    "# find best of them....\r\n",
    "best_of_them = max(r2_scores.values())\r\n",
    "\r\n",
    "# Print best of them....\r\n",
    "for model, r2 in r2_scores.items():\r\n",
    "    if r2 == best_of_them:\r\n",
    "        print_me=f\"{model} is the best model for given dataset 🥳 with R^2 score {r2}\"\r\n",
    "        print(\"🎉\" * (len(print_me) // 2))\r\n",
    "        print(print_me)\r\n",
    "        print(\"🎉\" * (len(print_me) // 2))\r\n",
    "        break"
   ],
   "outputs": [
    {
     "output_type": "stream",
     "name": "stdout",
     "text": [
      "Multiple Linear Regression with r^2 score 0.9301213220397643\n",
      "Ploynomial Linear Regression with r^2 score 0.9407971284242803\n",
      "SVR with r^2 score -0.01091284839544615\n",
      "Decision Tree Regression with r^2 score 0.9289645039577621\n",
      "Random Forest Regression with r^2 score 0.9590065187034049\n",
      "🎉🎉🎉🎉🎉🎉🎉🎉🎉🎉🎉🎉🎉🎉🎉🎉🎉🎉🎉🎉🎉🎉🎉🎉🎉🎉🎉🎉🎉🎉🎉🎉🎉🎉🎉🎉🎉🎉🎉🎉🎉🎉🎉🎉🎉🎉🎉🎉\n",
      "Random Forest Regression is the best model for given dataset 🥳 with R^2 score 0.9590065187034049\n",
      "🎉🎉🎉🎉🎉🎉🎉🎉🎉🎉🎉🎉🎉🎉🎉🎉🎉🎉🎉🎉🎉🎉🎉🎉🎉🎉🎉🎉🎉🎉🎉🎉🎉🎉🎉🎉🎉🎉🎉🎉🎉🎉🎉🎉🎉🎉🎉🎉\n"
     ]
    }
   ],
   "metadata": {}
  },
  {
   "cell_type": "markdown",
   "source": [
    "**Note:** Above result is only for the dataset (Combined_Cycle_Power_Plant.csv) which we were given as the input. If you change the dataset, the result also changes certainly."
   ],
   "metadata": {}
  }
 ],
 "metadata": {
  "kernelspec": {
   "name": "python3",
   "display_name": "Python 3.8.8 64-bit ('base': conda)"
  },
  "language_info": {
   "codemirror_mode": {
    "name": "ipython",
    "version": 3
   },
   "file_extension": ".py",
   "mimetype": "text/x-python",
   "name": "python",
   "nbconvert_exporter": "python",
   "pygments_lexer": "ipython3",
   "version": "3.8.8"
  },
  "interpreter": {
   "hash": "b3ba2566441a7c06988d0923437866b63cedc61552a5af99d1f4fb67d367b25f"
  }
 },
 "nbformat": 4,
 "nbformat_minor": 5
}