{
 "cells": [
  {
   "cell_type": "markdown",
   "id": "d00ca570",
   "metadata": {},
   "source": [
    "# Association Rule Learning"
   ]
  },
  {
   "cell_type": "markdown",
   "id": "513e047a",
   "metadata": {},
   "source": [
    "## People who bought also bought ...\n",
    "- Yes, People who bought bread also bought milk.... \n",
    "- People who bought phone also bought headphones....\n",
    "- People who bought burger also bought french fries....\n",
    "\n",
    "That is what Association Rule Learning will help us figure out!"
   ]
  },
  {
   "cell_type": "markdown",
   "id": "f4b70f91",
   "metadata": {},
   "source": [
    "We are going to look into 2 major Association Rule Learning models.\n",
    "1. Apriori\n",
    "2. Eclat"
   ]
  },
  {
   "cell_type": "code",
   "execution_count": null,
   "id": "8b58b233",
   "metadata": {},
   "outputs": [],
   "source": []
  }
 ],
 "metadata": {
  "kernelspec": {
   "display_name": "Python 3",
   "language": "python",
   "name": "python3"
  },
  "language_info": {
   "codemirror_mode": {
    "name": "ipython",
    "version": 3
   },
   "file_extension": ".py",
   "mimetype": "text/x-python",
   "name": "python",
   "nbconvert_exporter": "python",
   "pygments_lexer": "ipython3",
   "version": "3.9.7"
  }
 },
 "nbformat": 4,
 "nbformat_minor": 5
}
