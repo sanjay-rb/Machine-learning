{
 "cells": [
  {
   "cell_type": "markdown",
   "id": "d00ca570",
   "metadata": {},
   "source": [
    "# Association Rule Learning"
   ]
  },
  {
   "cell_type": "markdown",
   "id": "513e047a",
   "metadata": {},
   "source": [
    "## People who bought also bought ...\n",
    "- Yes, People who bought bread also bought milk.... \n",
    "- People who bought phone also bought headphones....\n",
    "- People who bought burger also bought french fries....\n",
    "\n",
    "That is what Association Rule Learning will help us figure out!"
   ]
  },
  {
   "cell_type": "markdown",
   "id": "f4b70f91",
   "metadata": {},
   "source": [
    "We are going to look into 2 major Association Rule Learning models.\n",
    "1. Apriori\n",
    "2. Eclat"
   ]
  },
  {
   "cell_type": "markdown",
   "id": "9b9b0b7c",
   "metadata": {},
   "source": [
    "# Apriori"
   ]
  },
  {
   "cell_type": "markdown",
   "id": "5198abfa",
   "metadata": {},
   "source": [
    "- Apriori algorithm is dependence on 3 values.\n",
    "    1. Support\n",
    "        \n",
    "        <img src=\"../static/apriori_arl_support.png\" alt=\"apriori_arl_support.png\" width=\"400\">\n",
    "    2. Confidence\n",
    "        \n",
    "        <img src=\"../static/apriori_arl_confidence.png\" alt=\"apriori_arl_confidence.png\" width=\"400\">\n",
    "    3. Lift\n",
    "        \n",
    "        <img src=\"../static/apriori_arl_lift.png\" alt=\"apriori_arl_lift.png\" width=\"400\">"
   ]
  },
  {
   "cell_type": "markdown",
   "id": "5b8b6b47",
   "metadata": {},
   "source": [
    "## Algorithm\n",
    "\n",
    "- **Step 1** : Choose the minimum support value.\n",
    "- **Step 2** : Choose the minimum confidence value.\n",
    "- **Step 3** : Select all the **subset of transaction** which have higher support value than minimum support. \n",
    "- **Step 4** : Select all the **rules of subset** which have higher confidence value than minimum confidence.\n",
    "- **Step 5** : Sort the rules by decreasing lift. \n",
    "- **END** : Your rules are prepared. "
   ]
  },
  {
   "cell_type": "markdown",
   "id": "f754f1ad",
   "metadata": {},
   "source": [
    "## Manual Example\n",
    "\n",
    "| Transaction ID (N=6) | Products |\n",
    "|:--------------:|:--------:|\n",
    "| T0001 | 'Milk', 'Bread', 'Jam', 'Butter' |\n",
    "| T0002 | 'Milk', 'Bread' |\n",
    "| T0003 | 'Milk', 'Bread', 'Butter' |\n",
    "| T0004 | 'Milk', 'Bread' |\n",
    "| T0005 | 'Bread', 'Butter' |\n",
    "| T0006 | 'Milk', 'Jam' |\n",
    "\n",
    "- **Step 1** : Choose the minimum support value.\n",
    "\n",
    "    (Minimum Support = 0.3)\n",
    "\n",
    "- **Step 2** : Choose the minimum confidence value.\n",
    "\n",
    "    (Minimum Confidence = 0.7)\n",
    "\n",
    "- **Step 3** : Select all the **subset of transaction** which have higher support value than minimum support (0.3). \n",
    "\n",
    "| Products | Support(X) = feq(X)/N | Picked |\n",
    "|:--------:|:---------------------:|:------:|\n",
    "| Bread, Butter | 3/6 = 0.5 | ✔️ |\n",
    "| Jam, Milk | 2/6 = 0.333 | ✔️ |\n",
    "| Butter, Jam | 1/6 = 0.166 | ❌ |\n",
    "| Bread, Milk | 4/6 = 0.66 | ✔️ |\n",
    "| Butter, Milk | 2/6 = 0.333 | ✔️ |\n",
    "| Bread, Jam | 1/6 = 0.166 | ❌ |\n",
    "\n",
    "- **Step 4** : Select all the **rules of subset** which have higher confidence value than minimum confidence (0.7).\n",
    "\n",
    "| Products | Confidence(X → Y) = feq(X, Y)/feq(X) | Picked |\n",
    "|:--------:|:-----------------------------------:|:------:|\n",
    "| Bread → Butter | 3/5 = 0.6 | ❌ |\n",
    "| Butter → Bread | 3/3 = 1.0 | ✔️ |\n",
    "| Jam → Milk | 2/2 = 1.0 | ✔️ |\n",
    "| Milk → Jam | 2/5 = 0.4 | ❌ |\n",
    "| Bread → Milk | 4/5 = 0.8 | ✔️ |\n",
    "| Milk → Bread | 4/5 = 0.8 | ✔️ |\n",
    "| Butter → Milk | 2/3 = 0.666 | ❌ |\n",
    "| Milk → Butter | 2/5 = 0.4 | ❌ |\n",
    "\n",
    "- **Step 5** : Sort the rules by decreasing lift. \n",
    "\n",
    "| Products | Lift(X, Y) = Confidence(X, Y)/Support(Y) | Order |\n",
    "|:--------:|:-----------------------------------:|:------:|\n",
    "| Butter → Bread | 1.0 / (5/6) = 1.2 | 1 |\n",
    "| Jam → Milk | 1.0 / (5/6) = 1.12 | 2 |\n",
    "| Bread → Milk | 0.8 / (5/6) = 0.96 | 3 |\n",
    "| Milk → Bread | 0.8 / (5/6) = 0.96 | 4 |\n",
    "    "
   ]
  },
  {
   "cell_type": "markdown",
   "id": "5eec7980",
   "metadata": {},
   "source": [
    "## Importing the libraries"
   ]
  },
  {
   "cell_type": "code",
   "execution_count": 1,
   "id": "06d9f76a",
   "metadata": {},
   "outputs": [],
   "source": [
    "import numpy as np\n",
    "import matplotlib.pyplot as plt\n",
    "import pandas as pd"
   ]
  },
  {
   "cell_type": "code",
   "execution_count": 2,
   "id": "86606020",
   "metadata": {},
   "outputs": [
    {
     "name": "stdout",
     "output_type": "stream",
     "text": [
      "Requirement already satisfied: apyori in c:\\programdata\\anaconda3\\lib\\site-packages (1.1.2)\n",
      "Note: you may need to restart the kernel to use updated packages.\n"
     ]
    }
   ],
   "source": [
    "%pip install apyori"
   ]
  },
  {
   "cell_type": "markdown",
   "id": "3cd9c6c1",
   "metadata": {},
   "source": [
    "## Data Preprocessing\n",
    "\n",
    "- Data preprocess for apriori algorithm is different the normal steps. \n",
    "\n",
    "### Steps:\n",
    "1. Load the dataset with/without header.\n",
    "1. Convert pandas data frame to list of list containing only string values. (Keep empty values as nan)\n"
   ]
  },
  {
   "cell_type": "code",
   "execution_count": 3,
   "id": "bf720d15",
   "metadata": {},
   "outputs": [],
   "source": [
    "# Load the dataset with/without header.\n",
    "dataset = pd.read_csv(r'../dataset/Market_Basket_Optimisation.csv', header = None)\n",
    "\n",
    "# Convert pandas data frame to list of list containing only string values. (Keep empty values as nan)\n",
    "transactions = [[str(value).lower() for value in row] for row in dataset.values]"
   ]
  },
  {
   "cell_type": "markdown",
   "id": "891c0b7a",
   "metadata": {},
   "source": [
    "## Train Apriori ARL Model"
   ]
  },
  {
   "cell_type": "code",
   "execution_count": 4,
   "id": "d4a29698",
   "metadata": {},
   "outputs": [
    {
     "data": {
      "text/plain": [
       "[RelationRecord(items=frozenset({'chicken', 'light cream'}), support=0.004532728969470737, ordered_statistics=[OrderedStatistic(items_base=frozenset({'light cream'}), items_add=frozenset({'chicken'}), confidence=0.29059829059829057, lift=4.84395061728395)]),\n",
       " RelationRecord(items=frozenset({'escalope', 'mushroom cream sauce'}), support=0.005732568990801226, ordered_statistics=[OrderedStatistic(items_base=frozenset({'mushroom cream sauce'}), items_add=frozenset({'escalope'}), confidence=0.3006993006993007, lift=3.790832696715049)]),\n",
       " RelationRecord(items=frozenset({'escalope', 'pasta'}), support=0.005865884548726837, ordered_statistics=[OrderedStatistic(items_base=frozenset({'pasta'}), items_add=frozenset({'escalope'}), confidence=0.3728813559322034, lift=4.700811850163794)]),\n",
       " RelationRecord(items=frozenset({'honey', 'fromage blanc'}), support=0.003332888948140248, ordered_statistics=[OrderedStatistic(items_base=frozenset({'fromage blanc'}), items_add=frozenset({'honey'}), confidence=0.2450980392156863, lift=5.164270764485569)]),\n",
       " RelationRecord(items=frozenset({'herb & pepper', 'ground beef'}), support=0.015997866951073192, ordered_statistics=[OrderedStatistic(items_base=frozenset({'herb & pepper'}), items_add=frozenset({'ground beef'}), confidence=0.3234501347708895, lift=3.2919938411349285)]),\n",
       " RelationRecord(items=frozenset({'ground beef', 'tomato sauce'}), support=0.005332622317024397, ordered_statistics=[OrderedStatistic(items_base=frozenset({'tomato sauce'}), items_add=frozenset({'ground beef'}), confidence=0.3773584905660377, lift=3.840659481324083)]),\n",
       " RelationRecord(items=frozenset({'olive oil', 'light cream'}), support=0.003199573390214638, ordered_statistics=[OrderedStatistic(items_base=frozenset({'light cream'}), items_add=frozenset({'olive oil'}), confidence=0.20512820512820515, lift=3.1147098515519573)]),\n",
       " RelationRecord(items=frozenset({'olive oil', 'whole wheat pasta'}), support=0.007998933475536596, ordered_statistics=[OrderedStatistic(items_base=frozenset({'whole wheat pasta'}), items_add=frozenset({'olive oil'}), confidence=0.2714932126696833, lift=4.122410097642296)]),\n",
       " RelationRecord(items=frozenset({'shrimp', 'pasta'}), support=0.005065991201173177, ordered_statistics=[OrderedStatistic(items_base=frozenset({'pasta'}), items_add=frozenset({'shrimp'}), confidence=0.3220338983050847, lift=4.506672147735896)])]"
      ]
     },
     "execution_count": 4,
     "metadata": {},
     "output_type": "execute_result"
    }
   ],
   "source": [
    "from apyori import apriori\n",
    "rules = apriori(transactions = transactions, min_support = 0.003, min_confidence = 0.2, min_lift = 3, max_length = 2)\n",
    "results = list(rules)\n",
    "results"
   ]
  },
  {
   "cell_type": "markdown",
   "id": "c259fb18",
   "metadata": {},
   "source": [
    "## Visualize result"
   ]
  },
  {
   "cell_type": "markdown",
   "id": "c37e7d23",
   "metadata": {},
   "source": [
    "If we check the `results` we can understand that it is returning RelationRecord object as shown in below.\n",
    "```\n",
    "RelationRecord(\n",
    "    items=frozenset({'chicken', 'light cream'}), \n",
    "    support=0.004532728969470737, \n",
    "    ordered_statistics=[\n",
    "        OrderedStatistic(\n",
    "            items_base=frozenset({'light cream'}), \n",
    "            items_add=frozenset({'chicken'}), \n",
    "            confidence=0.29059829059829057, \n",
    "            lift=4.84395061728395\n",
    "        )\n",
    "    ]\n",
    "),\n",
    "```\n",
    "We need to loop through all the `results` and create new data frame having this information \"Left Side\", \"Right Side\", \"Support\", \"Confidence\", \"Lift\".\n",
    "\n",
    "So, that we can perform sort on \"Lift\" value on top 10 columns.\n"
   ]
  },
  {
   "cell_type": "code",
   "execution_count": 5,
   "id": "88552007",
   "metadata": {},
   "outputs": [
    {
     "data": {
      "text/html": [
       "<div>\n",
       "<style scoped>\n",
       "    .dataframe tbody tr th:only-of-type {\n",
       "        vertical-align: middle;\n",
       "    }\n",
       "\n",
       "    .dataframe tbody tr th {\n",
       "        vertical-align: top;\n",
       "    }\n",
       "\n",
       "    .dataframe thead th {\n",
       "        text-align: right;\n",
       "    }\n",
       "</style>\n",
       "<table border=\"1\" class=\"dataframe\">\n",
       "  <thead>\n",
       "    <tr style=\"text-align: right;\">\n",
       "      <th></th>\n",
       "      <th>Left Side</th>\n",
       "      <th>Right Side</th>\n",
       "      <th>Support</th>\n",
       "      <th>Confidence</th>\n",
       "      <th>Lift</th>\n",
       "    </tr>\n",
       "  </thead>\n",
       "  <tbody>\n",
       "    <tr>\n",
       "      <th>3</th>\n",
       "      <td>fromage blanc</td>\n",
       "      <td>honey</td>\n",
       "      <td>0.003333</td>\n",
       "      <td>0.245098</td>\n",
       "      <td>5.164271</td>\n",
       "    </tr>\n",
       "    <tr>\n",
       "      <th>0</th>\n",
       "      <td>light cream</td>\n",
       "      <td>chicken</td>\n",
       "      <td>0.004533</td>\n",
       "      <td>0.290598</td>\n",
       "      <td>4.843951</td>\n",
       "    </tr>\n",
       "    <tr>\n",
       "      <th>2</th>\n",
       "      <td>pasta</td>\n",
       "      <td>escalope</td>\n",
       "      <td>0.005866</td>\n",
       "      <td>0.372881</td>\n",
       "      <td>4.700812</td>\n",
       "    </tr>\n",
       "    <tr>\n",
       "      <th>8</th>\n",
       "      <td>pasta</td>\n",
       "      <td>shrimp</td>\n",
       "      <td>0.005066</td>\n",
       "      <td>0.322034</td>\n",
       "      <td>4.506672</td>\n",
       "    </tr>\n",
       "    <tr>\n",
       "      <th>7</th>\n",
       "      <td>whole wheat pasta</td>\n",
       "      <td>olive oil</td>\n",
       "      <td>0.007999</td>\n",
       "      <td>0.271493</td>\n",
       "      <td>4.122410</td>\n",
       "    </tr>\n",
       "    <tr>\n",
       "      <th>5</th>\n",
       "      <td>tomato sauce</td>\n",
       "      <td>ground beef</td>\n",
       "      <td>0.005333</td>\n",
       "      <td>0.377358</td>\n",
       "      <td>3.840659</td>\n",
       "    </tr>\n",
       "    <tr>\n",
       "      <th>1</th>\n",
       "      <td>mushroom cream sauce</td>\n",
       "      <td>escalope</td>\n",
       "      <td>0.005733</td>\n",
       "      <td>0.300699</td>\n",
       "      <td>3.790833</td>\n",
       "    </tr>\n",
       "    <tr>\n",
       "      <th>4</th>\n",
       "      <td>herb &amp; pepper</td>\n",
       "      <td>ground beef</td>\n",
       "      <td>0.015998</td>\n",
       "      <td>0.323450</td>\n",
       "      <td>3.291994</td>\n",
       "    </tr>\n",
       "    <tr>\n",
       "      <th>6</th>\n",
       "      <td>light cream</td>\n",
       "      <td>olive oil</td>\n",
       "      <td>0.003200</td>\n",
       "      <td>0.205128</td>\n",
       "      <td>3.114710</td>\n",
       "    </tr>\n",
       "  </tbody>\n",
       "</table>\n",
       "</div>"
      ],
      "text/plain": [
       "              Left Side   Right Side   Support  Confidence      Lift\n",
       "3         fromage blanc        honey  0.003333    0.245098  5.164271\n",
       "0           light cream      chicken  0.004533    0.290598  4.843951\n",
       "2                 pasta     escalope  0.005866    0.372881  4.700812\n",
       "8                 pasta       shrimp  0.005066    0.322034  4.506672\n",
       "7     whole wheat pasta    olive oil  0.007999    0.271493  4.122410\n",
       "5          tomato sauce  ground beef  0.005333    0.377358  3.840659\n",
       "1  mushroom cream sauce     escalope  0.005733    0.300699  3.790833\n",
       "4         herb & pepper  ground beef  0.015998    0.323450  3.291994\n",
       "6           light cream    olive oil  0.003200    0.205128  3.114710"
      ]
     },
     "execution_count": 5,
     "metadata": {},
     "output_type": "execute_result"
    }
   ],
   "source": [
    "data_values = []\n",
    "min_length=2\n",
    "for result in results:\n",
    "    if len(result.items) >= 2 and 'nan' not in list(result.items):\n",
    "        for ostats in result.ordered_statistics:\n",
    "                data_values.append([tuple(ostats.items_base)[0], tuple(ostats.items_add)[0], result.support, ostats.confidence, ostats.lift])     \n",
    "resultsinDataFrame = pd.DataFrame(data_values, columns=[\"Left Side\", \"Right Side\", \"Support\", \"Confidence\", \"Lift\"])\n",
    "resultsinDataFrame = resultsinDataFrame.nlargest(n=10, columns=\"Lift\")\n",
    "resultsinDataFrame"
   ]
  }
 ],
 "metadata": {
  "kernelspec": {
   "display_name": "Python 3",
   "language": "python",
   "name": "python3"
  },
  "language_info": {
   "codemirror_mode": {
    "name": "ipython",
    "version": 3
   },
   "file_extension": ".py",
   "mimetype": "text/x-python",
   "name": "python",
   "nbconvert_exporter": "python",
   "pygments_lexer": "ipython3",
   "version": "3.9.7"
  }
 },
 "nbformat": 4,
 "nbformat_minor": 5
}
