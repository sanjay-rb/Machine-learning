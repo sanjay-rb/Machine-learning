{
 "cells": [
  {
   "cell_type": "markdown",
   "id": "d00ca570",
   "metadata": {},
   "source": [
    "# Kernal Support Vector Machine"
   ]
  },
  {
   "cell_type": "markdown",
   "id": "f89898eb",
   "metadata": {},
   "source": [
    "## Mapping to a higher dimension"
   ]
  },
  {
   "cell_type": "code",
   "execution_count": 1,
   "metadata": {},
   "outputs": [
    {
     "data": {
      "text/html": [
       "<video src=\"../images/higher_dimension_mapping.mp4\" controls  width=\"800\" >\n",
       "      Your browser does not support the <code>video</code> element.\n",
       "    </video>"
      ],
      "text/plain": [
       "<IPython.core.display.Video object>"
      ]
     },
     "execution_count": 1,
     "metadata": {},
     "output_type": "execute_result"
    }
   ],
   "source": [
    "from IPython.display import Video\n",
    "Video(r\"../images/higher_dimension_mapping.mp4\", width=800)"
   ]
  },
  {
   "cell_type": "code",
   "execution_count": 2,
   "id": "7e7e4391",
   "metadata": {},
   "outputs": [],
   "source": [
    "import matplotlib.pyplot as plt"
   ]
  },
  {
   "cell_type": "markdown",
   "id": "2fda24d7",
   "metadata": {},
   "source": [
    "### 1D to 2D"
   ]
  },
  {
   "cell_type": "markdown",
   "id": "0ec2dac7",
   "metadata": {},
   "source": [
    "#### Let assume we have a 1 - dimention dataset (x)"
   ]
  },
  {
   "cell_type": "code",
   "execution_count": 3,
   "id": "72540286",
   "metadata": {},
   "outputs": [
    {
     "data": {
      "image/png": "[encoded data removed]",
      "text/plain": [
       "<Figure size 432x288 with 1 Axes>"
      ]
     },
     "metadata": {
      "needs_background": "light"
     },
     "output_type": "display_data"
    }
   ],
   "source": [
    "x = [1, 1.5, 2, 2.7, 3, 5, 6, 7, 8, 8.5, 8.7, 9]\n",
    "result = [False, False, False, False, False,\n",
    "          True, True, True, False, False, False, False]\n",
    "for i in range(len(x)):\n",
    "    plt.scatter(x=x[i], y=0, color=('red', 'green')[result[i]],)\n",
    "plt.xlim(0)\n",
    "plt.ylim(0)\n",
    "plt.xlabel('x axis')\n",
    "plt.show()"
   ]
  },
  {
   "cell_type": "markdown",
   "id": "bf0bcec8",
   "metadata": {},
   "source": [
    "#### Create mapping function"
   ]
  },
  {
   "cell_type": "code",
   "execution_count": 4,
   "id": "8b5feffc",
   "metadata": {},
   "outputs": [
    {
     "name": "stdout",
     "output_type": "stream",
     "text": [
      "[17, 13.25, 10, 6.289999999999999, 5, 1, 2, 5, 10, 13.25, 14.689999999999994, 17]\n"
     ]
    }
   ],
   "source": [
    "def mappingFunc(X):\n",
    "    '''\n",
    "    y = 1+(x-5)^2\n",
    "    '''\n",
    "    y = []\n",
    "    for x in X:\n",
    "        y.append(1 + (x-5)**2)\n",
    "    return y\n",
    "\n",
    "y = mappingFunc(x)\n",
    "print(y)"
   ]
  },
  {
   "cell_type": "markdown",
   "id": "87b5ee39",
   "metadata": {},
   "source": [
    "#### Let draw 2 - dimentions graph "
   ]
  },
  {
   "cell_type": "code",
   "execution_count": 5,
   "id": "809086c3",
   "metadata": {},
   "outputs": [
    {
     "data": {
      "image/png": "[encoded data removed]",
      "text/plain": [
       "<Figure size 432x288 with 1 Axes>"
      ]
     },
     "metadata": {
      "needs_background": "light"
     },
     "output_type": "display_data"
    }
   ],
   "source": [
    "for i in range(len(x)):\n",
    "    plt.scatter(x=x[i], y=y[i], color=('red', 'green')[result[i]],)\n",
    "plt.xlim(0)\n",
    "plt.ylim(0)\n",
    "plt.xlabel('x axis')\n",
    "plt.ylabel('y axis')\n",
    "plt.show()"
   ]
  },
  {
   "cell_type": "markdown",
   "id": "2497cf98",
   "metadata": {},
   "source": [
    "### 2D to 3D"
   ]
  },
  {
   "cell_type": "markdown",
   "id": "c927f53a",
   "metadata": {},
   "source": [
    "#### Let assume we have a 2 - dimention dataset (x, y)"
   ]
  },
  {
   "cell_type": "code",
   "execution_count": 6,
   "id": "e4f8070d",
   "metadata": {},
   "outputs": [
    {
     "data": {
      "image/png": "[encoded data removed]",
      "text/plain": [
       "<Figure size 432x288 with 1 Axes>"
      ]
     },
     "metadata": {
      "needs_background": "light"
     },
     "output_type": "display_data"
    }
   ],
   "source": [
    "\n",
    "x = [0, 0, 1, 1, 2, 2, 3, 3, 4, 4, 5, 5, 6,\n",
    "     6, 7, 7, 8, 8, 9, 9, 10, 10] + [4, 4.2, 4.4, 5.2, 5.3, 5.5, 5.6, 5.9, 6]\n",
    "y = [5, 6, 4, 7, 3, 8, 2, 9, 1, 10, 1, 10,\n",
    "     1, 10, 2, 9, 3, 8, 4, 7, 5, 6] + [5, 6, 4, 6.5, 6, 5.5, 7, 5, 6]\n",
    "result = [False] * len([0, 0, 1, 1, 2, 2, 3, 3, 4, 4, 5, 5, 6,\n",
    "                        6, 7, 7, 8, 8, 9, 9, 10, 10]) + ([True] * len([5, 6, 4, 6.5, 6, 5.5, 7, 5, 6]))\n",
    "for i in range(len(x)):\n",
    "    plt.scatter(\n",
    "        x=x[i], y=y[i],\n",
    "        color=('red', 'green')[result[i]],\n",
    "    )\n",
    "plt.xlim(0)\n",
    "plt.ylim(0)\n",
    "plt.xlabel('x axis')\n",
    "plt.ylabel('y axis')\n",
    "plt.show()\n"
   ]
  },
  {
   "cell_type": "markdown",
   "id": "e63ffcc8",
   "metadata": {},
   "source": [
    "#### Create mapping function"
   ]
  },
  {
   "cell_type": "code",
   "execution_count": 7,
   "id": "4d20a446",
   "metadata": {},
   "outputs": [
    {
     "name": "stdout",
     "output_type": "stream",
     "text": [
      "[0.06320699811467548, 0.06320699811467548, 0.09332117459848095, 0.09332117459848095, 0.11641646325811678, 0.11641646325811678, 0.11641646325811678, 0.11641646325811678, 0.09332117459848095, 0.09332117459848095, 0.103949893985998, 0.103949893985998, 0.103949893985998, 0.103949893985998, 0.1489799901327614, 0.1489799901327614, 0.17071377539976806, 0.17071377539976806, 0.1489799901327614, 0.1489799901327614, 0.103949893985998, 0.103949893985998, 0.4535864427910235, 0.49836655731065843, 0.39453249898982984, 0.5933236021048307, 0.763945948498702, 1.0, 0.4715808022151302, 0.7260356128328553, 0.7021885013265596]\n"
     ]
    }
   ],
   "source": [
    "from math import sqrt, exp\n",
    "\n",
    "def mappingFunc(X, Y):\n",
    "    '''\n",
    "    z = e ^ -1 * ((distance between point [x, y] and center landmark) / 2 * sigma^2)\n",
    "    Given formula is Gaussian (RBF) Radial Basis Function\n",
    "    '''\n",
    "    landmark = [5.5, 5.5]\n",
    "    sigma = 1\n",
    "    z = []\n",
    "    for x, y in zip(X, Y):\n",
    "        distance = sqrt(((x-landmark[0])**2)+((y-landmark[1])**2))\n",
    "        z.append(exp(-1 * (distance/2*sigma**2)))\n",
    "    return z\n",
    "\n",
    "z = mappingFunc(x, y)\n",
    "print(z)\n"
   ]
  },
  {
   "cell_type": "markdown",
   "id": "178435eb",
   "metadata": {},
   "source": [
    "#### Let draw graph between x and z axis"
   ]
  },
  {
   "cell_type": "code",
   "execution_count": 8,
   "id": "422ec286",
   "metadata": {},
   "outputs": [
    {
     "data": {
      "image/png": "[encoded data removed]",
      "text/plain": [
       "<Figure size 432x288 with 1 Axes>"
      ]
     },
     "metadata": {
      "needs_background": "light"
     },
     "output_type": "display_data"
    }
   ],
   "source": [
    "for i in range(len(x)):\n",
    "    plt.scatter(\n",
    "        x=x[i], y=z[i],\n",
    "        color=('red', 'green')[result[i]],\n",
    "    )\n",
    "plt.xlim(0)\n",
    "plt.ylim(0)\n",
    "plt.xlabel('x axis')\n",
    "plt.ylabel('z axis')\n",
    "plt.show()"
   ]
  },
  {
   "cell_type": "markdown",
   "id": "61ab33e2",
   "metadata": {},
   "source": [
    "#### Let draw 3 - dimentions graph"
   ]
  },
  {
   "cell_type": "code",
   "execution_count": 9,
   "id": "30d843a4",
   "metadata": {},
   "outputs": [
    {
     "data": {
      "text/plain": [
       "Text(0.5, 0, 'z axis')"
      ]
     },
     "execution_count": 9,
     "metadata": {},
     "output_type": "execute_result"
    },
    {
     "data": {
      "image/png": "[encoded data removed]",
      "text/plain": [
       "<Figure size 432x288 with 1 Axes>"
      ]
     },
     "metadata": {
      "needs_background": "light"
     },
     "output_type": "display_data"
    }
   ],
   "source": [
    "threeD = plt.axes(projection='3d')\n",
    "threeD.view_init(5, 20)\n",
    "for i in range(len(x)):\n",
    "    threeD.scatter3D(x[i], y[i], z[i], cmap='viridis',\n",
    "                     color=('red', 'green')[result[i]])\n",
    "threeD.set_xlabel('x axis')\n",
    "threeD.set_ylabel('y axis')\n",
    "threeD.set_zlabel('z axis')"
   ]
  },
  {
   "cell_type": "markdown",
   "id": "2ff94209",
   "metadata": {},
   "source": [
    "## Data preprocessing\n",
    "\n",
    "✔️ Import the necessary libraries.\n",
    "\n",
    "✔️ Load dataset (Social_Network_Ads.csv).\n",
    "\n",
    "❌ Our dataset doesn't have any missing data.\n",
    "\n",
    "❌ Our dataset doesn't have any string data.\n",
    "\n",
    "✔️ We have 400 data. So, we can split and have 75% for the training set and 25% for the testing set.\n",
    "\n",
    "✔️ Applying feature scaling for the dataset will improve the performance of the model."
   ]
  },
  {
   "cell_type": "code",
   "execution_count": 10,
   "id": "b73cb1de",
   "metadata": {},
   "outputs": [],
   "source": [
    "# Import libraries....\n",
    "import numpy as np\n",
    "import matplotlib.pyplot as plt\n",
    "import pandas as pd\n",
    "\n",
    "# setting two digits after decimal point...\n",
    "np.set_printoptions(precision=2)"
   ]
  },
  {
   "cell_type": "code",
   "execution_count": 11,
   "id": "1bd4f7a3",
   "metadata": {},
   "outputs": [],
   "source": [
    "# Load dataset...\n",
    "dataset = pd.read_csv(r\"../dataset/Social_Network_Ads.csv\")\n",
    "X = dataset.iloc[:, :-1].values # [row, column]\n",
    "y = dataset.iloc[:, -1].values"
   ]
  },
  {
   "cell_type": "code",
   "execution_count": 12,
   "id": "553c46cd",
   "metadata": {},
   "outputs": [],
   "source": [
    "# Split testing and training dataset...\n",
    "from sklearn.model_selection import train_test_split\n",
    "X_train, X_test, y_train, y_test = train_test_split(X, y, test_size=0.25, random_state=0)"
   ]
  },
  {
   "cell_type": "code",
   "execution_count": 13,
   "id": "f8bbb5a2",
   "metadata": {},
   "outputs": [],
   "source": [
    "# Performing feature scaling for the independent variable...\n",
    "# Dependent variable y is already having 0's & 1's...\n",
    "from sklearn.preprocessing import StandardScaler\n",
    "x_sc = StandardScaler()\n",
    "X_train = x_sc.fit_transform(X_train)\n",
    "X_test = x_sc.transform(X_test)"
   ]
  },
  {
   "cell_type": "markdown",
   "id": "ce7d2f18",
   "metadata": {},
   "source": [
    "## Train Kernal SVC Model\n",
    "- We are using scikit-learn's [sklearn.svm.SVC](https://scikit-learn.org/stable/modules/generated/sklearn.svm.SVC.html?#sklearn-svm-svc) module.\n"
   ]
  },
  {
   "cell_type": "code",
   "execution_count": 14,
   "id": "571e4062",
   "metadata": {},
   "outputs": [
    {
     "data": {
      "text/plain": [
       "SVC(random_state=0)"
      ]
     },
     "execution_count": 14,
     "metadata": {},
     "output_type": "execute_result"
    }
   ],
   "source": [
    "from sklearn.svm import SVC\n",
    "# please try with follow kernal functions {'poly', 'rbf', 'sigmoid'}\n",
    "svc_calssifier = SVC(kernel=\"rbf\", random_state=0)\n",
    "svc_calssifier.fit(X_train, y_train)\n"
   ]
  },
  {
   "cell_type": "markdown",
   "id": "5849bb48",
   "metadata": {},
   "source": [
    "## Predict New Value"
   ]
  },
  {
   "cell_type": "code",
   "execution_count": 15,
   "id": "853519c7",
   "metadata": {},
   "outputs": [
    {
     "name": "stdout",
     "output_type": "stream",
     "text": [
      "Y Prediction :  [0]\n"
     ]
    }
   ],
   "source": [
    "print(\"Y Prediction : \", svc_calssifier.predict(x_sc.transform([[35,20000]])))"
   ]
  },
  {
   "cell_type": "markdown",
   "id": "019b9ab0",
   "metadata": {},
   "source": [
    "## Test Kernal SVC Model"
   ]
  },
  {
   "cell_type": "code",
   "execution_count": 16,
   "id": "a222de1b",
   "metadata": {},
   "outputs": [
    {
     "name": "stdout",
     "output_type": "stream",
     "text": [
      "Comparison of y_pred & y_test\n",
      "[[0 0]\n",
      " [0 0]\n",
      " [0 0]\n",
      " [0 0]\n",
      " [0 0]\n",
      " [0 0]\n",
      " [0 0]\n",
      " [1 1]\n",
      " [0 0]\n",
      " [1 0]\n",
      " [0 0]\n",
      " [0 0]\n",
      " [0 0]\n",
      " [0 0]\n",
      " [0 0]\n",
      " [1 0]\n",
      " [0 0]\n",
      " [0 0]\n",
      " [1 1]\n",
      " [0 0]\n",
      " [0 0]\n",
      " [1 1]\n",
      " [0 0]\n",
      " [1 1]\n",
      " [0 0]\n",
      " [1 1]\n",
      " [0 0]\n",
      " [0 0]\n",
      " [0 0]\n",
      " [0 0]\n",
      " [0 0]\n",
      " [0 1]\n",
      " [1 1]\n",
      " [0 0]\n",
      " [0 0]\n",
      " [0 0]\n",
      " [0 0]\n",
      " [0 0]\n",
      " [0 0]\n",
      " [1 1]\n",
      " [0 0]\n",
      " [0 0]\n",
      " [0 0]\n",
      " [0 0]\n",
      " [1 1]\n",
      " [0 0]\n",
      " [0 0]\n",
      " [1 1]\n",
      " [0 0]\n",
      " [1 1]\n",
      " [1 1]\n",
      " [0 0]\n",
      " [0 0]\n",
      " [1 0]\n",
      " [1 1]\n",
      " [1 1]\n",
      " [0 0]\n",
      " [0 0]\n",
      " [1 1]\n",
      " [0 0]\n",
      " [0 0]\n",
      " [1 1]\n",
      " [0 0]\n",
      " [1 1]\n",
      " [0 0]\n",
      " [1 1]\n",
      " [0 0]\n",
      " [0 0]\n",
      " [0 0]\n",
      " [0 0]\n",
      " [1 1]\n",
      " [0 0]\n",
      " [0 0]\n",
      " [1 1]\n",
      " [0 0]\n",
      " [0 0]\n",
      " [0 0]\n",
      " [0 0]\n",
      " [1 1]\n",
      " [1 1]\n",
      " [1 1]\n",
      " [1 0]\n",
      " [0 0]\n",
      " [0 0]\n",
      " [1 1]\n",
      " [0 1]\n",
      " [0 0]\n",
      " [1 1]\n",
      " [1 1]\n",
      " [0 0]\n",
      " [0 0]\n",
      " [1 1]\n",
      " [0 0]\n",
      " [0 0]\n",
      " [0 0]\n",
      " [0 1]\n",
      " [0 0]\n",
      " [1 1]\n",
      " [1 1]\n",
      " [1 1]]\n"
     ]
    }
   ],
   "source": [
    "y_pred = svc_calssifier.predict(X_test)\n",
    "print(\"Comparison of y_pred & y_test\", np.concatenate((y_pred.reshape(len(y_pred), 1), y_test.reshape(len(y_test), 1)), 1), sep='\\n')"
   ]
  },
  {
   "cell_type": "markdown",
   "id": "6bc71407",
   "metadata": {},
   "source": [
    "## Create Confusion Matrix"
   ]
  },
  {
   "cell_type": "code",
   "execution_count": 17,
   "id": "a474a578",
   "metadata": {},
   "outputs": [
    {
     "name": "stdout",
     "output_type": "stream",
     "text": [
      "Confusion Matrix : \n",
      "[[64  4]\n",
      " [ 3 29]]\n",
      "Detail view of matrix : \n",
      "Expect 0 Predict 0 : 64\n",
      "Expect 1 Predict 0 : 4\n",
      "Expect 0 Predict 1 : 3\n",
      "Expect 1 Predict 1 : 29\n"
     ]
    }
   ],
   "source": [
    "from sklearn.metrics import confusion_matrix\n",
    "matrix = confusion_matrix(y_true=y_test, y_pred=y_pred)\n",
    "print(\"Confusion Matrix : \")\n",
    "print(matrix)\n",
    "\n",
    "# Detail view of matrix\n",
    "print(\"Detail view of matrix : \")\n",
    "NO_OF_CATEGORY = len(set(y_test))\n",
    "for i in range(NO_OF_CATEGORY):\n",
    "    for j in range(NO_OF_CATEGORY):\n",
    "        print(f\"Expect {j}\", f\"Predict {i}\", \":\", matrix[i][j])"
   ]
  },
  {
   "cell_type": "markdown",
   "id": "54215f6f",
   "metadata": {},
   "source": [
    "## Classification Accuracy Score"
   ]
  },
  {
   "cell_type": "code",
   "execution_count": 18,
   "id": "44cc0861",
   "metadata": {},
   "outputs": [
    {
     "name": "stdout",
     "output_type": "stream",
     "text": [
      "0.93\n"
     ]
    }
   ],
   "source": [
    "from sklearn.metrics import accuracy_score\n",
    "print(accuracy_score(y_true=y_test, y_pred=y_pred))"
   ]
  },
  {
   "cell_type": "markdown",
   "id": "ef3b9091",
   "metadata": {},
   "source": [
    "## Classification Report"
   ]
  },
  {
   "cell_type": "code",
   "execution_count": 19,
   "id": "2b710f04",
   "metadata": {},
   "outputs": [
    {
     "name": "stdout",
     "output_type": "stream",
     "text": [
      "                  precision    recall  f1-score   support\n",
      "\n",
      "             Age       0.96      0.94      0.95        68\n",
      "Estimated Salary       0.88      0.91      0.89        32\n",
      "\n",
      "        accuracy                           0.93       100\n",
      "       macro avg       0.92      0.92      0.92       100\n",
      "    weighted avg       0.93      0.93      0.93       100\n",
      "\n"
     ]
    }
   ],
   "source": [
    "from sklearn.metrics import classification_report\n",
    "print(classification_report(y_true=y_test, y_pred=y_pred, target_names=['Age', 'Estimated Salary']))"
   ]
  },
  {
   "cell_type": "markdown",
   "id": "55c9707f",
   "metadata": {},
   "source": [
    "## Visualising Train Set Result"
   ]
  },
  {
   "cell_type": "code",
   "execution_count": 20,
   "id": "ce7af50c",
   "metadata": {},
   "outputs": [
    {
     "data": {
      "image/png": "[encoded data removed]",
      "text/plain": [
       "<Figure size 432x288 with 1 Axes>"
      ]
     },
     "metadata": {
      "needs_background": "light"
     },
     "output_type": "display_data"
    }
   ],
   "source": [
    "for i in zip(x_sc.inverse_transform(X_train), y_train):\n",
    "    X = i[0]\n",
    "    y = i[1]\n",
    "    y_pred = svc_calssifier.predict(x_sc.transform([X]))\n",
    "    if y == y_pred[0]:\n",
    "        plt.scatter(\n",
    "            x=X[0], y=X[1], marker='o',\n",
    "            color=('#8B0000', '#006400')[y_pred[0]], \n",
    "            label=('Not Purchased (Predicted)', 'Purchased (Predicted)')[y_pred[0]]\n",
    "        )\n",
    "    else:\n",
    "        plt.scatter(\n",
    "            x=X[0], y=X[1], marker='P',\n",
    "            color=('#FF0000', '#00FF00')[y_pred[0]], \n",
    "            label=('Not Purchased (Wrong Predicted)', 'Purchased (Wrong Predicted)')[y_pred[0]]\n",
    "        )\n",
    "plt.title(\"Kernal SVC (Training dataset)\")\n",
    "plt.xlabel(\"Age\")\n",
    "plt.ylabel(\"Estimated Salary\")\n",
    "\n",
    "handles, labels = plt.gca().get_legend_handles_labels()\n",
    "label_dict = dict(zip(labels, handles))\n",
    "by_label = {key:label_dict[key] for key in sorted(label_dict)}\n",
    "plt.legend(by_label.values(), by_label.keys(), loc='upper right', edgecolor=\"black\", bbox_to_anchor=(1.65, 1))\n",
    "plt.show()"
   ]
  },
  {
   "cell_type": "markdown",
   "id": "4764d9e5",
   "metadata": {},
   "source": [
    "## Visualising Test Set Result"
   ]
  },
  {
   "cell_type": "code",
   "execution_count": 21,
   "id": "92de211e",
   "metadata": {},
   "outputs": [
    {
     "data": {
      "image/png": "[encoded data removed]",
      "text/plain": [
       "<Figure size 432x288 with 1 Axes>"
      ]
     },
     "metadata": {
      "needs_background": "light"
     },
     "output_type": "display_data"
    }
   ],
   "source": [
    "for i in zip(x_sc.inverse_transform(X_test), y_test):\n",
    "    X = i[0]\n",
    "    y = i[1]\n",
    "    y_pred = svc_calssifier.predict(x_sc.transform([X]))\n",
    "    if y == y_pred[0]:\n",
    "        plt.scatter(\n",
    "            x=X[0], y=X[1], marker='o',\n",
    "            color=('#8B0000', '#006400')[y_pred[0]], \n",
    "            label=('Not Purchased (Predicted)', 'Purchased (Predicted)')[y_pred[0]]\n",
    "        )\n",
    "    else:\n",
    "        plt.scatter(\n",
    "            x=X[0], y=X[1], marker='P',\n",
    "            color=('#FF0000', '#00FF00')[y_pred[0]], \n",
    "            label=('Not Purchased (Wrong Predicted)', 'Purchased (Wrong Predicted)')[y_pred[0]]\n",
    "        )\n",
    "plt.title(\"Kernal SVC (Testing dataset)\")\n",
    "plt.xlabel(\"Age\")\n",
    "plt.ylabel(\"Estimated Salary\")\n",
    "\n",
    "handles, labels = plt.gca().get_legend_handles_labels()\n",
    "label_dict = dict(zip(labels, handles))\n",
    "by_label = {key:label_dict[key] for key in sorted(label_dict)}\n",
    "plt.legend(by_label.values(), by_label.keys(), loc='upper right', edgecolor=\"black\", bbox_to_anchor=(1.65, 1))\n",
    "plt.show()"
   ]
  }
 ],
 "metadata": {
  "interpreter": {
   "hash": "b3ba2566441a7c06988d0923437866b63cedc61552a5af99d1f4fb67d367b25f"
  },
  "kernelspec": {
   "display_name": "Python 3.8.8 64-bit ('base': conda)",
   "name": "python3"
  },
  "language_info": {
   "codemirror_mode": {
    "name": "ipython",
    "version": 3
   },
   "file_extension": ".py",
   "mimetype": "text/x-python",
   "name": "python",
   "nbconvert_exporter": "python",
   "pygments_lexer": "ipython3",
   "version": "3.8.8"
  }
 },
 "nbformat": 4,
 "nbformat_minor": 5
}
