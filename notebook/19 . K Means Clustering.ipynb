{
 "cells": [
  {
   "cell_type": "markdown",
   "id": "27c67255",
   "metadata": {},
   "source": [
    "# Congratulations to Completing Regression & Classification Module 🥂"
   ]
  },
  {
   "cell_type": "markdown",
   "id": "8bf7aeae",
   "metadata": {},
   "source": [
    "## Clustering\n",
    "\n",
    "- Clustering is similar to classification, but the basis is different. In Clustering **you don’t know what you are looking for**, and you are trying to **identify some segments or clusters** in your data.\n",
    "- When you use clustering algorithms on your dataset, unexpected things can suddenly pop up like structures, clusters and groupings you would have never thought of otherwise.\n",
    "- Let's start with **K-Means Clustering**"
   ]
  },
  {
   "cell_type": "markdown",
   "id": "d00ca570",
   "metadata": {},
   "source": [
    "# K-Means Clustering"
   ]
  },
  {
   "cell_type": "markdown",
   "id": "95e2cbf7",
   "metadata": {},
   "source": [
    "- K-Means Clustering is the most popular clustering algorithm out there.\n",
    "- It will cluster or group the dataset by given number of cluster K."
   ]
  },
  {
   "cell_type": "markdown",
   "id": "50e0379b",
   "metadata": {},
   "source": [
    "## Algorithm\n",
    "\n",
    "- **Step 1** : Choose the number K of cluster.\n",
    "- **Step 2** : Select random K points from the graph which is our centroids. (not necessary from dataset).\n",
    "- **Step 3** : Find the closest data points to the centroids & assign to them. (will form K cluster).\n",
    "- **Step 4** : Place the centroid in center of the cluster.\n",
    "- **Step 5** : Find the closest data points to the new centroids & reassign the label.\n",
    "- **Step 6** : Repeat **Step 4 & 5** if their any reassign to the data points, else END.\n",
    "- **END** : Your model is ready"
   ]
  },
  {
   "cell_type": "markdown",
   "id": "0f2ed58c",
   "metadata": {},
   "source": [
    "## Manual Example"
   ]
  },
  {
   "cell_type": "markdown",
   "id": "f1e8dcc7",
   "metadata": {},
   "source": [
    "|||\n",
    "|:---:|:---:|\n",
    "|<img src=\"../static/k_means_ppt_1.PNG\" alt=\"k_means_ppt_1.PNG\" width=\"400\">|<img src=\"../static/k_means_ppt_2.PNG\" alt=\"k_means_ppt_2.PNG\" width=\"400\">|\n",
    "|<img src=\"../static/k_means_ppt_3.PNG\" alt=\"k_means_ppt_3.PNG\" width=\"400\">|<img src=\"../static/k_means_ppt_4.PNG\" alt=\"k_means_ppt_4.PNG\" width=\"400\">|\n",
    "|<img src=\"../static/k_means_ppt_5.PNG\" alt=\"k_means_ppt_3.PNG\" width=\"400\">|<img src=\"../static/k_means_ppt_6.PNG\" alt=\"k_means_ppt_6.PNG\" width=\"400\">|\n",
    "|<img src=\"../static/k_means_ppt_7.PNG\" alt=\"k_means_ppt_7.PNG\" width=\"400\">|<img src=\"../static/k_means_ppt_8.PNG\" alt=\"k_means_ppt_8.PNG\" width=\"400\">|\n",
    "|<img src=\"../static/k_means_ppt_9.PNG\" alt=\"k_means_ppt_9.PNG\" width=\"400\">|<img src=\"../static/k_means_ppt_10.PNG\" alt=\"k_means_ppt_10.PNG\" width=\"400\">|\n",
    "|<img src=\"../static/k_means_ppt_11.PNG\" alt=\"k_means_ppt_11.PNG\" width=\"400\">|<img src=\"../static/k_means_ppt_12.PNG\" alt=\"k_means_ppt_12.PNG\" width=\"400\">|\n",
    "|<img src=\"../static/k_means_ppt_13.PNG\" alt=\"k_means_ppt_13.PNG\" width=\"400\">|<img src=\"../static/k_means_ppt_14.PNG\" alt=\"k_means_ppt_14.PNG\" width=\"400\">|\n",
    "|<img src=\"../static/k_means_ppt_15.PNG\" alt=\"k_means_ppt_15.PNG\" width=\"400\">|<img src=\"../static/k_means_ppt_16.PNG\" alt=\"k_means_ppt_16.PNG\" width=\"400\">|\n",
    "|||"
   ]
  }
 ],
 "metadata": {
  "kernelspec": {
   "display_name": "Python 3",
   "language": "python",
   "name": "python3"
  },
  "language_info": {
   "codemirror_mode": {
    "name": "ipython",
    "version": 3
   },
   "file_extension": ".py",
   "mimetype": "text/x-python",
   "name": "python",
   "nbconvert_exporter": "python",
   "pygments_lexer": "ipython3",
   "version": "3.8.8"
  }
 },
 "nbformat": 4,
 "nbformat_minor": 5
}
