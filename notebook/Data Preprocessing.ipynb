{
 "cells": [
  {
   "cell_type": "markdown",
   "source": [
    "# Data Preprocessing\r\n",
    "\r\n",
    "- Before going to any Machine Learning Algorithm, we need to do Data Preprocessing steps\r\n",
    "    - Import dataset from the CSV file.  \r\n",
    "    - Split Feature variable (X) & Depended variable (Y).  \r\n",
    "    - Replace missing data.  \r\n",
    "    - Replace string or categorical data.  \r\n",
    "    - Feature scaling.  \r\n",
    "    - Split training and test dataset.  "
   ],
   "metadata": {}
  },
  {
   "cell_type": "markdown",
   "source": [
    "## Import dataset from the CSV file. \r\n",
    "\r\n",
    "- We are using CSV as our dataset file & with the help of the pandas module, we can easily read CSV and have it in a variable called a Dataframe. \r\n",
    "- Dataframe is a cool type provided by pandas where we can do complex operations on any dataset."
   ],
   "metadata": {}
  },
  {
   "cell_type": "code",
   "execution_count": 1,
   "source": [
    "import numpy as np\r\n",
    "import matplotlib.pyplot as plt\r\n",
    "import pandas as pd \r\n",
    "dataset = pd.read_csv(r\"../dataset/Data.csv\")\r\n",
    "print(dataset)"
   ],
   "outputs": [
    {
     "output_type": "stream",
     "name": "stdout",
     "text": [
      "   Country   Age   Salary Purchased\n",
      "0   France  44.0  72000.0        No\n",
      "1    Spain  27.0  48000.0       Yes\n",
      "2  Germany  30.0  54000.0        No\n",
      "3    Spain  38.0  61000.0        No\n",
      "4  Germany  40.0      NaN       Yes\n",
      "5   France  35.0  58000.0       Yes\n",
      "6    Spain   NaN  52000.0        No\n",
      "7   France  48.0  79000.0       Yes\n",
      "8  Germany  50.0  83000.0        No\n",
      "9   France  37.0  67000.0       Yes\n"
     ]
    }
   ],
   "metadata": {}
  },
  {
   "cell_type": "markdown",
   "source": [
    "## Split Feature variable (X) & Depended variable (Y).  \r\n",
    "\r\n",
    "- Feature variable, in-depended variable, input variable are represented as X in the code, which helps to predict Y.\r\n",
    "- Depended variable, output variable are represented as Y in the code, which is the expected prediction from the X.  \r\n",
    "- Most commonly the last column will be the dependent variable Y rest of them will be feature variable X.\r\n",
    "- So, we are splitting the given dataset into X and Y."
   ],
   "metadata": {}
  },
  {
   "cell_type": "code",
   "execution_count": 2,
   "source": [
    "X = dataset.iloc[:, :-1].values # [row, column]\r\n",
    "Y = dataset.iloc[:, -1].values\r\n",
    "print(\"X\", X, \"Y\", Y, sep=\"\\n\")"
   ],
   "outputs": [
    {
     "output_type": "stream",
     "name": "stdout",
     "text": [
      "X\n",
      "[['France' 44.0 72000.0]\n",
      " ['Spain' 27.0 48000.0]\n",
      " ['Germany' 30.0 54000.0]\n",
      " ['Spain' 38.0 61000.0]\n",
      " ['Germany' 40.0 nan]\n",
      " ['France' 35.0 58000.0]\n",
      " ['Spain' nan 52000.0]\n",
      " ['France' 48.0 79000.0]\n",
      " ['Germany' 50.0 83000.0]\n",
      " ['France' 37.0 67000.0]]\n",
      "Y\n",
      "['No' 'Yes' 'No' 'No' 'Yes' 'Yes' 'No' 'Yes' 'No' 'Yes']\n"
     ]
    }
   ],
   "metadata": {}
  },
  {
   "cell_type": "markdown",
   "source": [
    "## Replace missing data\r\n",
    "- As you can see there are some of the cells are empty and they are filled with ```nan``` \r\n",
    "- We need to eliminate or replace those empty cells with the ```strategy```\r\n",
    "- Yes, there are many ```strategy``` like [\"mean\", \"median\", \"most_frequent\", \"constant\"]\r\n",
    "- But, we are going to use a mean strategy to replace all the missing data."
   ],
   "metadata": {}
  },
  {
   "cell_type": "code",
   "execution_count": 3,
   "source": [
    "from sklearn.impute import SimpleImputer\r\n",
    "imputer = SimpleImputer(missing_values=np.nan, strategy=\"mean\")\r\n",
    "imputer.fit(X[:, 1:2+1])\r\n",
    "X[:, 1:2+1] = imputer.transform(X[:, 1:2+1])\r\n",
    "print(X)"
   ],
   "outputs": [
    {
     "output_type": "stream",
     "name": "stdout",
     "text": [
      "[['France' 44.0 72000.0]\n",
      " ['Spain' 27.0 48000.0]\n",
      " ['Germany' 30.0 54000.0]\n",
      " ['Spain' 38.0 61000.0]\n",
      " ['Germany' 40.0 63777.77777777778]\n",
      " ['France' 35.0 58000.0]\n",
      " ['Spain' 38.77777777777778 52000.0]\n",
      " ['France' 48.0 79000.0]\n",
      " ['Germany' 50.0 83000.0]\n",
      " ['France' 37.0 67000.0]]\n"
     ]
    }
   ],
   "metadata": {}
  },
  {
   "cell_type": "markdown",
   "source": [
    "## Replace string data\r\n",
    "- We can't perform any algorithm with the string data so we need to convert those string data into some other algorithm understandable format\r\n",
    "- Before that, we can understand that you dataset has two type of string data columns which are [\"Country\", \"Purchased\"]\r\n",
    "- Where, ```Country``` is the categorical string data where only 3 category countries are repeating again and again.\r\n",
    "- Whereas, ```Purchased``` is the label string data where it is more overlook like boolean data.\r\n",
    "- So, we are replacing Country column as vector eg : ```(0, 0, 1)``` with the help of ```ColumnTransformer``` & ```OneHotEncoder``` similarly replacing Purchased column as ```0 & 1``` with the help of ```LabelEncoder```."
   ],
   "metadata": {}
  },
  {
   "cell_type": "markdown",
   "source": [
    "### Transform feature variable (Country)\r\n",
    "- Since our Country is categorical we are converting that into Vector ``` Example : (1.0 0.0 0.0) for France``` \r\n",
    "- We are using sklearn's ```ColumnTransformer```to transform the column from the feature and ```OneHotEncoder``` as the preprocessor to convert string data into vector.\r\n"
   ],
   "metadata": {}
  },
  {
   "cell_type": "code",
   "execution_count": 4,
   "source": [
    "from sklearn.compose import ColumnTransformer\r\n",
    "from sklearn.preprocessing import OneHotEncoder\r\n",
    "ct = ColumnTransformer(transformers=[('encoder', OneHotEncoder(), [0])],remainder='passthrough')\r\n",
    "X = ct.fit_transform(X)\r\n",
    "print(X)"
   ],
   "outputs": [
    {
     "output_type": "stream",
     "name": "stdout",
     "text": [
      "[[1.0 0.0 0.0 44.0 72000.0]\n",
      " [0.0 0.0 1.0 27.0 48000.0]\n",
      " [0.0 1.0 0.0 30.0 54000.0]\n",
      " [0.0 0.0 1.0 38.0 61000.0]\n",
      " [0.0 1.0 0.0 40.0 63777.77777777778]\n",
      " [1.0 0.0 0.0 35.0 58000.0]\n",
      " [0.0 0.0 1.0 38.77777777777778 52000.0]\n",
      " [1.0 0.0 0.0 48.0 79000.0]\n",
      " [0.0 1.0 0.0 50.0 83000.0]\n",
      " [1.0 0.0 0.0 37.0 67000.0]]\n"
     ]
    }
   ],
   "metadata": {}
  },
  {
   "cell_type": "markdown",
   "source": [
    "### Transform depended variable (Purchased)\r\n",
    "- As we know the Purchased column is more like a boolean we can label them as 0 & 1.\r\n",
    "- To do that Label encoding we are using sklearn's ```LabelEncoder``` which encode the dataset and transform the same."
   ],
   "metadata": {}
  },
  {
   "cell_type": "code",
   "execution_count": 5,
   "source": [
    "from sklearn.preprocessing import LabelEncoder\r\n",
    "le = LabelEncoder()\r\n",
    "Y = le.fit_transform(Y)\r\n",
    "print(Y)"
   ],
   "outputs": [
    {
     "output_type": "stream",
     "name": "stdout",
     "text": [
      "[0 1 0 0 1 1 0 1 0 1]\n"
     ]
    }
   ],
   "metadata": {}
  },
  {
   "cell_type": "markdown",
   "source": [
    "## Split the dataset into training and test set\r\n",
    "- We have only one dataset. So, we can split that dataset into training & testing datasets.\r\n",
    "- Training set :\r\n",
    "    - More than 80% of the real dataset is considered as the training set.  \r\n",
    "    - This set of data is taken to train our machine learning model.\r\n",
    "- Testing set :\r\n",
    "    - Balance 20% of the real dataset is our testing set.  \r\n",
    "    - We are going to use this set for our testing purpose.  "
   ],
   "metadata": {}
  },
  {
   "cell_type": "code",
   "execution_count": 6,
   "source": [
    "from sklearn.model_selection import train_test_split\r\n",
    "x_train, x_test, y_train, y_test = train_test_split(X, Y, test_size=0.2) # random_state=1 to don't shuffle the datasets"
   ],
   "outputs": [],
   "metadata": {}
  },
  {
   "cell_type": "code",
   "execution_count": 7,
   "source": [
    "print(\"X Train\", x_train, \"Y Train\", y_train, sep=\"\\n\")"
   ],
   "outputs": [
    {
     "output_type": "stream",
     "name": "stdout",
     "text": [
      "X Train\n",
      "[[0.0 1.0 0.0 50.0 83000.0]\n",
      " [1.0 0.0 0.0 35.0 58000.0]\n",
      " [0.0 0.0 1.0 38.77777777777778 52000.0]\n",
      " [0.0 1.0 0.0 30.0 54000.0]\n",
      " [0.0 0.0 1.0 27.0 48000.0]\n",
      " [0.0 0.0 1.0 38.0 61000.0]\n",
      " [1.0 0.0 0.0 37.0 67000.0]\n",
      " [1.0 0.0 0.0 48.0 79000.0]]\n",
      "Y Train\n",
      "[0 1 0 0 1 0 1 1]\n"
     ]
    }
   ],
   "metadata": {}
  },
  {
   "cell_type": "code",
   "execution_count": 8,
   "source": [
    "print(\"X Test\", x_test, \"Y Test\", y_test, sep=\"\\n\")"
   ],
   "outputs": [
    {
     "output_type": "stream",
     "name": "stdout",
     "text": [
      "X Test\n",
      "[[1.0 0.0 0.0 44.0 72000.0]\n",
      " [0.0 1.0 0.0 40.0 63777.77777777778]]\n",
      "Y Test\n",
      "[0 1]\n"
     ]
    }
   ],
   "metadata": {}
  },
  {
   "cell_type": "markdown",
   "source": [
    "## Feature scaling\r\n",
    "- What?\r\n",
    "    - Feature scaling is the process of standardizing the column which has some higher value that will not be accepted by some of the models.\r\n",
    "- Why?\r\n",
    "    - It is not necessary to do feature scaling for all algorithms, but some of the algorithms expect scaled features for better performance.\r\n",
    "- When?\r\n",
    "    - Most people get confused on when to perform feature scaling, like before splitting of the dataset or after that. The answer is after the split of the dataset."
   ],
   "metadata": {}
  },
  {
   "cell_type": "code",
   "execution_count": 9,
   "source": [
    "from sklearn.preprocessing import StandardScaler\r\n",
    "sc = StandardScaler()\r\n",
    "# we only take the large value column which is not in the range of (-3, 3)\r\n",
    "x_train[:, 3:4+1] = sc.fit_transform(x_train[:, 3:4+1])\r\n",
    "x_test[:, 3:4+1] = sc.transform(x_test[:, 3:4+1])"
   ],
   "outputs": [],
   "metadata": {}
  },
  {
   "cell_type": "code",
   "execution_count": 10,
   "source": [
    "print(x_train)"
   ],
   "outputs": [
    {
     "output_type": "stream",
     "name": "stdout",
     "text": [
      "[[0.0 1.0 0.0 1.622565199398976 1.7057357263277784]\n",
      " [1.0 0.0 0.0 -0.4009572201748046 -0.40011084938552827]\n",
      " [0.0 0.0 1.0 0.10867064845859215 -0.9055140275567218]\n",
      " [0.0 1.0 0.0 -1.0754646933660648 -0.7370463014996573]\n",
      " [0.0 0.0 1.0 -1.480169177280821 -1.242449479670851]\n",
      " [0.0 0.0 1.0 0.003747263739951552 -0.14740926029993145]\n",
      " [1.0 0.0 0.0 -0.1311542308983005 0.3579939178712621]\n",
      " [1.0 0.0 0.0 1.352762210122472 1.3688002742136494]]\n"
     ]
    }
   ],
   "metadata": {}
  },
  {
   "cell_type": "code",
   "execution_count": 11,
   "source": [
    "print(x_test)"
   ],
   "outputs": [
    {
     "output_type": "stream",
     "name": "stdout",
     "text": [
      "[[1.0 0.0 0.0 0.8131562315694638 0.7791632330139234]\n",
      " [0.0 1.0 0.0 0.27355025301645564 0.08657369255710287]]\n"
     ]
    }
   ],
   "metadata": {}
  }
 ],
 "metadata": {
  "interpreter": {
   "hash": "b3ba2566441a7c06988d0923437866b63cedc61552a5af99d1f4fb67d367b25f"
  },
  "kernelspec": {
   "name": "python3",
   "display_name": "Python 3.8.8 64-bit ('base': conda)"
  },
  "language_info": {
   "codemirror_mode": {
    "name": "ipython",
    "version": 3
   },
   "file_extension": ".py",
   "mimetype": "text/x-python",
   "name": "python",
   "nbconvert_exporter": "python",
   "pygments_lexer": "ipython3",
   "version": "3.8.8"
  }
 },
 "nbformat": 4,
 "nbformat_minor": 5
}