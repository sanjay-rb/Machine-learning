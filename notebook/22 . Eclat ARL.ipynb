{
 "cells": [
  {
   "cell_type": "markdown",
   "id": "d00ca570",
   "metadata": {},
   "source": [
    "# Eclat"
   ]
  },
  {
   "cell_type": "markdown",
   "id": "456a6066",
   "metadata": {},
   "source": [
    "If you're planning to find the best set of products in bucket without any rules, you can go for **Eclat** rather than **Apriori**.\n",
    "\n",
    "> Eclat only use support value for find the most common set of product."
   ]
  },
  {
   "cell_type": "markdown",
   "id": "44fd1c47",
   "metadata": {},
   "source": [
    "## Algorithm\n",
    "- **Step 1** : Choose the minimum support value.\n",
    "- **Step 2** : Select all the subset of transaction which have higher support value than minimum support.\n",
    "- **Step 3** : Sort the set by decreasing support.\n",
    "- **END** : Your rules are prepared."
   ]
  },
  {
   "cell_type": "markdown",
   "id": "00187357",
   "metadata": {},
   "source": [
    "## Importing the libraries"
   ]
  },
  {
   "cell_type": "code",
   "execution_count": 1,
   "id": "2d30fdae",
   "metadata": {},
   "outputs": [],
   "source": [
    "import numpy as np\n",
    "import matplotlib.pyplot as plt\n",
    "import pandas as pd"
   ]
  },
  {
   "cell_type": "code",
   "execution_count": 2,
   "id": "b68afa85",
   "metadata": {},
   "outputs": [
    {
     "name": "stdout",
     "output_type": "stream",
     "text": [
      "Requirement already satisfied: apyori in c:\\programdata\\anaconda3\\lib\\site-packages (1.1.2)\n",
      "Note: you may need to restart the kernel to use updated packages.\n"
     ]
    }
   ],
   "source": [
    "%pip install apyori"
   ]
  },
  {
   "cell_type": "markdown",
   "id": "78a390a9",
   "metadata": {},
   "source": [
    "## Data Preprocessing\n",
    "- As we are using apriori for find the ecalt, data preprocessing step remains. "
   ]
  },
  {
   "cell_type": "code",
   "execution_count": 3,
   "id": "70318286",
   "metadata": {},
   "outputs": [],
   "source": [
    "# Load the dataset with/without header.\n",
    "dataset = pd.read_csv(r'../dataset/Market_Basket_Optimisation.csv', header = None)\n",
    "\n",
    "# Convert pandas data frame to list of list containing only string values. (Keep empty values as nan)\n",
    "transactions = [[str(value).lower() for value in row] for row in dataset.values]"
   ]
  },
  {
   "cell_type": "markdown",
   "id": "0919b95f",
   "metadata": {},
   "source": [
    "## Train Eclat ARL Model"
   ]
  },
  {
   "cell_type": "code",
   "execution_count": 4,
   "id": "69ab9e39",
   "metadata": {},
   "outputs": [],
   "source": [
    "from apyori import apriori\n",
    "rules = apriori(transactions = transactions, min_support = 0.003, max_length = 2)\n",
    "results = list(rules)"
   ]
  },
  {
   "cell_type": "markdown",
   "id": "28eeb51e",
   "metadata": {},
   "source": [
    "## Visualize result\n",
    "\n",
    "If we check the `results` we can understand that it is returning RelationRecord object as shown in below.\n",
    "\n",
    "```\n",
    "RelationRecord(\n",
    "    items=frozenset({'chicken', 'light cream'}), \n",
    "    support=0.004532728969470737, \n",
    "    ordered_statistics=[\n",
    "        OrderedStatistic(\n",
    "            items_base=frozenset({'light cream'}), \n",
    "            items_add=frozenset({'chicken'}), \n",
    "            confidence=0.29059829059829057, \n",
    "            lift=4.84395061728395\n",
    "        )\n",
    "    ]\n",
    "),\n",
    "```\n",
    "\n",
    "We need to loop through all the results and create new data frame having this information \"Products\", \"Support\".\n",
    "\n",
    "So, that we can perform sort on \"Support\" value on top 10 columns."
   ]
  },
  {
   "cell_type": "code",
   "execution_count": 5,
   "id": "23e15daa",
   "metadata": {},
   "outputs": [
    {
     "data": {
      "text/html": [
       "<div>\n",
       "<style scoped>\n",
       "    .dataframe tbody tr th:only-of-type {\n",
       "        vertical-align: middle;\n",
       "    }\n",
       "\n",
       "    .dataframe tbody tr th {\n",
       "        vertical-align: top;\n",
       "    }\n",
       "\n",
       "    .dataframe thead th {\n",
       "        text-align: right;\n",
       "    }\n",
       "</style>\n",
       "<table border=\"1\" class=\"dataframe\">\n",
       "  <thead>\n",
       "    <tr style=\"text-align: right;\">\n",
       "      <th></th>\n",
       "      <th>Product</th>\n",
       "      <th>Support</th>\n",
       "    </tr>\n",
       "  </thead>\n",
       "  <tbody>\n",
       "    <tr>\n",
       "      <th>697</th>\n",
       "      <td>(spaghetti, mineral water)</td>\n",
       "      <td>0.059725</td>\n",
       "    </tr>\n",
       "    <tr>\n",
       "      <th>241</th>\n",
       "      <td>(mineral water, chocolate)</td>\n",
       "      <td>0.052660</td>\n",
       "    </tr>\n",
       "    <tr>\n",
       "      <th>339</th>\n",
       "      <td>(mineral water, eggs)</td>\n",
       "      <td>0.050927</td>\n",
       "    </tr>\n",
       "    <tr>\n",
       "      <th>662</th>\n",
       "      <td>(milk, mineral water)</td>\n",
       "      <td>0.047994</td>\n",
       "    </tr>\n",
       "    <tr>\n",
       "      <th>577</th>\n",
       "      <td>(ground beef, mineral water)</td>\n",
       "      <td>0.040928</td>\n",
       "    </tr>\n",
       "    <tr>\n",
       "      <th>256</th>\n",
       "      <td>(spaghetti, chocolate)</td>\n",
       "      <td>0.039195</td>\n",
       "    </tr>\n",
       "    <tr>\n",
       "      <th>589</th>\n",
       "      <td>(ground beef, spaghetti)</td>\n",
       "      <td>0.039195</td>\n",
       "    </tr>\n",
       "    <tr>\n",
       "      <th>353</th>\n",
       "      <td>(spaghetti, eggs)</td>\n",
       "      <td>0.036528</td>\n",
       "    </tr>\n",
       "    <tr>\n",
       "      <th>320</th>\n",
       "      <td>(french fries, eggs)</td>\n",
       "      <td>0.036395</td>\n",
       "    </tr>\n",
       "    <tr>\n",
       "      <th>507</th>\n",
       "      <td>(frozen vegetables, mineral water)</td>\n",
       "      <td>0.035729</td>\n",
       "    </tr>\n",
       "  </tbody>\n",
       "</table>\n",
       "</div>"
      ],
      "text/plain": [
       "                                Product   Support\n",
       "697          (spaghetti, mineral water)  0.059725\n",
       "241          (mineral water, chocolate)  0.052660\n",
       "339               (mineral water, eggs)  0.050927\n",
       "662               (milk, mineral water)  0.047994\n",
       "577        (ground beef, mineral water)  0.040928\n",
       "256              (spaghetti, chocolate)  0.039195\n",
       "589            (ground beef, spaghetti)  0.039195\n",
       "353                   (spaghetti, eggs)  0.036528\n",
       "320                (french fries, eggs)  0.036395\n",
       "507  (frozen vegetables, mineral water)  0.035729"
      ]
     },
     "execution_count": 5,
     "metadata": {},
     "output_type": "execute_result"
    }
   ],
   "source": [
    "data_values = []\n",
    "min_length=2\n",
    "for result in results:\n",
    "    if len(result.items) >= 2 and 'nan' not in list(result.items):\n",
    "        data_values.append([result.items, result.support])\n",
    "resultsinDataFrame = pd.DataFrame(data_values, columns=[\"Product\", \"Support\"])\n",
    "resultsinDataFrame = resultsinDataFrame.nlargest(n=10, columns=\"Support\")\n",
    "resultsinDataFrame"
   ]
  }
 ],
 "metadata": {
  "kernelspec": {
   "display_name": "Python 3",
   "language": "python",
   "name": "python3"
  },
  "language_info": {
   "codemirror_mode": {
    "name": "ipython",
    "version": 3
   },
   "file_extension": ".py",
   "mimetype": "text/x-python",
   "name": "python",
   "nbconvert_exporter": "python",
   "pygments_lexer": "ipython3",
   "version": "3.9.7"
  }
 },
 "nbformat": 4,
 "nbformat_minor": 5
}
