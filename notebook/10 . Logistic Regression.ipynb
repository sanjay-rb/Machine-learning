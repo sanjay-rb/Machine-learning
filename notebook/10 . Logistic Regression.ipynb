{
 "cells": [
  {
   "cell_type": "markdown",
   "id": "d00ca570",
   "metadata": {},
   "source": [
    "# Logistic Regression"
   ]
  },
  {
   "cell_type": "markdown",
   "metadata": {},
   "source": [
    "\n",
    "## Data preprocessing\n",
    "✔️ Import the necessary libraries.\n",
    "\n",
    "✔️ Load dataset (Position_Salaries.csv).\n",
    "\n",
    "❌ Our dataset doesn't have any missing so, we can skip that step.\n",
    "\n",
    "❌ We have categorical string data, but they are already label in another column called Level so, we can skip that step as well.\n",
    "\n",
    "✔️ We only have 400 data. So, we can split and have an 75% training set and 25% test. \n",
    "\n",
    "✔️ Logistic regression is more like equation type, but when we apply feature scaling for the dataset it will improve the performance of the model."
   ]
  },
  {
   "cell_type": "code",
   "execution_count": 1,
   "metadata": {},
   "outputs": [],
   "source": [
    "# Import libraries....\n",
    "import numpy as np\n",
    "import matplotlib.pyplot as plt\n",
    "import pandas as pd\n",
    "# setting two digits after decimal point...\n",
    "np.set_printoptions(precision=2)"
   ]
  },
  {
   "cell_type": "code",
   "execution_count": 2,
   "metadata": {},
   "outputs": [],
   "source": [
    "# Load dataset...\n",
    "dataset = pd.read_csv(r\"../dataset/Social_Network_Ads.csv\")\n",
    "X = dataset.iloc[:, :-1].values # [row, column]\n",
    "y = dataset.iloc[:, -1].values"
   ]
  },
  {
   "cell_type": "code",
   "execution_count": 3,
   "metadata": {},
   "outputs": [],
   "source": [
    "# Split testing and training dataset...\n",
    "from sklearn.model_selection import train_test_split\n",
    "X_train, X_test, y_train, y_test = train_test_split(X, y, test_size=0.25, random_state=0)"
   ]
  },
  {
   "cell_type": "code",
   "execution_count": 4,
   "metadata": {},
   "outputs": [],
   "source": [
    "# Performing feature scaling for the independent variable...\n",
    "# Dependent variable y is already having 0's & 1's...\n",
    "from sklearn.preprocessing import StandardScaler\n",
    "x_sc = StandardScaler()\n",
    "X_train = x_sc.fit_transform(X_train)\n",
    "X_test = x_sc.transform(X_test)"
   ]
  },
  {
   "cell_type": "code",
   "execution_count": 5,
   "metadata": {},
   "outputs": [
    {
     "name": "stdout",
     "output_type": "stream",
     "text": [
      "[[ 0.58 -0.89]\n",
      " [-0.61  1.46]\n",
      " [-0.01 -0.57]\n",
      " [-0.61  1.9 ]\n",
      " [ 1.37 -1.41]\n",
      " [ 1.47  1.  ]\n",
      " [ 0.09 -0.8 ]\n",
      " [-0.01 -0.25]\n",
      " [-0.21 -0.57]\n",
      " [-0.21 -0.19]\n",
      " [-0.31 -1.29]\n",
      " [-0.31 -0.57]\n",
      " [ 0.38  0.1 ]\n",
      " [ 0.88 -0.6 ]\n",
      " [ 2.07 -1.18]\n",
      " [ 1.08 -0.13]\n",
      " [ 0.68  1.78]\n",
      " [-0.71  0.56]\n",
      " [ 0.78  0.36]\n",
      " [ 0.88 -0.54]\n",
      " [-1.2  -1.58]\n",
      " [ 2.17  0.94]\n",
      " [-0.01  1.23]\n",
      " [ 0.19  1.08]\n",
      " [ 0.38 -0.48]\n",
      " [-0.31 -0.31]\n",
      " [ 0.98 -0.83]\n",
      " [ 0.98  1.87]\n",
      " [-0.01  1.26]\n",
      " [-0.9   2.27]\n",
      " [-1.2  -1.58]\n",
      " [ 2.17 -0.8 ]\n",
      " [-1.4  -1.47]\n",
      " [ 0.38  2.3 ]\n",
      " [ 0.78  0.77]\n",
      " [-1.   -0.31]\n",
      " [ 0.09  0.77]\n",
      " [-1.    0.56]\n",
      " [ 0.28  0.07]\n",
      " [ 0.68 -1.26]\n",
      " [-0.51 -0.02]\n",
      " [-1.8   0.36]\n",
      " [-0.71  0.13]\n",
      " [ 0.38  0.3 ]\n",
      " [-0.31  0.07]\n",
      " [-0.51  2.3 ]\n",
      " [ 0.19  0.04]\n",
      " [ 1.27  2.22]\n",
      " [ 0.78  0.27]\n",
      " [-0.31  0.16]\n",
      " [-0.01 -0.54]\n",
      " [-0.21  0.16]\n",
      " [-0.11  0.24]\n",
      " [-0.01 -0.25]\n",
      " [ 2.17  1.11]\n",
      " [-1.8   0.36]\n",
      " [ 1.87  0.13]\n",
      " [ 0.38 -0.13]\n",
      " [-1.2   0.3 ]\n",
      " [ 0.78  1.37]\n",
      " [-0.31 -0.25]\n",
      " [-1.7  -0.05]\n",
      " [-1.   -0.74]\n",
      " [ 0.28  0.5 ]\n",
      " [-0.11 -1.06]\n",
      " [-1.1   0.59]\n",
      " [ 0.09 -0.8 ]\n",
      " [-1.    1.55]\n",
      " [-0.71  1.4 ]\n",
      " [-1.3   0.5 ]\n",
      " [-0.31  0.04]\n",
      " [-0.11  0.01]\n",
      " [-0.31 -0.89]\n",
      " [ 0.88 -1.35]\n",
      " [-0.31  2.24]\n",
      " [ 0.98  1.98]\n",
      " [-1.2   0.48]\n",
      " [-1.3   0.27]\n",
      " [ 1.37  1.98]\n",
      " [ 1.27 -1.35]\n",
      " [-0.31 -0.28]\n",
      " [-0.51  1.26]\n",
      " [-0.8   1.08]\n",
      " [ 0.98 -1.06]\n",
      " [ 0.28  0.3 ]\n",
      " [ 0.98  0.77]\n",
      " [-0.71 -1.5 ]\n",
      " [-0.71  0.04]\n",
      " [ 0.48  1.72]\n",
      " [ 2.07  0.19]\n",
      " [-1.99 -0.74]\n",
      " [-0.21  1.4 ]\n",
      " [ 0.38  0.59]\n",
      " [ 0.88 -1.15]\n",
      " [-1.2  -0.77]\n",
      " [ 0.19  0.24]\n",
      " [ 0.78 -0.31]\n",
      " [ 2.07 -0.8 ]\n",
      " [ 0.78  0.13]\n",
      " [-0.31  0.62]\n",
      " [-1.   -0.31]\n",
      " [ 0.19 -0.36]\n",
      " [ 2.07  2.13]\n",
      " [ 1.87 -1.26]\n",
      " [ 1.37 -0.92]\n",
      " [ 0.88  1.26]\n",
      " [ 1.47  2.13]\n",
      " [-0.31 -1.23]\n",
      " [ 1.97  0.91]\n",
      " [ 0.68 -0.71]\n",
      " [-1.5   0.36]\n",
      " [ 0.78 -1.35]\n",
      " [ 0.38 -0.13]\n",
      " [-1.    0.42]\n",
      " [-0.01 -0.31]\n",
      " [-1.2   0.42]\n",
      " [-0.9  -1.21]\n",
      " [-0.11  0.04]\n",
      " [-1.6  -0.42]\n",
      " [ 0.98 -1.  ]\n",
      " [ 1.08 -1.21]\n",
      " [-0.01 -0.13]\n",
      " [-1.1  -1.52]\n",
      " [ 0.78 -1.21]\n",
      " [ 0.98  2.07]\n",
      " [-1.2  -1.52]\n",
      " [-0.31  0.79]\n",
      " [ 0.09 -0.31]\n",
      " [-1.4  -1.23]\n",
      " [-0.61 -1.5 ]\n",
      " [ 0.78  0.53]\n",
      " [-0.31 -0.34]\n",
      " [ 1.77 -0.28]\n",
      " [ 0.88 -1.03]\n",
      " [ 0.19  0.07]\n",
      " [-0.61  0.88]\n",
      " [-1.89 -1.41]\n",
      " [-1.3   0.59]\n",
      " [-0.31  0.53]\n",
      " [-1.   -1.09]\n",
      " [ 1.18 -1.44]\n",
      " [ 0.19 -0.31]\n",
      " [ 1.18 -0.74]\n",
      " [-0.31  0.07]\n",
      " [ 0.19  2.1 ]\n",
      " [ 0.78 -1.09]\n",
      " [ 0.09  0.04]\n",
      " [-1.8   0.13]\n",
      " [-0.9   0.16]\n",
      " [-0.71  0.19]\n",
      " [ 0.88 -1.29]\n",
      " [ 0.19 -0.25]\n",
      " [-0.41  1.23]\n",
      " [-0.01  0.3 ]\n",
      " [ 0.38  0.16]\n",
      " [ 0.88 -0.65]\n",
      " [ 0.09  0.16]\n",
      " [-1.89 -1.29]\n",
      " [-0.11  0.3 ]\n",
      " [-0.21 -0.28]\n",
      " [ 0.28 -0.51]\n",
      " [-0.21  1.61]\n",
      " [ 0.98 -1.18]\n",
      " [-0.21  1.64]\n",
      " [ 1.27  1.87]\n",
      " [-1.1  -0.36]\n",
      " [-0.01  0.04]\n",
      " [ 0.09 -0.25]\n",
      " [-1.6  -1.23]\n",
      " [-0.51 -0.28]\n",
      " [ 0.98  0.13]\n",
      " [ 1.97 -1.35]\n",
      " [ 1.47  0.07]\n",
      " [-0.61  1.37]\n",
      " [ 1.57  0.01]\n",
      " [-0.8   0.3 ]\n",
      " [ 1.97  0.74]\n",
      " [-1.2  -0.51]\n",
      " [ 0.68  0.27]\n",
      " [-1.4  -0.42]\n",
      " [ 0.19  0.16]\n",
      " [-0.51 -1.21]\n",
      " [ 0.58  2.01]\n",
      " [-1.6  -1.5 ]\n",
      " [-0.51 -0.54]\n",
      " [ 0.48  1.84]\n",
      " [-1.4  -1.09]\n",
      " [ 0.78 -1.38]\n",
      " [-0.31 -0.42]\n",
      " [ 1.57  1.  ]\n",
      " [ 0.98  1.43]\n",
      " [-0.31 -0.48]\n",
      " [-0.11  2.16]\n",
      " [-1.5  -0.1 ]\n",
      " [-0.11  1.95]\n",
      " [-0.71 -0.34]\n",
      " [-0.51 -0.83]\n",
      " [ 0.68 -1.38]\n",
      " [-0.8  -1.58]\n",
      " [-1.89 -1.47]\n",
      " [ 1.08  0.13]\n",
      " [ 0.09  1.52]\n",
      " [-0.31  0.1 ]\n",
      " [ 0.09  0.04]\n",
      " [-1.4  -1.35]\n",
      " [ 0.28  0.07]\n",
      " [-0.9   0.39]\n",
      " [ 1.57 -1.26]\n",
      " [-0.31 -0.74]\n",
      " [-0.11  0.16]\n",
      " [-0.9  -0.65]\n",
      " [-0.71 -0.05]\n",
      " [ 0.38 -0.45]\n",
      " [-0.8   1.9 ]\n",
      " [ 1.37  1.29]\n",
      " [ 1.18 -0.97]\n",
      " [ 1.77  1.84]\n",
      " [-0.9  -0.25]\n",
      " [-0.8   0.56]\n",
      " [-1.2  -1.55]\n",
      " [-0.51 -1.12]\n",
      " [ 0.28  0.07]\n",
      " [-0.21 -1.06]\n",
      " [ 1.67  1.61]\n",
      " [ 0.98  1.78]\n",
      " [ 0.28  0.04]\n",
      " [-0.8  -0.22]\n",
      " [-0.11  0.07]\n",
      " [ 0.28 -0.19]\n",
      " [ 1.97 -0.65]\n",
      " [-0.8   1.35]\n",
      " [-1.8  -0.6 ]\n",
      " [-0.11  0.13]\n",
      " [ 0.28 -0.31]\n",
      " [ 1.08  0.56]\n",
      " [-1.    0.27]\n",
      " [ 1.47  0.36]\n",
      " [ 0.19 -0.36]\n",
      " [ 2.17 -1.03]\n",
      " [-0.31  1.11]\n",
      " [-1.7   0.07]\n",
      " [-0.01  0.04]\n",
      " [ 0.09  1.06]\n",
      " [-0.11 -0.36]\n",
      " [-1.2   0.07]\n",
      " [-0.31 -1.35]\n",
      " [ 1.57  1.11]\n",
      " [-0.8  -1.52]\n",
      " [ 0.09  1.87]\n",
      " [-0.9  -0.77]\n",
      " [-0.51 -0.77]\n",
      " [-0.31 -0.92]\n",
      " [ 0.28 -0.71]\n",
      " [ 0.28  0.07]\n",
      " [ 0.09  1.87]\n",
      " [-1.1   1.95]\n",
      " [-1.7  -1.55]\n",
      " [-1.2  -1.09]\n",
      " [-0.71 -0.1 ]\n",
      " [ 0.09  0.1 ]\n",
      " [ 0.28  0.27]\n",
      " [ 0.88 -0.57]\n",
      " [ 0.28 -1.15]\n",
      " [-0.11  0.68]\n",
      " [ 2.17 -0.68]\n",
      " [-1.3  -1.38]\n",
      " [-1.   -0.94]\n",
      " [-0.01 -0.42]\n",
      " [-0.21 -0.45]\n",
      " [-1.8  -0.97]\n",
      " [ 1.77  1.  ]\n",
      " [ 0.19 -0.36]\n",
      " [ 0.38  1.11]\n",
      " [-1.8  -1.35]\n",
      " [ 0.19 -0.13]\n",
      " [ 0.88 -1.44]\n",
      " [-1.99  0.48]\n",
      " [-0.31  0.27]\n",
      " [ 1.87 -1.06]\n",
      " [-0.41  0.07]\n",
      " [ 1.08 -0.89]\n",
      " [-1.1  -1.12]\n",
      " [-1.89  0.01]\n",
      " [ 0.09  0.27]\n",
      " [-1.2   0.33]\n",
      " [-1.3   0.3 ]\n",
      " [-1.    0.45]\n",
      " [ 1.67 -0.89]\n",
      " [ 1.18  0.53]\n",
      " [ 1.08  0.53]\n",
      " [ 1.37  2.33]\n",
      " [-0.31 -0.13]\n",
      " [ 0.38 -0.45]\n",
      " [-0.41 -0.77]\n",
      " [-0.11 -0.51]\n",
      " [ 0.98 -1.15]\n",
      " [-0.9  -0.77]\n",
      " [-0.21 -0.51]\n",
      " [-1.1  -0.45]\n",
      " [-1.2   1.4 ]]\n"
     ]
    }
   ],
   "source": [
    "print(X_train)"
   ]
  },
  {
   "cell_type": "code",
   "execution_count": 6,
   "metadata": {},
   "outputs": [
    {
     "name": "stdout",
     "output_type": "stream",
     "text": [
      "[[-0.8   0.5 ]\n",
      " [-0.01 -0.57]\n",
      " [-0.31  0.16]\n",
      " [-0.8   0.27]\n",
      " [-0.31 -0.57]\n",
      " [-1.1  -1.44]\n",
      " [-0.71 -1.58]\n",
      " [-0.21  2.16]\n",
      " [-1.99 -0.05]\n",
      " [ 0.88 -0.77]\n",
      " [-0.8  -0.6 ]\n",
      " [-1.   -0.42]\n",
      " [-0.11 -0.42]\n",
      " [ 0.09  0.22]\n",
      " [-1.8   0.48]\n",
      " [-0.61  1.37]\n",
      " [-0.11  0.22]\n",
      " [-1.89  0.45]\n",
      " [ 1.67  1.75]\n",
      " [-0.31 -1.38]\n",
      " [-0.31 -0.65]\n",
      " [ 0.88  2.16]\n",
      " [ 0.28 -0.54]\n",
      " [ 0.88  1.03]\n",
      " [-1.5  -1.21]\n",
      " [ 1.08  2.07]\n",
      " [-1.    0.5 ]\n",
      " [-0.9   0.3 ]\n",
      " [-0.11 -0.22]\n",
      " [-0.61  0.48]\n",
      " [-1.7   0.53]\n",
      " [-0.11  0.27]\n",
      " [ 1.87 -0.28]\n",
      " [-0.11 -0.48]\n",
      " [-1.4  -0.34]\n",
      " [-1.99 -0.51]\n",
      " [-1.6   0.33]\n",
      " [-0.41 -0.77]\n",
      " [-0.71 -1.03]\n",
      " [ 1.08 -0.97]\n",
      " [-1.1   0.53]\n",
      " [ 0.28 -0.51]\n",
      " [-1.1   0.42]\n",
      " [-0.31 -1.44]\n",
      " [ 0.48  1.23]\n",
      " [-1.1  -0.34]\n",
      " [-0.11  0.3 ]\n",
      " [ 1.37  0.59]\n",
      " [-1.2  -1.15]\n",
      " [ 1.08  0.48]\n",
      " [ 1.87  1.52]\n",
      " [-0.41 -1.29]\n",
      " [-0.31 -0.36]\n",
      " [-0.41  1.32]\n",
      " [ 2.07  0.53]\n",
      " [ 0.68 -1.09]\n",
      " [-0.9   0.39]\n",
      " [-1.2   0.3 ]\n",
      " [ 1.08 -1.21]\n",
      " [-1.5  -1.44]\n",
      " [-0.61 -1.5 ]\n",
      " [ 2.17 -0.8 ]\n",
      " [-1.89  0.19]\n",
      " [-0.21  0.85]\n",
      " [-1.89 -1.26]\n",
      " [ 2.17  0.39]\n",
      " [-1.4   0.56]\n",
      " [-1.1  -0.34]\n",
      " [ 0.19 -0.65]\n",
      " [ 0.38  0.01]\n",
      " [-0.61  2.33]\n",
      " [-0.31  0.22]\n",
      " [-1.6  -0.19]\n",
      " [ 0.68 -1.38]\n",
      " [-1.1   0.56]\n",
      " [-1.99  0.36]\n",
      " [ 0.38  0.27]\n",
      " [ 0.19 -0.28]\n",
      " [ 1.47 -1.03]\n",
      " [ 0.88  1.08]\n",
      " [ 1.97  2.16]\n",
      " [ 2.07  0.39]\n",
      " [-1.4  -0.42]\n",
      " [-1.2  -1.  ]\n",
      " [ 1.97 -0.92]\n",
      " [ 0.38  0.3 ]\n",
      " [ 0.19  0.16]\n",
      " [ 2.07  1.75]\n",
      " [ 0.78 -0.83]\n",
      " [ 0.28 -0.28]\n",
      " [ 0.38 -0.16]\n",
      " [-0.11  2.22]\n",
      " [-1.5  -0.63]\n",
      " [-1.3  -1.06]\n",
      " [-1.4   0.42]\n",
      " [-1.1   0.77]\n",
      " [-1.5  -0.19]\n",
      " [ 0.98 -1.06]\n",
      " [ 0.98  0.59]\n",
      " [ 0.38  1.  ]]\n"
     ]
    }
   ],
   "source": [
    "print(X_test)"
   ]
  },
  {
   "cell_type": "markdown",
   "metadata": {},
   "source": [
    "## Train Logistic Regression Model"
   ]
  },
  {
   "cell_type": "code",
   "execution_count": 7,
   "metadata": {},
   "outputs": [
    {
     "data": {
      "text/plain": [
       "LogisticRegression()"
      ]
     },
     "execution_count": 7,
     "metadata": {},
     "output_type": "execute_result"
    }
   ],
   "source": [
    "from sklearn.linear_model import  LogisticRegression\n",
    "logistic_regression_calssifier = LogisticRegression()\n",
    "logistic_regression_calssifier.fit(X_train, y_train)"
   ]
  },
  {
   "cell_type": "markdown",
   "metadata": {},
   "source": [
    "## Predict New Value"
   ]
  },
  {
   "cell_type": "code",
   "execution_count": 8,
   "metadata": {},
   "outputs": [
    {
     "name": "stdout",
     "output_type": "stream",
     "text": [
      "Y Prediction :  [0]\n",
      "Probability [[Age, Estimated Salary]] :  [[0.96 0.04]]\n"
     ]
    }
   ],
   "source": [
    "print(\"Y Prediction : \", logistic_regression_calssifier.predict(x_sc.transform([[35,20000]])))\n",
    "print(\"Probability [[Age, Estimated Salary]] : \", logistic_regression_calssifier.predict_proba(x_sc.transform([[35,20000]])))"
   ]
  },
  {
   "cell_type": "markdown",
   "metadata": {},
   "source": [
    "## Test Logistic Regression Model"
   ]
  },
  {
   "cell_type": "code",
   "execution_count": 9,
   "metadata": {},
   "outputs": [
    {
     "name": "stdout",
     "output_type": "stream",
     "text": [
      "Comparison of y_pred & y_test\n",
      "[[0 0]\n",
      " [0 0]\n",
      " [0 0]\n",
      " [0 0]\n",
      " [0 0]\n",
      " [0 0]\n",
      " [0 0]\n",
      " [1 1]\n",
      " [0 0]\n",
      " [1 0]\n",
      " [0 0]\n",
      " [0 0]\n",
      " [0 0]\n",
      " [0 0]\n",
      " [0 0]\n",
      " [0 0]\n",
      " [0 0]\n",
      " [0 0]\n",
      " [1 1]\n",
      " [0 0]\n",
      " [0 0]\n",
      " [1 1]\n",
      " [0 0]\n",
      " [1 1]\n",
      " [0 0]\n",
      " [1 1]\n",
      " [0 0]\n",
      " [0 0]\n",
      " [0 0]\n",
      " [0 0]\n",
      " [0 0]\n",
      " [0 1]\n",
      " [1 1]\n",
      " [0 0]\n",
      " [0 0]\n",
      " [0 0]\n",
      " [0 0]\n",
      " [0 0]\n",
      " [0 0]\n",
      " [1 1]\n",
      " [0 0]\n",
      " [0 0]\n",
      " [0 0]\n",
      " [0 0]\n",
      " [1 1]\n",
      " [0 0]\n",
      " [0 0]\n",
      " [1 1]\n",
      " [0 0]\n",
      " [1 1]\n",
      " [1 1]\n",
      " [0 0]\n",
      " [0 0]\n",
      " [0 0]\n",
      " [1 1]\n",
      " [0 1]\n",
      " [0 0]\n",
      " [0 0]\n",
      " [0 1]\n",
      " [0 0]\n",
      " [0 0]\n",
      " [1 1]\n",
      " [0 0]\n",
      " [0 1]\n",
      " [0 0]\n",
      " [1 1]\n",
      " [0 0]\n",
      " [0 0]\n",
      " [0 0]\n",
      " [0 0]\n",
      " [1 1]\n",
      " [0 0]\n",
      " [0 0]\n",
      " [0 1]\n",
      " [0 0]\n",
      " [0 0]\n",
      " [1 0]\n",
      " [0 0]\n",
      " [1 1]\n",
      " [1 1]\n",
      " [1 1]\n",
      " [1 0]\n",
      " [0 0]\n",
      " [0 0]\n",
      " [1 1]\n",
      " [1 1]\n",
      " [0 0]\n",
      " [1 1]\n",
      " [0 1]\n",
      " [0 0]\n",
      " [0 0]\n",
      " [1 1]\n",
      " [0 0]\n",
      " [0 0]\n",
      " [0 0]\n",
      " [0 1]\n",
      " [0 0]\n",
      " [0 1]\n",
      " [1 1]\n",
      " [1 1]]\n"
     ]
    }
   ],
   "source": [
    "y_pred = logistic_regression_calssifier.predict(X_test)\n",
    "probability = logistic_regression_calssifier.predict_proba(X_test)\n",
    "\n",
    "print(\"Comparison of y_pred & y_test\", np.concatenate((y_pred.reshape(len(y_pred), 1), y_test.reshape(len(y_test), 1)), 1), sep='\\n')"
   ]
  },
  {
   "cell_type": "markdown",
   "metadata": {},
   "source": [
    "## Create Confusion Matrix"
   ]
  },
  {
   "cell_type": "code",
   "execution_count": 10,
   "metadata": {},
   "outputs": [
    {
     "name": "stdout",
     "output_type": "stream",
     "text": [
      "Confusion Matrix : \n",
      "[[65  3]\n",
      " [ 8 24]]\n",
      "Detail view of matrix : \n",
      "Expect 0 Predict 0 : 65\n",
      "Expect 1 Predict 0 : 3\n",
      "Expect 0 Predict 1 : 8\n",
      "Expect 1 Predict 1 : 24\n"
     ]
    }
   ],
   "source": [
    "from sklearn.metrics import confusion_matrix\n",
    "matrix = confusion_matrix(y_true=y_test, y_pred=y_pred)\n",
    "print(\"Confusion Matrix : \")\n",
    "print(matrix)\n",
    "\n",
    "# Detail view of matrix\n",
    "print(\"Detail view of matrix : \")\n",
    "NO_OF_CATEGORY = len(set(y_test))\n",
    "for i in range(NO_OF_CATEGORY):\n",
    "    for j in range(NO_OF_CATEGORY):\n",
    "        print(f\"Expect {j}\", f\"Predict {i}\", \":\", matrix[i][j])\n"
   ]
  },
  {
   "cell_type": "markdown",
   "metadata": {},
   "source": [
    "- We have 65 correct prediction of result '0' & 24 correct prediction of result '1'.\n",
    "- We have 8 incorrect prediction of result '0' & 3 incorrect prediction of result '1'."
   ]
  },
  {
   "cell_type": "markdown",
   "metadata": {},
   "source": [
    "## Classification Accuracy Score"
   ]
  },
  {
   "cell_type": "code",
   "execution_count": 11,
   "metadata": {},
   "outputs": [
    {
     "name": "stdout",
     "output_type": "stream",
     "text": [
      "0.89\n"
     ]
    }
   ],
   "source": [
    "from sklearn.metrics import accuracy_score\n",
    "print(accuracy_score(y_true=y_test, y_pred=y_pred))"
   ]
  },
  {
   "cell_type": "markdown",
   "metadata": {},
   "source": [
    "- We have 100 testset where, 65+24=89 result is correct. So, our model accuracy score is 0.89 (89%)."
   ]
  },
  {
   "cell_type": "markdown",
   "metadata": {},
   "source": [
    "## Classification Report"
   ]
  },
  {
   "cell_type": "code",
   "execution_count": 12,
   "metadata": {},
   "outputs": [
    {
     "name": "stdout",
     "output_type": "stream",
     "text": [
      "                  precision    recall  f1-score   support\n",
      "\n",
      "             Age       0.89      0.96      0.92        68\n",
      "Estimated Salary       0.89      0.75      0.81        32\n",
      "\n",
      "        accuracy                           0.89       100\n",
      "       macro avg       0.89      0.85      0.87       100\n",
      "    weighted avg       0.89      0.89      0.89       100\n",
      "\n"
     ]
    }
   ],
   "source": [
    "from sklearn.metrics import classification_report\n",
    "print(classification_report(y_true=y_test, y_pred=y_pred, target_names=['Age', 'Estimated Salary']))"
   ]
  },
  {
   "cell_type": "markdown",
   "metadata": {},
   "source": [
    "## Visualising Train Set Result"
   ]
  },
  {
   "cell_type": "code",
   "execution_count": 13,
   "metadata": {},
   "outputs": [
    {
     "data": {
      "image/png": "[encoded data removed]",
      "text/plain": [
       "<Figure size 432x288 with 1 Axes>"
      ]
     },
     "metadata": {
      "needs_background": "light"
     },
     "output_type": "display_data"
    }
   ],
   "source": [
    "for i in x_sc.inverse_transform(X_train):\n",
    "    y_pred = logistic_regression_calssifier.predict(x_sc.transform([i]))\n",
    "    plt.scatter(x=i[0], y=i[1], color=('red', 'green')[y_pred[0]])\n",
    "plt.title(\"Logistic Regression (Training dataset)\")\n",
    "plt.xlabel(\"Age\")\n",
    "plt.ylabel(\"Estimated Salary\")\n",
    "plt.show()"
   ]
  },
  {
   "cell_type": "markdown",
   "metadata": {},
   "source": [
    "## Visualising Test Set Result"
   ]
  },
  {
   "cell_type": "code",
   "execution_count": 14,
   "metadata": {},
   "outputs": [
    {
     "data": {
      "image/png": "[encoded data removed]",
      "text/plain": [
       "<Figure size 432x288 with 1 Axes>"
      ]
     },
     "metadata": {
      "needs_background": "light"
     },
     "output_type": "display_data"
    }
   ],
   "source": [
    "for i in x_sc.inverse_transform(X_test):\n",
    "    y_pred = logistic_regression_calssifier.predict(x_sc.transform([i]))\n",
    "    plt.scatter(x=i[0], y=i[1], color=('red', 'green')[y_pred[0]])\n",
    "plt.title(\"Logistic Regression (Testing dataset)\")\n",
    "plt.xlabel(\"Age\")\n",
    "plt.ylabel(\"Estimated Salary\")\n",
    "plt.show()"
   ]
  }
 ],
 "metadata": {
  "interpreter": {
   "hash": "b3ba2566441a7c06988d0923437866b63cedc61552a5af99d1f4fb67d367b25f"
  },
  "kernelspec": {
   "display_name": "Python 3.8.8 64-bit ('base': conda)",
   "name": "python3"
  },
  "language_info": {
   "codemirror_mode": {
    "name": "ipython",
    "version": 3
   },
   "file_extension": ".py",
   "mimetype": "text/x-python",
   "name": "python",
   "nbconvert_exporter": "python",
   "pygments_lexer": "ipython3",
   "version": "3.8.8"
  }
 },
 "nbformat": 4,
 "nbformat_minor": 5
}
