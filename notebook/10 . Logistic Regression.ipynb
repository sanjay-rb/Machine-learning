{
 "cells": [
  {
   "cell_type": "markdown",
   "id": "d00ca570",
   "metadata": {},
   "source": [
    "# Logistic Regression"
   ]
  },
  {
   "cell_type": "markdown",
   "metadata": {},
   "source": [
    "- Regression at clasification! Yes, you are in the right place *Logistic Regression* is most commonly used to make a logical decision between two options.\n",
    "\n",
    "    > example: win/loss, sick/not sick, purchased/not purchased\n",
    "- How it is predicting? Well, it is also like the simple linear regression rather it uses a regression curve between two classes and resulting in the probability of prediction classes.\n",
    "\n",
    "<img src=\"../images/linear_vs_logistic_regression.jpg\" alt=\"linear_vs_logistic_regression.jpg\" width=\"800\">\n",
    "\n",
    "- Cool right? We get predicted probability from the regression and we can classify the result by taking some mid-value as the separator.\n",
    "\n",
    "<img src=\"../images/logistic_regression_graph.png\" alt=\"logistic_regression_graph.png\" width=\"500\">"
   ]
  },
  {
   "cell_type": "markdown",
   "metadata": {},
   "source": [
    "## How this graph is generating? (Optional)\n",
    "- There is some derivation we need to do to get the above logistic regression from simple linear regression.\n",
    "- we are going to do the given steps.\n",
    "\n",
    "<img src=\"../images/logistic_regression_eqn.jpeg\" alt=\"logistic_regression_eqn.jpeg\" width=\"500\">\n",
    "\n",
    "- for a detailed understanding, you can have a look into the below derivation.\n",
    "\n",
    "<img src=\"../images/logistic_regression_derivation.jpeg\" alt=\"logistic_regression_derivation.jpeg\" width=\"500\">\n",
    "\n",
    "- Want to know more about regression and regression basics? - [link](https://www.superdatascience.com/blogs/the-ultimate-guide-to-regression-classification)"
   ]
  },
  {
   "cell_type": "markdown",
   "metadata": {},
   "source": [
    "\n",
    "## Data preprocessing\n",
    "✔️ Import the necessary libraries.\n",
    "\n",
    "✔️ Load dataset (Position_Salaries.csv).\n",
    "\n",
    "❌ Our dataset doesn't have any missing so, we can skip that step.\n",
    "\n",
    "❌ We have categorical string data, but they are already label in another column called Level so, we can skip that step as well.\n",
    "\n",
    "✔️ We only have 400 data. So, we can split and have an 75% training set and 25% test. \n",
    "\n",
    "✔️ Logistic regression is more like equation type, but when we apply feature scaling for the dataset it will improve the performance of the model."
   ]
  },
  {
   "cell_type": "code",
   "execution_count": 1,
   "metadata": {},
   "outputs": [],
   "source": [
    "# Import libraries....\n",
    "import numpy as np\n",
    "import matplotlib.pyplot as plt\n",
    "import pandas as pd\n",
    "\n",
    "# setting two digits after decimal point...\n",
    "np.set_printoptions(precision=2)"
   ]
  },
  {
   "cell_type": "code",
   "execution_count": 2,
   "metadata": {},
   "outputs": [],
   "source": [
    "# Load dataset...\n",
    "dataset = pd.read_csv(r\"../dataset/Social_Network_Ads.csv\")\n",
    "X = dataset.iloc[:, :-1].values # [row, column]\n",
    "y = dataset.iloc[:, -1].values"
   ]
  },
  {
   "cell_type": "code",
   "execution_count": 3,
   "metadata": {},
   "outputs": [],
   "source": [
    "# Split testing and training dataset...\n",
    "from sklearn.model_selection import train_test_split\n",
    "X_train, X_test, y_train, y_test = train_test_split(X, y, test_size=0.25, random_state=0)"
   ]
  },
  {
   "cell_type": "code",
   "execution_count": 4,
   "metadata": {},
   "outputs": [
    {
     "name": "stdout",
     "output_type": "stream",
     "text": [
      "[[    44  39000]\n",
      " [    32 120000]\n",
      " [    38  50000]\n",
      " [    32 135000]\n",
      " [    52  21000]\n",
      " [    53 104000]\n",
      " [    39  42000]\n",
      " [    38  61000]\n",
      " [    36  50000]\n",
      " [    36  63000]]\n"
     ]
    }
   ],
   "source": [
    "print(X_train[:10, :])"
   ]
  },
  {
   "cell_type": "code",
   "execution_count": 5,
   "metadata": {},
   "outputs": [
    {
     "name": "stdout",
     "output_type": "stream",
     "text": [
      "[[    30  87000]\n",
      " [    38  50000]\n",
      " [    35  75000]\n",
      " [    30  79000]\n",
      " [    35  50000]\n",
      " [    27  20000]\n",
      " [    31  15000]\n",
      " [    36 144000]\n",
      " [    18  68000]\n",
      " [    47  43000]]\n"
     ]
    }
   ],
   "source": [
    "print(X_test[:10, :])"
   ]
  },
  {
   "cell_type": "code",
   "execution_count": 6,
   "metadata": {},
   "outputs": [],
   "source": [
    "# Performing feature scaling for the independent variable...\n",
    "# Dependent variable y is already having 0's & 1's...\n",
    "from sklearn.preprocessing import StandardScaler\n",
    "x_sc = StandardScaler()\n",
    "X_train = x_sc.fit_transform(X_train)\n",
    "X_test = x_sc.transform(X_test)"
   ]
  },
  {
   "cell_type": "code",
   "execution_count": 7,
   "metadata": {},
   "outputs": [
    {
     "name": "stdout",
     "output_type": "stream",
     "text": [
      "[[ 0.58 -0.89]\n",
      " [-0.61  1.46]\n",
      " [-0.01 -0.57]\n",
      " [-0.61  1.9 ]\n",
      " [ 1.37 -1.41]\n",
      " [ 1.47  1.  ]\n",
      " [ 0.09 -0.8 ]\n",
      " [-0.01 -0.25]\n",
      " [-0.21 -0.57]\n",
      " [-0.21 -0.19]]\n"
     ]
    }
   ],
   "source": [
    "print(X_train[:10, :])"
   ]
  },
  {
   "cell_type": "code",
   "execution_count": 8,
   "metadata": {},
   "outputs": [
    {
     "name": "stdout",
     "output_type": "stream",
     "text": [
      "[[-0.8   0.5 ]\n",
      " [-0.01 -0.57]\n",
      " [-0.31  0.16]\n",
      " [-0.8   0.27]\n",
      " [-0.31 -0.57]\n",
      " [-1.1  -1.44]\n",
      " [-0.71 -1.58]\n",
      " [-0.21  2.16]\n",
      " [-1.99 -0.05]\n",
      " [ 0.88 -0.77]]\n"
     ]
    }
   ],
   "source": [
    "print(X_test[:10, :])"
   ]
  },
  {
   "cell_type": "markdown",
   "metadata": {},
   "source": [
    "## Train Logistic Regression Model\n",
    "- We are using scikit-learn's [sklearn.linear_model.LogisticRegression](https://scikit-learn.org/stable/modules/generated/sklearn.linear_model.LogisticRegression.html#sklearn-linear-model-logisticregression) module."
   ]
  },
  {
   "cell_type": "code",
   "execution_count": 9,
   "metadata": {},
   "outputs": [
    {
     "data": {
      "text/plain": [
       "LogisticRegression()"
      ]
     },
     "execution_count": 9,
     "metadata": {},
     "output_type": "execute_result"
    }
   ],
   "source": [
    "from sklearn.linear_model import  LogisticRegression\n",
    "logistic_regression_calssifier = LogisticRegression()\n",
    "logistic_regression_calssifier.fit(X_train, y_train)"
   ]
  },
  {
   "cell_type": "markdown",
   "metadata": {},
   "source": [
    "## Predict New Value"
   ]
  },
  {
   "cell_type": "code",
   "execution_count": 10,
   "metadata": {},
   "outputs": [
    {
     "name": "stdout",
     "output_type": "stream",
     "text": [
      "Y Prediction :  [0]\n",
      "Probability [[Age, Estimated Salary]] :  [[0.96 0.04]]\n"
     ]
    }
   ],
   "source": [
    "print(\"Y Prediction : \", logistic_regression_calssifier.predict(x_sc.transform([[35,20000]])))\n",
    "print(\"Probability [[Age, Estimated Salary]] : \", logistic_regression_calssifier.predict_proba(x_sc.transform([[35,20000]])))"
   ]
  },
  {
   "cell_type": "markdown",
   "metadata": {},
   "source": [
    "## Test Logistic Regression Model"
   ]
  },
  {
   "cell_type": "code",
   "execution_count": 11,
   "metadata": {},
   "outputs": [
    {
     "name": "stdout",
     "output_type": "stream",
     "text": [
      "Comparison of y_pred & y_test\n",
      "[[0 0]\n",
      " [0 0]\n",
      " [0 0]\n",
      " [0 0]\n",
      " [0 0]\n",
      " [0 0]\n",
      " [0 0]\n",
      " [1 1]\n",
      " [0 0]\n",
      " [1 0]\n",
      " [0 0]\n",
      " [0 0]\n",
      " [0 0]\n",
      " [0 0]\n",
      " [0 0]\n",
      " [0 0]\n",
      " [0 0]\n",
      " [0 0]\n",
      " [1 1]\n",
      " [0 0]\n",
      " [0 0]\n",
      " [1 1]\n",
      " [0 0]\n",
      " [1 1]\n",
      " [0 0]\n",
      " [1 1]\n",
      " [0 0]\n",
      " [0 0]\n",
      " [0 0]\n",
      " [0 0]\n",
      " [0 0]\n",
      " [0 1]\n",
      " [1 1]\n",
      " [0 0]\n",
      " [0 0]\n",
      " [0 0]\n",
      " [0 0]\n",
      " [0 0]\n",
      " [0 0]\n",
      " [1 1]\n",
      " [0 0]\n",
      " [0 0]\n",
      " [0 0]\n",
      " [0 0]\n",
      " [1 1]\n",
      " [0 0]\n",
      " [0 0]\n",
      " [1 1]\n",
      " [0 0]\n",
      " [1 1]\n",
      " [1 1]\n",
      " [0 0]\n",
      " [0 0]\n",
      " [0 0]\n",
      " [1 1]\n",
      " [0 1]\n",
      " [0 0]\n",
      " [0 0]\n",
      " [0 1]\n",
      " [0 0]\n",
      " [0 0]\n",
      " [1 1]\n",
      " [0 0]\n",
      " [0 1]\n",
      " [0 0]\n",
      " [1 1]\n",
      " [0 0]\n",
      " [0 0]\n",
      " [0 0]\n",
      " [0 0]\n",
      " [1 1]\n",
      " [0 0]\n",
      " [0 0]\n",
      " [0 1]\n",
      " [0 0]\n",
      " [0 0]\n",
      " [1 0]\n",
      " [0 0]\n",
      " [1 1]\n",
      " [1 1]\n",
      " [1 1]\n",
      " [1 0]\n",
      " [0 0]\n",
      " [0 0]\n",
      " [1 1]\n",
      " [1 1]\n",
      " [0 0]\n",
      " [1 1]\n",
      " [0 1]\n",
      " [0 0]\n",
      " [0 0]\n",
      " [1 1]\n",
      " [0 0]\n",
      " [0 0]\n",
      " [0 0]\n",
      " [0 1]\n",
      " [0 0]\n",
      " [0 1]\n",
      " [1 1]\n",
      " [1 1]]\n"
     ]
    }
   ],
   "source": [
    "y_pred = logistic_regression_calssifier.predict(X_test)\n",
    "probability = logistic_regression_calssifier.predict_proba(X_test)\n",
    "\n",
    "print(\"Comparison of y_pred & y_test\", np.concatenate((y_pred.reshape(len(y_pred), 1), y_test.reshape(len(y_test), 1)), 1), sep='\\n')"
   ]
  },
  {
   "cell_type": "markdown",
   "metadata": {},
   "source": [
    "## Create Confusion Matrix\n",
    "- I hope you may be confused while comparing the result! No problem we have **Confusion matrix** to resolve your confusion. \n",
    "- Confusion matrix can be represented as C(i, j) where i is the predicted value and j is the actual value.\n",
    "- for every element, we are calculating the count and place it in C(i, j)."
   ]
  },
  {
   "cell_type": "code",
   "execution_count": 12,
   "metadata": {},
   "outputs": [
    {
     "name": "stdout",
     "output_type": "stream",
     "text": [
      "Confusion Matrix : \n",
      "[[65  3]\n",
      " [ 8 24]]\n",
      "Detail view of matrix : \n",
      "Expect 0 Predict 0 : 65\n",
      "Expect 1 Predict 0 : 3\n",
      "Expect 0 Predict 1 : 8\n",
      "Expect 1 Predict 1 : 24\n"
     ]
    }
   ],
   "source": [
    "from sklearn.metrics import confusion_matrix\n",
    "matrix = confusion_matrix(y_true=y_test, y_pred=y_pred)\n",
    "print(\"Confusion Matrix : \")\n",
    "print(matrix)\n",
    "\n",
    "# Detail view of matrix\n",
    "print(\"Detail view of matrix : \")\n",
    "NO_OF_CATEGORY = len(set(y_test))\n",
    "for i in range(NO_OF_CATEGORY):\n",
    "    for j in range(NO_OF_CATEGORY):\n",
    "        print(f\"Expect {j}\", f\"Predict {i}\", \":\", matrix[i][j])\n"
   ]
  },
  {
   "cell_type": "markdown",
   "metadata": {},
   "source": [
    "- We have 65 correct prediction of result '0' & 24 correct prediction of result '1'.\n",
    "- We have 8 incorrect prediction of result '0' & 3 incorrect prediction of result '1'."
   ]
  },
  {
   "cell_type": "markdown",
   "metadata": {},
   "source": [
    "## Classification Accuracy Score"
   ]
  },
  {
   "cell_type": "code",
   "execution_count": 13,
   "metadata": {},
   "outputs": [
    {
     "name": "stdout",
     "output_type": "stream",
     "text": [
      "0.89\n"
     ]
    }
   ],
   "source": [
    "from sklearn.metrics import accuracy_score\n",
    "print(accuracy_score(y_true=y_test, y_pred=y_pred))"
   ]
  },
  {
   "cell_type": "markdown",
   "metadata": {},
   "source": [
    "- We have 100 testset where, 65+24=89 result is correct. So, our model accuracy score is 0.89 (89%)."
   ]
  },
  {
   "cell_type": "markdown",
   "metadata": {},
   "source": [
    "## Classification Report"
   ]
  },
  {
   "cell_type": "code",
   "execution_count": 14,
   "metadata": {},
   "outputs": [
    {
     "name": "stdout",
     "output_type": "stream",
     "text": [
      "                  precision    recall  f1-score   support\n",
      "\n",
      "             Age       0.89      0.96      0.92        68\n",
      "Estimated Salary       0.89      0.75      0.81        32\n",
      "\n",
      "        accuracy                           0.89       100\n",
      "       macro avg       0.89      0.85      0.87       100\n",
      "    weighted avg       0.89      0.89      0.89       100\n",
      "\n"
     ]
    }
   ],
   "source": [
    "from sklearn.metrics import classification_report\n",
    "print(classification_report(y_true=y_test, y_pred=y_pred, target_names=['Age', 'Estimated Salary']))"
   ]
  },
  {
   "cell_type": "markdown",
   "metadata": {},
   "source": [
    "## Visualising Train Set Result"
   ]
  },
  {
   "cell_type": "code",
   "execution_count": 15,
   "metadata": {},
   "outputs": [
    {
     "data": {
      "image/png": "[encoded data removed]",
      "text/plain": [
       "<Figure size 432x288 with 1 Axes>"
      ]
     },
     "metadata": {
      "needs_background": "light"
     },
     "output_type": "display_data"
    }
   ],
   "source": [
    "for i in zip(x_sc.inverse_transform(X_train), y_train):\n",
    "    X = i[0]\n",
    "    y = i[1]\n",
    "    y_pred = logistic_regression_calssifier.predict(x_sc.transform([X]))\n",
    "    if y == y_pred[0]:\n",
    "        plt.scatter(\n",
    "            x=X[0],\n",
    "            y=X[1], \n",
    "            color=('red', 'green')[y_pred[0]], \n",
    "            label=('Not Purchased (Predicted)', 'Purchased (Predicted)')[y_pred[0]]\n",
    "        )\n",
    "    else:\n",
    "        plt.scatter(x=X[0],y=X[1], color='blue', label=\"Wrong Prediction\")\n",
    "plt.title(\"Logistic Regression (Training dataset)\")\n",
    "plt.xlabel(\"Age\")\n",
    "plt.ylabel(\"Estimated Salary\")\n",
    "\n",
    "handles, labels = plt.gca().get_legend_handles_labels()\n",
    "label_dict = dict(zip(labels, handles))\n",
    "by_label = {key:label_dict[key] for key in sorted(label_dict)}\n",
    "plt.legend(by_label.values(), by_label.keys(), loc='upper right', edgecolor=\"black\", bbox_to_anchor=(1.6, 1))\n",
    "plt.show()"
   ]
  },
  {
   "cell_type": "markdown",
   "metadata": {},
   "source": [
    "## Visualising Test Set Result"
   ]
  },
  {
   "cell_type": "code",
   "execution_count": 16,
   "metadata": {},
   "outputs": [
    {
     "data": {
      "image/png": "[encoded data removed]",
      "text/plain": [
       "<Figure size 432x288 with 1 Axes>"
      ]
     },
     "metadata": {
      "needs_background": "light"
     },
     "output_type": "display_data"
    }
   ],
   "source": [
    "for i in zip(x_sc.inverse_transform(X_test), y_test):\n",
    "    X = i[0]\n",
    "    y = i[1]\n",
    "    y_pred = logistic_regression_calssifier.predict(x_sc.transform([X]))\n",
    "    if y == y_pred[0]:\n",
    "        plt.scatter(\n",
    "            x=X[0],\n",
    "            y=X[1], \n",
    "            color=('red', 'green')[y_pred[0]], \n",
    "            label=('Not Purchased (Predicted)', 'Purchased (Predicted)')[y_pred[0]]\n",
    "        )\n",
    "    else:\n",
    "        plt.scatter(x=X[0],y=X[1], color='blue', label=\"Wrong Prediction\")\n",
    "plt.title(\"Logistic Regression (Testing dataset)\")\n",
    "plt.xlabel(\"Age\")\n",
    "plt.ylabel(\"Estimated Salary\")\n",
    "\n",
    "handles, labels = plt.gca().get_legend_handles_labels()\n",
    "label_dict = dict(zip(labels, handles))\n",
    "by_label = {key:label_dict[key] for key in sorted(label_dict)}\n",
    "plt.legend(by_label.values(), by_label.keys(), loc='upper right', edgecolor=\"black\", bbox_to_anchor=(1.6, 1))\n",
    "plt.show()"
   ]
  }
 ],
 "metadata": {
  "interpreter": {
   "hash": "b3ba2566441a7c06988d0923437866b63cedc61552a5af99d1f4fb67d367b25f"
  },
  "kernelspec": {
   "display_name": "Python 3.8.8 64-bit ('base': conda)",
   "name": "python3"
  },
  "language_info": {
   "codemirror_mode": {
    "name": "ipython",
    "version": 3
   },
   "file_extension": ".py",
   "mimetype": "text/x-python",
   "name": "python",
   "nbconvert_exporter": "python",
   "pygments_lexer": "ipython3",
   "version": "3.8.8"
  }
 },
 "nbformat": 4,
 "nbformat_minor": 5
}
