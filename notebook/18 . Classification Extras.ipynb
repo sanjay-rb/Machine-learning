{
 "cells": [
  {
   "cell_type": "markdown",
   "id": "d00ca570",
   "metadata": {},
   "source": [
    "# Classification Extras"
   ]
  },
  {
   "cell_type": "markdown",
   "id": "992e3074",
   "metadata": {},
   "source": [
    "- In this notebook, we are going to look at some of the extra topics which may help you to make the model efficient.\n",
    "    1. Confusion Matrix\n",
    "    2. Calculate two rates\n",
    "    3. Accuracy Paradox\n",
    "    4. CAP Curve\n",
    "    5. CAP Curve Analysis"
   ]
  },
  {
   "cell_type": "markdown",
   "id": "ab686791",
   "metadata": {},
   "source": [
    "## Confusion Matrix"
   ]
  },
  {
   "cell_type": "markdown",
   "id": "935a6eac",
   "metadata": {},
   "source": [
    "<img src=\"../static/confusion_matrix.png\" alt=\"confusion_matrix.png\" width=\"500\">\n",
    "\n",
    "- What is this 🟧 orange box denoting?\n",
    "    - It is called **True Negatives** where the actual value is *False* & we predicted the *False* value correctly.\n",
    "- What is this 🟦 yellow box denoting?\n",
    "    - It is called **True Positives** where the actual value is *True* & we predicted the *True* value correctly.\n",
    "- What is this 🟪 yellow box denoting?\n",
    "    - It is called **False Positives** where the actual value is *False* but, we predicted it as a *True* value.\n",
    "    - It is also know as **Type I Error**\n",
    "- What is this 🟨 yellow box denoting?\n",
    "    - It is called **False Negatives** where the actual value is *True* but, we predicted it as a *False* value.\n",
    "    - It is also know as **Type II Error**"
   ]
  },
  {
   "cell_type": "markdown",
   "id": "a8f1e9fa",
   "metadata": {},
   "source": [
    "## Calculate two rates"
   ]
  },
  {
   "cell_type": "markdown",
   "id": "15c85542",
   "metadata": {},
   "source": [
    "We can perform a simple calculation on the confusion matrix to find the rate of the successful predictions (Accuracy Rate) and error predictions (Error Rate).\n",
    "\n",
    "- From above confusion matrix we can see, \n",
    "    ```\n",
    "    Total data (🟧 + 🟦 + 🟪 + 🟨) = 35 + 50 + 5 + 10 = 100\n",
    "    ```\n",
    "- Accuracy Rate :-\n",
    "    ```\n",
    "    AR = No. of. Correct Predictions / Total\n",
    "    AR = (🟧 + 🟦) / 100 \n",
    "    AR = (35 + 50) / 100 \n",
    "    AR = 0.85 \n",
    "    AR = 85%\n",
    "    ```\n",
    "- Error Rate :- \n",
    "    ```\n",
    "    AR = No. of. Wrong Predictions / Total\n",
    "    ER = (🟪 + 🟨) / 100 \n",
    "    ER = (5 + 10) / 100 \n",
    "    ER = 0.15\n",
    "    ER = 15%\n",
    "    ```"
   ]
  },
  {
   "cell_type": "markdown",
   "id": "2c9954cc",
   "metadata": {},
   "source": [
    "## Accuracy Paradox"
   ]
  },
  {
   "cell_type": "markdown",
   "id": "e90099cb",
   "metadata": {},
   "source": [
    "- Let's assume we have a confusion matrix like this\n",
    "\n",
    "<img src=\"../static/accuracy_paradox_confusion_matrix.png\" alt=\"accuracy_paradox_confusion_matrix.png\" width=\"500\">\n",
    "\n",
    "- The Accuracy Rate is,\n",
    "    ```\n",
    "    Total data (🟧 + 🟦 + 🟪 + 🟨) = 97 + 10 + 15 + 5 = 127\n",
    "    AR = No. of. Correct Predictions / Total\n",
    "    AR = (🟧 + 🟦) / 127 \n",
    "    AR = (97 + 10) / 127 \n",
    "    AR = 107 / 127 \n",
    "    AR = 0.84251968503\n",
    "    AR = 84.251968503 %\n",
    "    ```\n",
    "\n",
    "\n",
    "<img src=\"../static/accuracy_paradox_confusion_matrix_without_true.png\" alt=\"accuracy_paradox_confusion_matrix_without_true.png\" width=\"500\">\n",
    "\n",
    "- The Accuracy Rate is,\n",
    "    ```\n",
    "    Total data (🟧 + 🟦 + 🟪 + 🟨) = 112 + 0 + 0 + 15 = 127\n",
    "    AR = No. of. Correct Predictions / Total\n",
    "    AR = (🟧 + 🟦) / 127 \n",
    "    AR = (112 + 0) / 127 \n",
    "    AR = 112 / 127 \n",
    "    AR = 0.88188976378\n",
    "    AR = 88.188976378 %\n",
    "    ```"
   ]
  }
 ],
 "metadata": {
  "kernelspec": {
   "display_name": "Python 3",
   "language": "python",
   "name": "python3"
  },
  "language_info": {
   "codemirror_mode": {
    "name": "ipython",
    "version": 3
   },
   "file_extension": ".py",
   "mimetype": "text/x-python",
   "name": "python",
   "nbconvert_exporter": "python",
   "pygments_lexer": "ipython3",
   "version": "3.8.8"
  }
 },
 "nbformat": 4,
 "nbformat_minor": 5
}
