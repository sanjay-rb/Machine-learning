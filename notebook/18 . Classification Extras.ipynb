{
 "cells": [
  {
   "cell_type": "markdown",
   "id": "d00ca570",
   "metadata": {},
   "source": [
    "# Classification Extras"
   ]
  },
  {
   "cell_type": "markdown",
   "id": "992e3074",
   "metadata": {},
   "source": [
    "- In this notebook, we are going to look at some of the extra topics which may help you to make the model efficient.\n",
    "    1. False Positives & False Negatives\n",
    "    2. Confusion Matrix\n",
    "    3. Accuracy Paradox\n",
    "    4. CAP Curve\n",
    "    5. CAP Curve Analysis"
   ]
  }
 ],
 "metadata": {
  "kernelspec": {
   "display_name": "Python 3",
   "language": "python",
   "name": "python3"
  },
  "language_info": {
   "codemirror_mode": {
    "name": "ipython",
    "version": 3
   },
   "file_extension": ".py",
   "mimetype": "text/x-python",
   "name": "python",
   "nbconvert_exporter": "python",
   "pygments_lexer": "ipython3",
   "version": "3.8.8"
  }
 },
 "nbformat": 4,
 "nbformat_minor": 5
}
