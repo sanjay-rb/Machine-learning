{
 "cells": [
  {
   "cell_type": "markdown",
   "id": "d00ca570",
   "metadata": {},
   "source": [
    "# Classification Extras"
   ]
  },
  {
   "cell_type": "markdown",
   "id": "992e3074",
   "metadata": {},
   "source": [
    "- In this notebook, we are going to look at some of the extra topics which may help you to make the model efficient.\n",
    "    1. Confusion Matrix\n",
    "    2. Calculate two rates\n",
    "    3. Accuracy Paradox\n",
    "    4. CAP Curve\n",
    "    5. CAP Curve Analysis"
   ]
  },
  {
   "cell_type": "markdown",
   "id": "ab686791",
   "metadata": {},
   "source": [
    "## Confusion Matrix"
   ]
  },
  {
   "cell_type": "markdown",
   "id": "935a6eac",
   "metadata": {},
   "source": [
    "<img src=\"../static/confusion_matrix.png\" alt=\"confusion_matrix.png\" width=\"500\">\n",
    "\n",
    "- What is this 🟧 orange box denoting?\n",
    "    - It is called **True Negatives** where the actual value is *False* & we predicted the *False* value correctly.\n",
    "- What is this 🟦 blue box denoting?\n",
    "    - It is called **True Positives** where the actual value is *True* & we predicted the *True* value correctly.\n",
    "- What is this 🟪 purple box denoting?\n",
    "    - It is called **False Positives** where the actual value is *False* but, we predicted it as a *True* value.\n",
    "    - It is also know as **Type I Error**\n",
    "- What is this 🟨 yellow box denoting?\n",
    "    - It is called **False Negatives** where the actual value is *True* but, we predicted it as a *False* value.\n",
    "    - It is also know as **Type II Error**"
   ]
  },
  {
   "cell_type": "markdown",
   "id": "a8f1e9fa",
   "metadata": {},
   "source": [
    "## Calculate two rates"
   ]
  },
  {
   "cell_type": "markdown",
   "id": "15c85542",
   "metadata": {},
   "source": [
    "We can perform a simple calculation on the confusion matrix to find the rate of the successful predictions (Accuracy Rate) and error predictions (Error Rate).\n",
    "\n",
    "- From above confusion matrix we can see, \n",
    "    ```\n",
    "    Total data (🟧 + 🟦 + 🟪 + 🟨) = 35 + 50 + 5 + 10 = 100\n",
    "    ```\n",
    "- Accuracy Rate :-\n",
    "    ```\n",
    "    AR = No. of. Correct Predictions / Total\n",
    "    AR = (🟧 + 🟦) / 100 \n",
    "    AR = (35 + 50) / 100 \n",
    "    AR = 0.85 \n",
    "    AR = 85%\n",
    "    ```\n",
    "- Error Rate :- \n",
    "    ```\n",
    "    AR = No. of. Wrong Predictions / Total\n",
    "    ER = (🟪 + 🟨) / 100 \n",
    "    ER = (5 + 10) / 100 \n",
    "    ER = 0.15\n",
    "    ER = 15%\n",
    "    ```"
   ]
  },
  {
   "cell_type": "markdown",
   "id": "2c9954cc",
   "metadata": {},
   "source": [
    "## Accuracy Paradox"
   ]
  },
  {
   "cell_type": "markdown",
   "id": "e90099cb",
   "metadata": {},
   "source": [
    "- Let's assume we have a confusion matrix like this\n",
    "\n",
    "<img src=\"../static/accuracy_paradox_confusion_matrix.png\" alt=\"accuracy_paradox_confusion_matrix.png\" width=\"500\">\n",
    "\n",
    "- The Accuracy Rate is,\n",
    "    ```\n",
    "    Total data (🟧 + 🟦 + 🟪 + 🟨) = 97 + 10 + 15 + 5 = 127\n",
    "    AR = No. of. Correct Predictions / Total\n",
    "    AR = (🟧 + 🟦) / 127 \n",
    "    AR = (97 + 10) / 127 \n",
    "    AR = 107 / 127 \n",
    "    AR = 0.84251968503\n",
    "    AR = 84.251968503 %\n",
    "    ```\n",
    "\n",
    "- We are not straining to predict True for now! We are only predicting False cases.\n",
    "    - So, every positive prediction will add to False cases, as we can see in below confusion matrix\n",
    "\n",
    "<img src=\"../static/accuracy_paradox_confusion_matrix_without_true.png\" alt=\"accuracy_paradox_confusion_matrix_without_true.png\" width=\"500\">\n",
    "\n",
    "- The Accuracy Rate is,\n",
    "    ```\n",
    "    Total data (🟧 + 🟦 + 🟪 + 🟨) = 112 + 0 + 0 + 15 = 127\n",
    "    AR = No. of. Correct Predictions / Total\n",
    "    AR = (🟧 + 🟦) / 127 \n",
    "    AR = (112 + 0) / 127 \n",
    "    AR = 112 / 127 \n",
    "    AR = 0.88188976378\n",
    "    AR = 88.188976378 % ⬆️\n",
    "    ```\n",
    "\n",
    "- Wow 😮, Our Accuracy increased by 3.93 % even after we are not performing an effort to predict True case.\n",
    "- Then our effort to find true predictions are a waste! It should not happen like this. 😤"
   ]
  },
  {
   "cell_type": "markdown",
   "id": "88902051",
   "metadata": {},
   "source": [
    "## CAP Curve"
   ]
  },
  {
   "cell_type": "markdown",
   "id": "b913d20b",
   "metadata": {},
   "source": [
    "- (CAP) Cumulative Accuracy Profile, let's dig into it. \n",
    "- We have a case, where we are sent out some offers to 100,000 users were approximately 10% peoples are accepted and purchased the offer."
   ]
  },
  {
   "cell_type": "markdown",
   "id": "5bcc66be",
   "metadata": {},
   "source": [
    "### Random curve\n",
    "- So, if we have random 20,000 users then ⇾ 2,000 accepted the offer.\n",
    "- So, if we have random 40,000 users then ⇾ 4,000 accepted the offer.\n",
    "- Similarly, for every random users we can consider 10% accepted the offer.\n",
    "\n",
    "|Random User|Accepted User|\n",
    "|:---:|:---:|\n",
    "|0|0|\n",
    "|20,000|2,000|\n",
    "|40,000|4,000|\n",
    "|60,000|6,000|\n",
    "|80,000|8,000|\n",
    "|100,000|10,000|\n",
    "\n",
    "<br>\n",
    "\n",
    "<img src=\"../static/random_curve.png\" alt=\"random_curve.png\" width=\"500\">"
   ]
  },
  {
   "cell_type": "markdown",
   "id": "0667ed7e",
   "metadata": {},
   "source": [
    "### Model CAP Curve\n",
    "- Let's apply our classification model and find users accepted the offer or not. (Yes | No)\n",
    "- Our model gives, if we have trained model users 20,000 users then ⇾ 4,400 accepted the offer as per the model users similarly like these 20,000 user accepted the offer.\n",
    "- Similarly, for every trained model users we can consider given table users are accepted the offer.\n",
    "\n",
    "|Trained Model Users|Accepted User|\n",
    "|:---:|:---:|\n",
    "|0|0|\n",
    "|20,000|5,000|\n",
    "|40,000|8,100|\n",
    "|60,000|9,100|\n",
    "|80,000|9,800|\n",
    "|100,000|10,000|\n",
    "\n",
    "<br>\n",
    "\n",
    "<img src=\"../static/good_model_cap_curve.png\" alt=\"good_model_cap_curve.png\" width=\"500\">\n",
    "\n",
    "- <span style=\"color:red\">RED</span> curve is the CAP curve of the model which we trained now.\n",
    "- For, some other dataset random state. Our model is poor, and it is not trained well, then we can draw a <span style=\"color:green\">GREEN</span> line as shown in below.\n",
    "\n",
    "<img src=\"../static/poor_model_cap_curve.png\" alt=\"poor_model_cap_curve.png\" width=\"500\">\n",
    "\n",
    "> How I'm said that <span style=\"color:green\">GREEN</span> CAP curve is poor model & <span style=\"color:red\">RED</span> CAP curve is good model ?\n",
    "\n",
    "- Let's find out 😜"
   ]
  },
  {
   "cell_type": "markdown",
   "id": "c1f9abcc",
   "metadata": {},
   "source": [
    "### Perfect Curve (Crystal Ball)\n",
    "- Before, going to understand CAP curve is poor or good. We need to learn one more curve called Perfect Curve.\n",
    "- As per the case, where we are sent out some offers to 100,000 users were approximately 10% peoples are accepted and purchased the offer.\n",
    "- Perfect curve, will be look like\n",
    "\n",
    "<img src=\"../static/perfect_curve.png\" alt=\"perfect_curve.png\" width=\"500\">\n",
    "\n",
    "- So, we are getting exact users who purchased the offer which is 10%. **(Perfect Case)**"
   ]
  },
  {
   "cell_type": "markdown",
   "id": "59c397ab",
   "metadata": {},
   "source": [
    "### How we can say that <span style=\"color:green\">GREEN</span> CAP curve is poor model & <span style=\"color:red\">RED</span> CAP curve is good model ?"
   ]
  },
  {
   "cell_type": "markdown",
   "id": "57e4d99f",
   "metadata": {},
   "source": [
    "- <span style=\"color:green\">GREEN</span> is closer to **_Random Curve_**, it is farther from **_Perfect Curve_**. So, it is poor Curve.\n",
    "- <span style=\"color:red\">RED</span> is farther from **_Random Curve_**, it is slightly closer to **_Perfect Curve_**. So, it is Good Curve."
   ]
  },
  {
   "cell_type": "markdown",
   "id": "a8bd53d7",
   "metadata": {},
   "source": [
    "## CAP Analysis"
   ]
  },
  {
   "cell_type": "markdown",
   "id": "15741d43",
   "metadata": {},
   "source": [
    "There are many ways to find model performance. \n",
    "1. We can directly say, by plotting the graph.\n",
    "    - If Model CAP Curve is closer to **_Random Curve_** than it is poor model.\n",
    "    - If Model CAP Curve is closer to **_Perfect Curve_** than it is good model.\n",
    "2. We can find the ratio of area of Model CAP Curve & area of Perfect Curve.\n",
    "    - If ratio is close to 0 than it is poor model.\n",
    "    - If ratio is close to 1 than it is good model.\n",
    "3. We can take 50% users and need to find X % prediction of offer purchased. \n",
    "\n",
    "    | X % | Model Performance |\n",
    "    |:---:|:---:|\n",
    "    | 90% < X < 100% | Too Good |\n",
    "    | 80% < X < 90% | Very Good |\n",
    "    | 70% < X < 80% | Good |\n",
    "    | 60% < X < 70% | Poor |\n",
    "    | X < 60% | Rubbish |\n",
    "\n",
    "    <br>\n",
    "\n",
    "    <img src=\"../static/cap_analysis.png\" alt=\"cap_analysis.png\" width=\"500\">\n"
   ]
  },
  {
   "cell_type": "markdown",
   "id": "117e176e",
   "metadata": {},
   "source": [
    "## How do I know which model to choose for my problem ?"
   ]
  },
  {
   "cell_type": "markdown",
   "id": "69bda5e5",
   "metadata": {},
   "source": [
    "✅ If your problem is **linear**, you can go for \n",
    "- Logistic Regression\n",
    "- SVM.\n",
    "\n",
    "✅ If your problem is **non-linear**, you can go for \n",
    "- K-NN\n",
    "- Naive Bayes\n",
    "- Decision Tree \n",
    "- Random Forest."
   ]
  },
  {
   "cell_type": "markdown",
   "id": "3100a2e4",
   "metadata": {},
   "source": [
    "## Pros & Cons\n"
   ]
  },
  {
   "cell_type": "markdown",
   "id": "9ecff8b9",
   "metadata": {},
   "source": [
    "<img src=\"../static/classification_pros_cons.png\" alt=\"classification_pros_cons.png\" width=\"800\">\n"
   ]
  }
 ],
 "metadata": {
  "kernelspec": {
   "display_name": "Python 3",
   "language": "python",
   "name": "python3"
  },
  "language_info": {
   "codemirror_mode": {
    "name": "ipython",
    "version": 3
   },
   "file_extension": ".py",
   "mimetype": "text/x-python",
   "name": "python",
   "nbconvert_exporter": "python",
   "pygments_lexer": "ipython3",
   "version": "3.8.8"
  }
 },
 "nbformat": 4,
 "nbformat_minor": 5
}
