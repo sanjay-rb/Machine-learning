{
 "cells": [
  {
   "cell_type": "markdown",
   "id": "d00ca570",
   "metadata": {},
   "source": [
    "# Hierarchical Clustering      "
   ]
  },
  {
   "cell_type": "markdown",
   "id": "63ae7364",
   "metadata": {},
   "source": [
    "- Hierarchical Clustering have two types of algorithms.\n",
    "    1. Agglomerative Clustering\n",
    "    2. Divisive clustering\n",
    "- Agglomerative Clustering is bottom-up approach\n",
    "- Divisive Clustering is top-down approach \n",
    "- Let's see them with the example."
   ]
  },
  {
   "cell_type": "markdown",
   "id": "313e3b59",
   "metadata": {},
   "source": [
    "## Agglomerative Hierarchical Clustering"
   ]
  },
  {
   "cell_type": "markdown",
   "id": "a33b1e0f",
   "metadata": {},
   "source": [
    "- **Step 1** : Every point in dataset will be a unique cluster.\n",
    "- **Step 2** : Find two closest clusters and join them together as one cluster.\n",
    "- **Step 3** : Repeat **Step 2** until there is one cluster. If there is only one cluster for dataset given then **END**.\n",
    "- **END** : Your model is ready.\n",
    "\n",
    "> NOTE: Here we need to find \"closest clusters\" not distance between data points."
   ]
  },
  {
   "cell_type": "markdown",
   "id": "75cedcec",
   "metadata": {},
   "source": [
    "## Manual Example 😕"
   ]
  },
  {
   "cell_type": "markdown",
   "id": "83c27630",
   "metadata": {},
   "source": [
    "|||\n",
    "|:---:|:---:|\n",
    "|<img src=\"../static/hierarchical_clustering_ppt_1.png\" alt=\"hierarchical_clustering_ppt_1.png\" width=\"400\">|<img src=\"../static/hierarchical_clustering_ppt_2.png\" alt=\"hierarchical_clustering_ppt_2.png\" width=\"400\">|\n",
    "|<img src=\"../static/hierarchical_clustering_ppt_3.png\" alt=\"hierarchical_clustering_ppt_3.png\" width=\"400\">|<img src=\"../static/hierarchical_clustering_ppt_4.png\" alt=\"hierarchical_clustering_ppt_4.png\" width=\"400\">|\n",
    "|<img src=\"../static/hierarchical_clustering_ppt_5.png\" alt=\"hierarchical_clustering_ppt_5.png\" width=\"400\">|<img src=\"../static/hierarchical_clustering_ppt_6.png\" alt=\"hierarchical_clustering_ppt_6.png\" width=\"400\">|\n",
    "|||"
   ]
  }
 ],
 "metadata": {
  "kernelspec": {
   "display_name": "Python 3",
   "language": "python",
   "name": "python3"
  },
  "language_info": {
   "codemirror_mode": {
    "name": "ipython",
    "version": 3
   },
   "file_extension": ".py",
   "mimetype": "text/x-python",
   "name": "python",
   "nbconvert_exporter": "python",
   "pygments_lexer": "ipython3",
   "version": "3.8.8"
  }
 },
 "nbformat": 4,
 "nbformat_minor": 5
}
