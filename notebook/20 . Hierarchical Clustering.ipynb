{
 "cells": [
  {
   "cell_type": "markdown",
   "id": "d00ca570",
   "metadata": {},
   "source": [
    "# Hierarchical Clustering      "
   ]
  },
  {
   "cell_type": "markdown",
   "id": "63ae7364",
   "metadata": {},
   "source": [
    "- Hierarchical Clustering have two types of algorithms.\n",
    "    1. Agglomerative Clustering\n",
    "    2. Divisive clustering\n",
    "- Agglomerative Clustering is bottom-up approach\n",
    "- Divisive Clustering is top-down approach \n",
    "- Let's see about **Agglomerative Clustering** with the example."
   ]
  },
  {
   "cell_type": "markdown",
   "id": "313e3b59",
   "metadata": {},
   "source": [
    "## Agglomerative Hierarchical Clustering"
   ]
  },
  {
   "cell_type": "markdown",
   "id": "a33b1e0f",
   "metadata": {},
   "source": [
    "- **Step 1** : Every point in dataset will be a unique cluster.\n",
    "- **Step 2** : Find two closest clusters and join them together as one cluster.\n",
    "- **Step 3** : Repeat **Step 2** until there is one cluster. If there is only one cluster for dataset given then **END**.\n",
    "- **END** : Your model is ready.\n",
    "\n",
    "> NOTE: Here we need to find \"closest clusters\" not distance between data points."
   ]
  },
  {
   "cell_type": "markdown",
   "id": "75cedcec",
   "metadata": {},
   "source": [
    "## Manual Example 😕"
   ]
  },
  {
   "cell_type": "markdown",
   "id": "83c27630",
   "metadata": {},
   "source": [
    "|||\n",
    "|:---:|:---:|\n",
    "|<img src=\"../static/hierarchical_clustering_ppt_1.png\" alt=\"hierarchical_clustering_ppt_1.png\" width=\"400\">|<img src=\"../static/hierarchical_clustering_ppt_2.png\" alt=\"hierarchical_clustering_ppt_2.png\" width=\"400\">|\n",
    "|<img src=\"../static/hierarchical_clustering_ppt_3.png\" alt=\"hierarchical_clustering_ppt_3.png\" width=\"400\">|<img src=\"../static/hierarchical_clustering_ppt_4.png\" alt=\"hierarchical_clustering_ppt_4.png\" width=\"400\">|\n",
    "|<img src=\"../static/hierarchical_clustering_ppt_5.png\" alt=\"hierarchical_clustering_ppt_5.png\" width=\"400\">|<img src=\"../static/hierarchical_clustering_ppt_6.png\" alt=\"hierarchical_clustering_ppt_6.png\" width=\"400\">|\n",
    "|||"
   ]
  },
  {
   "cell_type": "markdown",
   "id": "2bdcef9d",
   "metadata": {},
   "source": [
    "## Dendrograms"
   ]
  },
  {
   "cell_type": "markdown",
   "metadata": {},
   "source": [
    "- When you see about manual steps. Probably you may have these questions! \n",
    "    > **Why are we creating single cluster from data points?**\n",
    "- To answer this we need to draw a graph called **_Dendrograms_**.\n",
    "\n",
    "|||\n",
    "|:---:|:---:|\n",
    "||We can plot all data points in X axis & euclidean distance in Y axis|\n",
    "|<img src=\"../static/hierarchical_clustering_ppt_1.png\" alt=\"hierarchical_clustering_ppt_1.png\" width=\"400\">|<img src=\"../static/hc_dendrograms_ppt_1.png\" alt=\"hc_dendrograms_ppt_1.png\" width=\"400\">|\n",
    "||When we connect these two points we can also connect those point in graph with height as the distance between them|\n",
    "|<img src=\"../static/hierarchical_clustering_ppt_2.png\" alt=\"hierarchical_clustering_ppt_2.png\" width=\"400\">|<img src=\"../static/hc_dendrograms_ppt_2.png\" alt=\"hc_dendrograms_ppt_2.png\" width=\"400\">|\n",
    "||When we connect these two points observe that height of them is higher than the previous one, because distance between them is higher than first cluster|\n",
    "|<img src=\"../static/hierarchical_clustering_ppt_3.png\" alt=\"hierarchical_clustering_ppt_3.png\" width=\"400\">|<img src=\"../static/hc_dendrograms_ppt_3.png\" alt=\"hc_dendrograms_ppt_3.png\" width=\"400\">|\n",
    "||This is interesting, when we add new point to the cluster it's look something like this 😃 |\n",
    "|<img src=\"../static/hierarchical_clustering_ppt_4.png\" alt=\"hierarchical_clustering_ppt_4.png\" width=\"400\">|<img src=\"../static/hc_dendrograms_ppt_4.png\" alt=\"hc_dendrograms_ppt_4.png\" width=\"400\">|\n",
    "||This is like a building block right! 🏦|\n",
    "|<img src=\"../static/hierarchical_clustering_ppt_5.png\" alt=\"hierarchical_clustering_ppt_5.png\" width=\"400\">|<img src=\"../static/hc_dendrograms_ppt_5.png\" alt=\"hc_dendrograms_ppt_5.png\" width=\"400\">|\n",
    "||And we have our final **Dendrograms** |\n",
    "|<img src=\"../static/hierarchical_clustering_ppt_6.png\" alt=\"hierarchical_clustering_ppt_6.png\" width=\"400\">|<img src=\"../static/hc_dendrograms_ppt_6.png\" alt=\"hc_dendrograms_ppt_6.png\" width=\"400\">|\n",
    "|||"
   ]
  },
  {
   "cell_type": "markdown",
   "id": "6653a0d2",
   "metadata": {},
   "source": [
    "## Using Dendrograms In Hierarchical Clustering"
   ]
  },
  {
   "cell_type": "markdown",
   "id": "ec99473a",
   "metadata": {},
   "source": [
    "- Are you getting confuse, why you learn, Dendrograms?\n",
    "- No worries! Let's find out."
   ]
  },
  {
   "cell_type": "markdown",
   "id": "c08243ee",
   "metadata": {},
   "source": [
    "As we can see our Dendrograms for Hierarchical Cluster is look like this.\n",
    "\n",
    "<img src=\"../static/hc_dendrograms_ppt_6.png\" alt=\"hc_dendrograms_ppt_6.png\" width=\"400\">\n",
    "\n",
    "Where we can **Dissimilarity Threshold** to take check cluster to fix with.\n",
    "\n",
    "- If we have Threshold at here then we will be having 2 Clusters\n",
    "\n",
    "    <img src=\"../static/hierarchical_clustering_ppt_5.png\" alt=\"hierarchical_clustering_ppt_5.png\" width=\"400\">\n",
    "    <img src=\"../static/hc_dissimilarity_threshold_1.png\" alt=\"hc_dissimilarity_threshold_1.png\" width=\"400\">\n",
    "\n",
    "- If we have Threshold at here then we have 4 cluster separation\n",
    "\n",
    "    <img src=\"../static/hierarchical_clustering_ppt_3.png\" alt=\"hierarchical_clustering_ppt_3.png\" width=\"400\">\n",
    "    <img src=\"../static/hc_dissimilarity_threshold_2.png\" alt=\"hc_dissimilarity_threshold_2.png\" width=\"400\">\n",
    "\n",
    "- Again, for this we have 6 clusters\n",
    "\n",
    "    <img src=\"../static/hierarchical_clustering_ppt_1.png\" alt=\"hierarchical_clustering_ppt_1.png\" width=\"400\">\n",
    "    <img src=\"../static/hc_dissimilarity_threshold_3.png\" alt=\"hc_dissimilarity_threshold_3.png\" width=\"400\">\n",
    "\n",
    "From above images we can understand that, if Dissimilarity Threshold Line intersect with Dendrogram Line then it is counted as one cluster.\n",
    "\n",
    "### How to find correct Dissimilarity Threshold ?\n",
    "\n",
    "We need to find the longest distance between the Dendrogram horizontal lines.\n"
   ]
  }
 ],
 "metadata": {
  "kernelspec": {
   "display_name": "Python 3",
   "language": "python",
   "name": "python3"
  },
  "language_info": {
   "codemirror_mode": {
    "name": "ipython",
    "version": 3
   },
   "file_extension": ".py",
   "mimetype": "text/x-python",
   "name": "python",
   "nbconvert_exporter": "python",
   "pygments_lexer": "ipython3",
   "version": "3.8.8"
  }
 },
 "nbformat": 4,
 "nbformat_minor": 5
}
