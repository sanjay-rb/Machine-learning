{
 "cells": [
  {
   "cell_type": "markdown",
   "metadata": {},
   "source": [
    "# Polynomial Linear Regression\n",
    "- We know about simple & multiple linear regression. How this polynomial linear regression differs from them?\n",
    "- Polynomial Linear Regression also has a single feature variable, but its degree (power) will be up to N.\n",
    "- Algorithm Type: **Regression**\n",
    "- Number of the independent variable (X) = **Only 1 with n degrees**\n",
    "- Number of dependent variable (Y) = **1**\n",
    "- This algorithm follows a polynomial linear regression equation\n",
    "\n",
    "<img src=\"../static/polynomial_linear_regression_eqn.png\" alt=\"polynomial_linear_regression_eqn.png\">"
   ]
  },
  {
   "cell_type": "markdown",
   "metadata": {},
   "source": [
    "## Data preprocessing\n",
    "- Import the necessary libraries.\n",
    "- Load dataset (Position_Salaries.csv).\n",
    "- Our dataset doesn't have any missing so, we can skip that step.\n",
    "- We have categorical string data, but they are already labeled in another column called **Level** so, we can skip that step as well.\n",
    "- We only have 10 data when we split this dataset into training and test, our algorithm doesn't give proper prediction! So, we can skip this step as well.\n",
    "- Polynomial regression algorithms are an equation type so, it is having a constant to make the model standardize, so we don't need feature scaling for this algorithm."
   ]
  },
  {
   "cell_type": "code",
   "execution_count": 1,
   "metadata": {},
   "outputs": [],
   "source": [
    "# Import the necessary libraries.\n",
    "import numpy as np\n",
    "import matplotlib.pyplot as plt\n",
    "import pandas as pd"
   ]
  },
  {
   "cell_type": "code",
   "execution_count": 2,
   "metadata": {},
   "outputs": [
    {
     "name": "stdout",
     "output_type": "stream",
     "text": [
      "Dataset\n",
      "            Position  Level   Salary\n",
      "0   Business Analyst      1    45000\n",
      "1  Junior Consultant      2    50000\n",
      "2  Senior Consultant      3    60000\n",
      "3            Manager      4    80000\n",
      "4    Country Manager      5   110000\n",
      "5     Region Manager      6   150000\n",
      "6            Partner      7   200000\n",
      "7     Senior Partner      8   300000\n",
      "8            C-level      9   500000\n",
      "9                CEO     10  1000000\n",
      "X\n",
      "[[ 1]\n",
      " [ 2]\n",
      " [ 3]\n",
      " [ 4]\n",
      " [ 5]\n",
      " [ 6]\n",
      " [ 7]\n",
      " [ 8]\n",
      " [ 9]\n",
      " [10]]\n",
      "Y\n",
      "[  45000   50000   60000   80000  110000  150000  200000  300000  500000\n",
      " 1000000]\n"
     ]
    }
   ],
   "source": [
    "dataset = pd.read_csv(r\"../dataset/Position_Salaries.csv\")\n",
    "X = dataset.iloc[:, 1:-1].values # [row, column]\n",
    "Y = dataset.iloc[:, -1].values\n",
    "print(\"Dataset\", dataset, \"X\", X, \"Y\", Y, sep=\"\\n\")"
   ]
  },
  {
   "cell_type": "markdown",
   "metadata": {},
   "source": [
    "# Train Polynomial Linear Regression Model"
   ]
  },
  {
   "cell_type": "code",
   "execution_count": 3,
   "metadata": {},
   "outputs": [
    {
     "name": "stdout",
     "output_type": "stream",
     "text": [
      "[[   1.    1.    1.    1.]\n",
      " [   1.    2.    4.    8.]\n",
      " [   1.    3.    9.   27.]\n",
      " [   1.    4.   16.   64.]\n",
      " [   1.    5.   25.  125.]\n",
      " [   1.    6.   36.  216.]\n",
      " [   1.    7.   49.  343.]\n",
      " [   1.    8.   64.  512.]\n",
      " [   1.    9.   81.  729.]\n",
      " [   1.   10.  100. 1000.]]\n"
     ]
    }
   ],
   "source": [
    "# converting normal feature x to x^n ....\n",
    "from sklearn.preprocessing import PolynomialFeatures\n",
    "x_ploy = PolynomialFeatures(degree=3).fit_transform(X) # how higher the degree is directly proportional to the algorithm result\n",
    "print(x_ploy)"
   ]
  },
  {
   "cell_type": "code",
   "execution_count": 4,
   "metadata": {},
   "outputs": [
    {
     "data": {
      "text/plain": [
       "LinearRegression()"
      ]
     },
     "execution_count": 4,
     "metadata": {},
     "output_type": "execute_result"
    }
   ],
   "source": [
    "from sklearn.linear_model import LinearRegression\n",
    "linear_ploy_regressor = LinearRegression()\n",
    "linear_ploy_regressor.fit(x_ploy, Y)"
   ]
  },
  {
   "cell_type": "markdown",
   "metadata": {},
   "source": [
    "## Check and visualize result"
   ]
  },
  {
   "cell_type": "code",
   "execution_count": 5,
   "metadata": {},
   "outputs": [
    {
     "data": {
      "image/png": "[encoded data removed]",
      "text/plain": [
       "<Figure size 432x288 with 1 Axes>"
      ]
     },
     "metadata": {
      "needs_background": "light"
     },
     "output_type": "display_data"
    }
   ],
   "source": [
    "# we are making x grid to see smooth & clean curve....\n",
    "X_grid = np.arange(min(X), max(X), 0.1)\n",
    "X_grid = X_grid.reshape((len(X_grid), 1))\n",
    "\n",
    "# Passing grid to plt to draw plot....\n",
    "plt.scatter(X, Y, color = 'red')\n",
    "plt.plot(X_grid, linear_ploy_regressor.predict( PolynomialFeatures(degree=3).fit_transform(X_grid)), color = 'purple')\n",
    "plt.title(\"Salary vs Position (Ploynomial Linear Regression)\")\n",
    "plt.xlabel(\"Position Level\")\n",
    "plt.ylabel(\"Salary\")\n",
    "plt.show()"
   ]
  },
  {
   "cell_type": "markdown",
   "metadata": {},
   "source": [
    "## Compare polynomial regression with simple regression\n",
    "- Can you guess what will be the out for simple linear regression? 😉"
   ]
  },
  {
   "cell_type": "code",
   "execution_count": 6,
   "metadata": {},
   "outputs": [
    {
     "data": {
      "text/plain": [
       "LinearRegression()"
      ]
     },
     "execution_count": 6,
     "metadata": {},
     "output_type": "execute_result"
    }
   ],
   "source": [
    "from sklearn.linear_model import LinearRegression\n",
    "linear_simple_regressor = LinearRegression()\n",
    "linear_simple_regressor.fit(X, Y)"
   ]
  },
  {
   "cell_type": "code",
   "execution_count": 7,
   "metadata": {},
   "outputs": [
    {
     "data": {
      "image/png": "[encoded data removed]",
      "text/plain": [
       "<Figure size 432x288 with 1 Axes>"
      ]
     },
     "metadata": {
      "needs_background": "light"
     },
     "output_type": "display_data"
    }
   ],
   "source": [
    "X_grid = np.arange(min(X), max(X), 0.1)\n",
    "X_grid = X_grid.reshape((len(X_grid), 1))\n",
    "\n",
    "plt.scatter(x=X, y=Y, color='red')\n",
    "plt.plot(X, linear_simple_regressor.predict(X), color='purple')\n",
    "plt.title(\"Salary vs Position (Simple Linear Regression)\")\n",
    "plt.xlabel(\"Position Level\")\n",
    "plt.ylabel(\"Salary\")\n",
    "plt.show()"
   ]
  },
  {
   "cell_type": "markdown",
   "metadata": {},
   "source": [
    "## Simple vs Polynomial Linear Regression Result\n",
    "- We can clearly see that Simple linear regression is not matching with the data set completely 😮"
   ]
  },
  {
   "cell_type": "markdown",
   "metadata": {},
   "source": [
    "## Test with new data"
   ]
  },
  {
   "cell_type": "code",
   "execution_count": 8,
   "metadata": {},
   "outputs": [
    {
     "name": "stdout",
     "output_type": "stream",
     "text": [
      "Simple Linear Regression : [330378.78787879]\n",
      "Polynomial Linear Regression : [133259.46969697]\n"
     ]
    }
   ],
   "source": [
    "print(\"Simple Linear Regression :\", linear_simple_regressor.predict([[6.5]]))\n",
    "print(\"Polynomial Linear Regression :\", linear_ploy_regressor.predict(PolynomialFeatures(degree=3).fit_transform([[6.5]])))"
   ]
  }
 ],
 "metadata": {
  "interpreter": {
   "hash": "b3ba2566441a7c06988d0923437866b63cedc61552a5af99d1f4fb67d367b25f"
  },
  "kernelspec": {
   "display_name": "Python 3.8.8 64-bit ('base': conda)",
   "name": "python3"
  },
  "language_info": {
   "codemirror_mode": {
    "name": "ipython",
    "version": 3
   },
   "file_extension": ".py",
   "mimetype": "text/x-python",
   "name": "python",
   "nbconvert_exporter": "python",
   "pygments_lexer": "ipython3",
   "version": "3.9.7"
  }
 },
 "nbformat": 4,
 "nbformat_minor": 5
}
