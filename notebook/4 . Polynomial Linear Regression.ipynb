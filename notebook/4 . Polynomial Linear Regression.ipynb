{
 "cells": [
  {
   "cell_type": "markdown",
   "source": [
    "# Polynomial Linear Regression\r\n",
    "- We know about simple & multiple linear regression. How this polynomial linear regression differs from them?\r\n",
    "- Polynomial Linear Regression also has a single feature variable, but its degree (power) will be up to N.\r\n",
    "- Number of the independent variable (X) = Only 1 with n degrees\r\n",
    "- Number of dependent variable (Y) = 1\r\n",
    "- This algorithm follows a polynomial linear regression equation\r\n",
    "\r\n",
    "<img src=\"../images/polynomial_linear_regression_eqn.png\" alt=\"polynomial_linear_regression_eqn.png\">"
   ],
   "metadata": {}
  },
  {
   "cell_type": "markdown",
   "source": [
    "## Data preprocessing\r\n",
    "- Import the necessary libraries.\r\n",
    "- Load dataset (Position_Salaries.csv).\r\n",
    "- Our dataset doesn't have any missing so, we can skip that step.\r\n",
    "- We have categorical string data, but they are already label in another column called **Level** so, we can skip that step as well.\r\n",
    "- We only have 10 data when we split this dataset into training and test, our algorithm doesn't give proper prediction! So, we can skip this step as well.\r\n",
    "- Polynomial regression algorithms are an equation type so, it is having a constant to make the model standardize, so we don't need feature scaling for this algorithm."
   ],
   "metadata": {}
  },
  {
   "cell_type": "code",
   "execution_count": 1,
   "source": [
    "# Import the necessary libraries.\r\n",
    "import numpy as np\r\n",
    "import matplotlib.pyplot as plt\r\n",
    "import pandas as pd"
   ],
   "outputs": [],
   "metadata": {}
  },
  {
   "cell_type": "code",
   "execution_count": 2,
   "source": [
    "dataset = pd.read_csv(r\"../dataset/Position_Salaries.csv\")\r\n",
    "X = dataset.iloc[:, 1:-1].values # [row, column]\r\n",
    "Y = dataset.iloc[:, -1].values\r\n",
    "print(\"Dataset\", dataset, \"X\", X, \"Y\", Y, sep=\"\\n\")"
   ],
   "outputs": [
    {
     "output_type": "stream",
     "name": "stdout",
     "text": [
      "Dataset\n",
      "            Position  Level   Salary\n",
      "0   Business Analyst      1    45000\n",
      "1  Junior Consultant      2    50000\n",
      "2  Senior Consultant      3    60000\n",
      "3            Manager      4    80000\n",
      "4    Country Manager      5   110000\n",
      "5     Region Manager      6   150000\n",
      "6            Partner      7   200000\n",
      "7     Senior Partner      8   300000\n",
      "8            C-level      9   500000\n",
      "9                CEO     10  1000000\n",
      "X\n",
      "[[ 1]\n",
      " [ 2]\n",
      " [ 3]\n",
      " [ 4]\n",
      " [ 5]\n",
      " [ 6]\n",
      " [ 7]\n",
      " [ 8]\n",
      " [ 9]\n",
      " [10]]\n",
      "Y\n",
      "[  45000   50000   60000   80000  110000  150000  200000  300000  500000\n",
      " 1000000]\n"
     ]
    }
   ],
   "metadata": {}
  },
  {
   "cell_type": "markdown",
   "source": [
    "# Train Polynomial Linear Regression Model"
   ],
   "metadata": {}
  },
  {
   "cell_type": "code",
   "execution_count": 3,
   "source": [
    "# converting normal feature x to x^n ....\r\n",
    "from sklearn.preprocessing import PolynomialFeatures\r\n",
    "x_ploy = PolynomialFeatures(degree=3).fit_transform(X)\r\n",
    "print(x_ploy)"
   ],
   "outputs": [
    {
     "output_type": "stream",
     "name": "stdout",
     "text": [
      "[[   1.    1.    1.    1.]\n",
      " [   1.    2.    4.    8.]\n",
      " [   1.    3.    9.   27.]\n",
      " [   1.    4.   16.   64.]\n",
      " [   1.    5.   25.  125.]\n",
      " [   1.    6.   36.  216.]\n",
      " [   1.    7.   49.  343.]\n",
      " [   1.    8.   64.  512.]\n",
      " [   1.    9.   81.  729.]\n",
      " [   1.   10.  100. 1000.]]\n"
     ]
    }
   ],
   "metadata": {}
  },
  {
   "cell_type": "code",
   "execution_count": 4,
   "source": [
    "from sklearn.linear_model import LinearRegression\r\n",
    "linear_ploy_regressor = LinearRegression()\r\n",
    "linear_ploy_regressor.fit(x_ploy, Y)"
   ],
   "outputs": [
    {
     "output_type": "execute_result",
     "data": {
      "text/plain": [
       "LinearRegression()"
      ]
     },
     "metadata": {},
     "execution_count": 4
    }
   ],
   "metadata": {}
  },
  {
   "cell_type": "markdown",
   "source": [
    "## Check and visualize result"
   ],
   "metadata": {}
  },
  {
   "cell_type": "code",
   "execution_count": 6,
   "source": [
    "# we are making x grid to see smooth a& clean curve....\r\n",
    "X_grid = np.arange(min(X), max(X), 0.1)\r\n",
    "X_grid = X_grid.reshape((len(X_grid), 1))\r\n",
    "\r\n",
    "# Passing grid to plt to draw plot....\r\n",
    "plt.scatter(X, Y, color = 'red')\r\n",
    "plt.plot(X_grid, linear_ploy_regressor.predict( PolynomialFeatures(degree=3).fit_transform(X_grid)), color = 'purple')\r\n",
    "plt.title(\"Salary vs Position (Ploynomial Linear Regression)\")\r\n",
    "plt.xlabel(\"Position Level\")\r\n",
    "plt.ylabel(\"Salary\")\r\n",
    "plt.show()"
   ],
   "outputs": [
    {
     "output_type": "display_data",
     "data": {
      "image/png": "[encoded data removed]",
      "text/plain": [
       "<Figure size 432x288 with 1 Axes>"
      ]
     },
     "metadata": {
      "needs_background": "light"
     }
    }
   ],
   "metadata": {}
  }
 ],
 "metadata": {
  "kernelspec": {
   "name": "python3",
   "display_name": "Python 3.8.8 64-bit ('base': conda)"
  },
  "language_info": {
   "codemirror_mode": {
    "name": "ipython",
    "version": 3
   },
   "file_extension": ".py",
   "mimetype": "text/x-python",
   "name": "python",
   "nbconvert_exporter": "python",
   "pygments_lexer": "ipython3",
   "version": "3.8.8"
  },
  "interpreter": {
   "hash": "b3ba2566441a7c06988d0923437866b63cedc61552a5af99d1f4fb67d367b25f"
  }
 },
 "nbformat": 4,
 "nbformat_minor": 5
}