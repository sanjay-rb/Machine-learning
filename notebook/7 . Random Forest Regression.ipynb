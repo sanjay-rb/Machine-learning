{
 "cells": [
  {
   "cell_type": "markdown",
   "source": [
    "# Random Forest Regression\r\n",
    "- Random Forest is the collection of **randomly trained decision trees** and finds the best out of that by the average.\r\n",
    "- Hence, random forest is the version of **ensemble learning**! Yes, ensemble learning is the process of training the same or different algorithm multiple times and selecting the best out of it.\r\n",
    "- Algorithm type: **Regression**\r\n",
    "- Number of the independent variable (X) = **N**\r\n",
    "- Number of dependent variable (Y) = **1**\r\n",
    "## Steps\r\n",
    "1. Pick at random K data points from the Training set\r\n",
    "2. Build the Decision Tree associated with these K data points\r\n",
    "3. Choose the number Ntree for tree you want to build and repeat STEPS 1 & 2\r\n",
    "4. For a new data point, make each one of your Ntree trees predicts the value of Y for the data point in question and assign the new data point the average across all of the predicted Y values. "
   ],
   "metadata": {}
  },
  {
   "cell_type": "markdown",
   "source": [
    "## Illustration\r\n",
    "- We have 2 different decision tree build on different data points.\r\n",
    "- We can understandt yjat one tree is tall and another on have wide branches.\r\n",
    "- Simillarly we can generate N number decision tree from the input dataset.\r\n",
    "\r\n",
    "<img src=\"../images/random_forest_tree_illution_1.png\" alt=\"random_forest_tree_illution_1.png\" width=\"500\">\r\n",
    "<img src=\"../images/random_forest_tree_illution_2.png\" alt=\"random_forest_tree_illution_2.png\" width=\"500\">\r\n",
    "\r\n",
    "- But, We all know forest is the combination of multiple trees. 🌳🌲🌴🎋 -> 🏕️\r\n",
    "\r\n",
    "<img src=\"../images/random_forest_illution.png\" alt=\"random_forest_illution.png\" width=\"1000\">"
   ],
   "metadata": {}
  },
  {
   "cell_type": "markdown",
   "source": [
    "\r\n",
    "# Data preprocessing\r\n",
    "✔️ Import the necessary libraries.\r\n",
    "\r\n",
    "✔️ Load dataset (Position_Salaries.csv).\r\n",
    "\r\n",
    "❌ Our dataset doesn't have any missing so, we can skip that step.\r\n",
    "\r\n",
    "❌ We have categorical string data, but they are already label in another column called Level so, we can skip that step as well.\r\n",
    "\r\n",
    "❌ We only have 10 data when we split this dataset into training and test, our algorithm doesn't give proper prediction! So, we can skip this step as well.\r\n",
    "\r\n",
    "❌ Random foresy regression is non equation type so, we don't need to perform feature scaling for this algorithm."
   ],
   "metadata": {}
  },
  {
   "cell_type": "code",
   "execution_count": 1,
   "source": [
    "# Import the necessary libraries.\r\n",
    "import numpy as np\r\n",
    "import matplotlib.pyplot as plt\r\n",
    "import pandas as pd"
   ],
   "outputs": [],
   "metadata": {}
  },
  {
   "cell_type": "code",
   "execution_count": 2,
   "source": [
    "# Load dataset (Position_Salaries.csv).\r\n",
    "dataset = pd.read_csv(r\"../dataset/Position_Salaries.csv\")\r\n",
    "X = dataset.iloc[:, 1:-1].values # [row, column]\r\n",
    "Y = dataset.iloc[:, -1].values\r\n",
    "print(\"Dataset\", dataset, \"X\", X, \"Y\", Y, sep=\"\\n\")"
   ],
   "outputs": [
    {
     "output_type": "stream",
     "name": "stdout",
     "text": [
      "Dataset\n",
      "            Position  Level   Salary\n",
      "0   Business Analyst      1    45000\n",
      "1  Junior Consultant      2    50000\n",
      "2  Senior Consultant      3    60000\n",
      "3            Manager      4    80000\n",
      "4    Country Manager      5   110000\n",
      "5     Region Manager      6   150000\n",
      "6            Partner      7   200000\n",
      "7     Senior Partner      8   300000\n",
      "8            C-level      9   500000\n",
      "9                CEO     10  1000000\n",
      "X\n",
      "[[ 1]\n",
      " [ 2]\n",
      " [ 3]\n",
      " [ 4]\n",
      " [ 5]\n",
      " [ 6]\n",
      " [ 7]\n",
      " [ 8]\n",
      " [ 9]\n",
      " [10]]\n",
      "Y\n",
      "[  45000   50000   60000   80000  110000  150000  200000  300000  500000\n",
      " 1000000]\n"
     ]
    }
   ],
   "metadata": {}
  },
  {
   "cell_type": "markdown",
   "source": [
    "## Train Random Forest Regression Model"
   ],
   "metadata": {}
  },
  {
   "cell_type": "code",
   "execution_count": 3,
   "source": [
    "from sklearn.ensemble import RandomForestRegressor\r\n",
    "regressor = RandomForestRegressor(n_estimators = 10) # n_estimators -> number of trees to train the forest\r\n",
    "regressor.fit(X, Y)"
   ],
   "outputs": [
    {
     "output_type": "execute_result",
     "data": {
      "text/plain": [
       "RandomForestRegressor(n_estimators=10)"
      ]
     },
     "metadata": {},
     "execution_count": 3
    }
   ],
   "metadata": {}
  },
  {
   "cell_type": "markdown",
   "source": [
    "## Test Random Forest Regression Model"
   ],
   "metadata": {}
  },
  {
   "cell_type": "code",
   "execution_count": 4,
   "source": [
    "regressor.predict([[5.6], [6.0], [6.5]])"
   ],
   "outputs": [
    {
     "output_type": "execute_result",
     "data": {
      "text/plain": [
       "array([144000., 144000., 162000.])"
      ]
     },
     "metadata": {},
     "execution_count": 4
    }
   ],
   "metadata": {}
  },
  {
   "cell_type": "markdown",
   "source": [
    "## Check and visualize result"
   ],
   "metadata": {}
  },
  {
   "cell_type": "code",
   "execution_count": 5,
   "source": [
    "X_grid = np.arange(min(X), max(X), 0.1)\r\n",
    "X_grid = X_grid.reshape((len(X_grid), 1))\r\n",
    "\r\n",
    "plt.scatter(X, Y, color = 'red')\r\n",
    "plt.plot(X_grid, regressor.predict(X_grid), color = 'purple')\r\n",
    "plt.title(\"Salary vs Position (Random Forest Regression)\")\r\n",
    "plt.xlabel(\"Position Level\")\r\n",
    "plt.ylabel(\"Salary\")\r\n",
    "plt.show()"
   ],
   "outputs": [
    {
     "output_type": "display_data",
     "data": {
      "image/png": "[encoded data removed]",
      "text/plain": [
       "<Figure size 432x288 with 1 Axes>"
      ]
     },
     "metadata": {
      "needs_background": "light"
     }
    }
   ],
   "metadata": {}
  },
  {
   "cell_type": "markdown",
   "source": [
    "From the above result, you can understand that algorithm is generating the boundaries as we have seen in the decision tree result. But, now the random forest is much better than that because the model is not tightly fitted to the dataset. "
   ],
   "metadata": {}
  }
 ],
 "metadata": {
  "kernelspec": {
   "name": "python3",
   "display_name": "Python 3.8.8 64-bit ('base': conda)"
  },
  "language_info": {
   "codemirror_mode": {
    "name": "ipython",
    "version": 3
   },
   "file_extension": ".py",
   "mimetype": "text/x-python",
   "name": "python",
   "nbconvert_exporter": "python",
   "pygments_lexer": "ipython3",
   "version": "3.8.8"
  },
  "interpreter": {
   "hash": "b3ba2566441a7c06988d0923437866b63cedc61552a5af99d1f4fb67d367b25f"
  }
 },
 "nbformat": 4,
 "nbformat_minor": 5
}