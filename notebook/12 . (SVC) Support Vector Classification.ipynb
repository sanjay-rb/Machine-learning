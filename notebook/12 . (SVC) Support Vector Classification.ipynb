{
 "cells": [
  {
   "cell_type": "markdown",
   "id": "d00ca570",
   "metadata": {},
   "source": [
    "# (SVC) Support Vector Classification (linear)"
   ]
  },
  {
   "cell_type": "markdown",
   "id": "ec49e4e1",
   "metadata": {},
   "source": [
    "- Check [(SVR) Support Vector Regression]((https://github.com/sanjaysanju618/Machine-learning/blob/5_svr_support_vector_regression/notebook/5%20.%20(SVR)%20Support%20Vector%20Regression.ipynb)) before this notebook.\n",
    "- We all know that (SVM) Support Vector Machine is something which has an extra tube with a length of Ɛ. \n",
    "- SVM has many kernels where we can get the best result, out of them dependent on the dataset.\n",
    "- In this notebook, we are going to look into **Linear (SVC) Support Vector Classification**"
   ]
  },
  {
   "cell_type": "markdown",
   "id": "e5196583",
   "metadata": {},
   "source": [
    "## Algorithm"
   ]
  },
  {
   "cell_type": "markdown",
   "id": "1f2facea",
   "metadata": {},
   "source": [
    "<img src=\"../images/general_classification_graph.png\" alt=\"general_classification_graph.png\" width=\"500\">\n",
    "\n",
    "- How will you separate the category by a single line?\n",
    "- Yes, you can draw a horizontal line, vertical line, or any random line that split the category.\n",
    "- SVC will find for best line which has a higher Ɛ length in total.\n",
    "\n",
    "<img src=\"../images/svc_graph.png\" alt=\"svc_graph.png\" width=\"500\">\n",
    "\n",
    "- Here, the line is also called as **Hyperplane**\n",
    "- If you see the pic carefully. You can find that two support vector is selected and hyperplane between them and have maximum Ɛ,\n",
    "- END: Your model is ready"
   ]
  },
  {
   "cell_type": "markdown",
   "id": "ccbdb239",
   "metadata": {},
   "source": [
    "## Data preprocessing\n",
    "\n",
    "✔️ Import the necessary libraries.\n",
    "\n",
    "✔️ Load dataset (Social_Network_Ads.csv).\n",
    "\n",
    "❌ Our dataset doesn't have any missing data.\n",
    "\n",
    "❌ Our dataset doesn't have any string data.\n",
    "\n",
    "✔️ We have 400 data. So, we can split and have 75% for the training set and 25% for the testing set.\n",
    "\n",
    "✔️ Applying feature scaling for the dataset will improve the performance of the model."
   ]
  },
  {
   "cell_type": "code",
   "execution_count": 1,
   "id": "1802f06c",
   "metadata": {},
   "outputs": [],
   "source": [
    "# Import libraries....\n",
    "import numpy as np\n",
    "import matplotlib.pyplot as plt\n",
    "import pandas as pd\n",
    "\n",
    "# setting two digits after decimal point...\n",
    "np.set_printoptions(precision=2)"
   ]
  },
  {
   "cell_type": "code",
   "execution_count": 2,
   "id": "a03defbc",
   "metadata": {},
   "outputs": [],
   "source": [
    "# Load dataset...\n",
    "dataset = pd.read_csv(r\"../dataset/Social_Network_Ads.csv\")\n",
    "X = dataset.iloc[:, :-1].values # [row, column]\n",
    "y = dataset.iloc[:, -1].values"
   ]
  },
  {
   "cell_type": "code",
   "execution_count": 3,
   "id": "98a3ba3c",
   "metadata": {},
   "outputs": [],
   "source": [
    "# Split testing and training dataset...\n",
    "from sklearn.model_selection import train_test_split\n",
    "X_train, X_test, y_train, y_test = train_test_split(X, y, test_size=0.25, random_state=0)"
   ]
  },
  {
   "cell_type": "code",
   "execution_count": 4,
   "id": "f6fa2aef",
   "metadata": {},
   "outputs": [],
   "source": [
    "# Performing feature scaling for the independent variable...\n",
    "# Dependent variable y is already having 0's & 1's...\n",
    "from sklearn.preprocessing import StandardScaler\n",
    "x_sc = StandardScaler()\n",
    "X_train = x_sc.fit_transform(X_train)\n",
    "X_test = x_sc.transform(X_test)"
   ]
  },
  {
   "cell_type": "markdown",
   "id": "fda02347",
   "metadata": {},
   "source": [
    "## Train SVC Model\n",
    "- We are using scikit-learn's [sklearn.svm.SVC](https://scikit-learn.org/stable/modules/generated/sklearn.svm.SVC.html?#sklearn-svm-svc) module."
   ]
  },
  {
   "cell_type": "code",
   "execution_count": 5,
   "id": "28198960",
   "metadata": {},
   "outputs": [
    {
     "data": {
      "text/plain": [
       "SVC(kernel='linear', random_state=0)"
      ]
     },
     "execution_count": 5,
     "metadata": {},
     "output_type": "execute_result"
    }
   ],
   "source": [
    "from sklearn.svm import SVC\n",
    "# we have selected linear kernal to see the linear classification between the category.\n",
    "# please do try changing the kernal by researching the sklearn's documentation. \n",
    "# we will see kernal svc model in next branch\n",
    "svc_calssifier = SVC(kernel=\"linear\", random_state=0)\n",
    "svc_calssifier.fit(X_train, y_train)"
   ]
  },
  {
   "cell_type": "markdown",
   "id": "e9c2dca0",
   "metadata": {},
   "source": [
    "## Predict New Value"
   ]
  },
  {
   "cell_type": "code",
   "execution_count": 6,
   "id": "6520f1ab",
   "metadata": {},
   "outputs": [
    {
     "name": "stdout",
     "output_type": "stream",
     "text": [
      "Y Prediction :  [0]\n"
     ]
    }
   ],
   "source": [
    "print(\"Y Prediction : \", svc_calssifier.predict(x_sc.transform([[35,20000]])))"
   ]
  },
  {
   "cell_type": "markdown",
   "id": "95f07c2a",
   "metadata": {},
   "source": [
    "## Test SVC Model"
   ]
  },
  {
   "cell_type": "code",
   "execution_count": 7,
   "id": "53959a69",
   "metadata": {},
   "outputs": [
    {
     "name": "stdout",
     "output_type": "stream",
     "text": [
      "Comparison of y_pred & y_test\n",
      "[[0 0]\n",
      " [0 0]\n",
      " [0 0]\n",
      " [0 0]\n",
      " [0 0]\n",
      " [0 0]\n",
      " [0 0]\n",
      " [1 1]\n",
      " [0 0]\n",
      " [0 0]\n",
      " [0 0]\n",
      " [0 0]\n",
      " [0 0]\n",
      " [0 0]\n",
      " [0 0]\n",
      " [0 0]\n",
      " [0 0]\n",
      " [0 0]\n",
      " [1 1]\n",
      " [0 0]\n",
      " [0 0]\n",
      " [1 1]\n",
      " [0 0]\n",
      " [1 1]\n",
      " [0 0]\n",
      " [1 1]\n",
      " [0 0]\n",
      " [0 0]\n",
      " [0 0]\n",
      " [0 0]\n",
      " [0 0]\n",
      " [0 1]\n",
      " [1 1]\n",
      " [0 0]\n",
      " [0 0]\n",
      " [0 0]\n",
      " [0 0]\n",
      " [0 0]\n",
      " [0 0]\n",
      " [1 1]\n",
      " [0 0]\n",
      " [0 0]\n",
      " [0 0]\n",
      " [0 0]\n",
      " [1 1]\n",
      " [0 0]\n",
      " [0 0]\n",
      " [1 1]\n",
      " [0 0]\n",
      " [1 1]\n",
      " [1 1]\n",
      " [0 0]\n",
      " [0 0]\n",
      " [0 0]\n",
      " [1 1]\n",
      " [0 1]\n",
      " [0 0]\n",
      " [0 0]\n",
      " [0 1]\n",
      " [0 0]\n",
      " [0 0]\n",
      " [1 1]\n",
      " [0 0]\n",
      " [0 1]\n",
      " [0 0]\n",
      " [1 1]\n",
      " [0 0]\n",
      " [0 0]\n",
      " [0 0]\n",
      " [0 0]\n",
      " [1 1]\n",
      " [0 0]\n",
      " [0 0]\n",
      " [0 1]\n",
      " [0 0]\n",
      " [0 0]\n",
      " [1 0]\n",
      " [0 0]\n",
      " [1 1]\n",
      " [1 1]\n",
      " [1 1]\n",
      " [1 0]\n",
      " [0 0]\n",
      " [0 0]\n",
      " [1 1]\n",
      " [1 1]\n",
      " [0 0]\n",
      " [1 1]\n",
      " [0 1]\n",
      " [0 0]\n",
      " [0 0]\n",
      " [1 1]\n",
      " [0 0]\n",
      " [0 0]\n",
      " [0 0]\n",
      " [0 1]\n",
      " [0 0]\n",
      " [0 1]\n",
      " [1 1]\n",
      " [1 1]]\n"
     ]
    }
   ],
   "source": [
    "y_pred = svc_calssifier.predict(X_test)\n",
    "print(\"Comparison of y_pred & y_test\", np.concatenate((y_pred.reshape(len(y_pred), 1), y_test.reshape(len(y_test), 1)), 1), sep='\\n')"
   ]
  },
  {
   "cell_type": "markdown",
   "id": "76bc40db",
   "metadata": {},
   "source": [
    "## Create Confusion Matrix "
   ]
  },
  {
   "cell_type": "code",
   "execution_count": 8,
   "id": "06471568",
   "metadata": {},
   "outputs": [
    {
     "name": "stdout",
     "output_type": "stream",
     "text": [
      "Confusion Matrix : \n",
      "[[66  2]\n",
      " [ 8 24]]\n",
      "Detail view of matrix : \n",
      "Expect 0 Predict 0 : 66\n",
      "Expect 1 Predict 0 : 2\n",
      "Expect 0 Predict 1 : 8\n",
      "Expect 1 Predict 1 : 24\n"
     ]
    }
   ],
   "source": [
    "from sklearn.metrics import confusion_matrix\n",
    "matrix = confusion_matrix(y_true=y_test, y_pred=y_pred)\n",
    "print(\"Confusion Matrix : \")\n",
    "print(matrix)\n",
    "\n",
    "# Detail view of matrix\n",
    "print(\"Detail view of matrix : \")\n",
    "NO_OF_CATEGORY = len(set(y_test))\n",
    "for i in range(NO_OF_CATEGORY):\n",
    "    for j in range(NO_OF_CATEGORY):\n",
    "        print(f\"Expect {j}\", f\"Predict {i}\", \":\", matrix[i][j])"
   ]
  },
  {
   "cell_type": "markdown",
   "id": "cd7d72f7",
   "metadata": {},
   "source": [
    "## Classification Accuracy Score"
   ]
  },
  {
   "cell_type": "code",
   "execution_count": 9,
   "id": "11b51eb0",
   "metadata": {},
   "outputs": [
    {
     "name": "stdout",
     "output_type": "stream",
     "text": [
      "0.9\n"
     ]
    }
   ],
   "source": [
    "from sklearn.metrics import accuracy_score\n",
    "print(accuracy_score(y_true=y_test, y_pred=y_pred))"
   ]
  },
  {
   "cell_type": "markdown",
   "id": "984c2920",
   "metadata": {},
   "source": [
    "## Classification Report"
   ]
  },
  {
   "cell_type": "code",
   "execution_count": 10,
   "id": "90902cb5",
   "metadata": {},
   "outputs": [
    {
     "name": "stdout",
     "output_type": "stream",
     "text": [
      "                  precision    recall  f1-score   support\n",
      "\n",
      "             Age       0.89      0.97      0.93        68\n",
      "Estimated Salary       0.92      0.75      0.83        32\n",
      "\n",
      "        accuracy                           0.90       100\n",
      "       macro avg       0.91      0.86      0.88       100\n",
      "    weighted avg       0.90      0.90      0.90       100\n",
      "\n"
     ]
    }
   ],
   "source": [
    "from sklearn.metrics import classification_report\n",
    "print(classification_report(y_true=y_test, y_pred=y_pred, target_names=['Age', 'Estimated Salary']))"
   ]
  },
  {
   "cell_type": "markdown",
   "id": "0341743b",
   "metadata": {},
   "source": [
    "## Visualising Train Set Result"
   ]
  },
  {
   "cell_type": "code",
   "execution_count": 11,
   "id": "54ed738a",
   "metadata": {},
   "outputs": [
    {
     "data": {
      "image/png": "[encoded data removed]",
      "text/plain": [
       "<Figure size 432x288 with 1 Axes>"
      ]
     },
     "metadata": {
      "needs_background": "light"
     },
     "output_type": "display_data"
    }
   ],
   "source": [
    "for i in zip(x_sc.inverse_transform(X_train), y_train):\n",
    "    X = i[0]\n",
    "    y = i[1]\n",
    "    y_pred = svc_calssifier.predict(x_sc.transform([X]))\n",
    "    if y == y_pred[0]:\n",
    "        plt.scatter(\n",
    "            x=X[0], y=X[1], marker='o',\n",
    "            color=('#8B0000', '#006400')[y_pred[0]], \n",
    "            label=('Not Purchased (Predicted)', 'Purchased (Predicted)')[y_pred[0]]\n",
    "        )\n",
    "    else:\n",
    "        plt.scatter(\n",
    "            x=X[0], y=X[1], marker='P',\n",
    "            color=('#FF0000', '#00FF00')[y_pred[0]], \n",
    "            label=('Not Purchased (Wrong Predicted)', 'Purchased (Wrong Predicted)')[y_pred[0]]\n",
    "        )\n",
    "plt.title(\"SVC (Training dataset)\")\n",
    "plt.xlabel(\"Age\")\n",
    "plt.ylabel(\"Estimated Salary\")\n",
    "\n",
    "handles, labels = plt.gca().get_legend_handles_labels()\n",
    "label_dict = dict(zip(labels, handles))\n",
    "by_label = {key:label_dict[key] for key in sorted(label_dict)}\n",
    "plt.legend(by_label.values(), by_label.keys(), loc='upper right', edgecolor=\"black\", bbox_to_anchor=(1.65, 1))\n",
    "plt.show()"
   ]
  },
  {
   "cell_type": "markdown",
   "id": "8226a9b2",
   "metadata": {},
   "source": [
    "## Visualising Test Set Result"
   ]
  },
  {
   "cell_type": "code",
   "execution_count": 12,
   "id": "62a18e08",
   "metadata": {},
   "outputs": [
    {
     "data": {
      "image/png": "[encoded data removed]",
      "text/plain": [
       "<Figure size 432x288 with 1 Axes>"
      ]
     },
     "metadata": {
      "needs_background": "light"
     },
     "output_type": "display_data"
    }
   ],
   "source": [
    "for i in zip(x_sc.inverse_transform(X_test), y_test):\n",
    "    X = i[0]\n",
    "    y = i[1]\n",
    "    y_pred = svc_calssifier.predict(x_sc.transform([X]))\n",
    "    if y == y_pred[0]:\n",
    "        plt.scatter(\n",
    "            x=X[0], y=X[1], marker='o',\n",
    "            color=('#8B0000', '#006400')[y_pred[0]], \n",
    "            label=('Not Purchased (Predicted)', 'Purchased (Predicted)')[y_pred[0]]\n",
    "        )\n",
    "    else:\n",
    "        plt.scatter(\n",
    "            x=X[0], y=X[1], marker='P',\n",
    "            color=('#FF0000', '#00FF00')[y_pred[0]], \n",
    "            label=('Not Purchased (Wrong Predicted)', 'Purchased (Wrong Predicted)')[y_pred[0]]\n",
    "        )\n",
    "plt.title(\"SVC (Testing dataset)\")\n",
    "plt.xlabel(\"Age\")\n",
    "plt.ylabel(\"Estimated Salary\")\n",
    "\n",
    "handles, labels = plt.gca().get_legend_handles_labels()\n",
    "label_dict = dict(zip(labels, handles))\n",
    "by_label = {key:label_dict[key] for key in sorted(label_dict)}\n",
    "plt.legend(by_label.values(), by_label.keys(), loc='upper right', edgecolor=\"black\", bbox_to_anchor=(1.65, 1))\n",
    "plt.show()"
   ]
  }
 ],
 "metadata": {
  "interpreter": {
   "hash": "b3ba2566441a7c06988d0923437866b63cedc61552a5af99d1f4fb67d367b25f"
  },
  "kernelspec": {
   "display_name": "Python 3",
   "language": "python",
   "name": "python3"
  },
  "language_info": {
   "codemirror_mode": {
    "name": "ipython",
    "version": 3
   },
   "file_extension": ".py",
   "mimetype": "text/x-python",
   "name": "python",
   "nbconvert_exporter": "python",
   "pygments_lexer": "ipython3",
   "version": "3.8.8"
  }
 },
 "nbformat": 4,
 "nbformat_minor": 5
}
